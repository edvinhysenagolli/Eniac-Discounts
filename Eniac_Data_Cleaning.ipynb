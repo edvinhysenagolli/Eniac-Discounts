{
  "cells": [
    {
      "cell_type": "markdown",
      "metadata": {
        "id": "view-in-github",
        "colab_type": "text"
      },
      "source": [
        "<a href=\"https://colab.research.google.com/github/edvinhysenagolli/Eniac-Discounts/blob/main/Eniac_Data_Cleaning.ipynb\" target=\"_parent\"><img src=\"https://colab.research.google.com/assets/colab-badge.svg\" alt=\"Open In Colab\"/></a>"
      ]
    },
    {
      "cell_type": "markdown",
      "metadata": {
        "id": "rQiuUPRYHv5U"
      },
      "source": [
        "#**Data Cleaning** and **Data Visualization**"
      ]
    },
    {
      "cell_type": "code",
      "execution_count": null,
      "metadata": {
        "id": "SKu_FG0HH_52"
      },
      "outputs": [],
      "source": [
        "# import libraries\n",
        "import pandas as pd\n",
        "import numpy as np\n",
        "from matplotlib import pyplot as plt\n",
        "import seaborn as sns"
      ]
    },
    {
      "cell_type": "code",
      "execution_count": null,
      "metadata": {
        "id": "IQT82lu0HmBZ"
      },
      "outputs": [],
      "source": [
        "# load data\n",
        "# This code is made to load our data stored on Google Drive\n",
        "def gd_path(file_id):\n",
        "    \"\"\"Generate a shareable link from Google Drive file id.\"\"\"\n",
        "    return f\"https://drive.google.com/uc?export=download&id={file_id}\"\n",
        "\n",
        "csv_names = ['products', 'orders', 'orderlines', 'brands']\n",
        "\n",
        "# Google Drive file ids\n",
        "\n",
        "\n",
        "files_id = {\n",
        "    'products':\"1afxwDXfl-7cQ_qLwyDitfcCx3u7WMvkU\",\n",
        "    'orders':\"1Vu0q91qZw6lqhIqbjoXYvYAQTmVHh6uZ\",\n",
        "    'orderlines':\"1FYhN_2AzTBFuWcfHaRuKcuCE6CWXsWtG\",\n",
        "    'brands':\"1m1ThDDIYRTTii-rqM5SEQjJ8McidJskD\"\n",
        "}\n",
        "\n",
        "# Read data from Google Drive\n",
        "products = pd.read_csv(gd_path(files_id['products']), sep=\",\")\n",
        "orders = pd.read_csv(gd_path(files_id['orders']), sep=\",\")\n",
        "orderlines = pd.read_csv(gd_path(files_id['orderlines']), sep=\",\")\n",
        "brands = pd.read_csv(gd_path(files_id['brands']), sep=\",\")"
      ]
    },
    {
      "cell_type": "code",
      "execution_count": null,
      "metadata": {
        "id": "OfuVphJ5Kqoa"
      },
      "outputs": [],
      "source": [
        "# Form Pandas display format\n",
        "pd.set_option('display.max_rows', 1000)\n",
        "pd.set_option('display.float_format', lambda x: '%.2f' % x)"
      ]
    },
    {
      "cell_type": "markdown",
      "metadata": {
        "id": "n8Rgd8GAAiM2"
      },
      "source": [
        "# Brands"
      ]
    },
    {
      "cell_type": "markdown",
      "metadata": {
        "id": "6xjVzajOAouD"
      },
      "source": [
        "**brands.csv**\n",
        "\n",
        "* `short` - the 3-character code by which the brand can be identified in the\n",
        "first 3 characters of products.sku\n",
        "\n",
        "* `long` - full name of the brand"
      ]
    },
    {
      "cell_type": "code",
      "execution_count": null,
      "metadata": {
        "colab": {
          "base_uri": "https://localhost:8080/"
        },
        "id": "hbq82oUdAljQ",
        "outputId": "57d03958-4cff-4d09-e297-5da699425591"
      },
      "outputs": [
        {
          "name": "stdout",
          "output_type": "stream",
          "text": [
            "<class 'pandas.core.frame.DataFrame'>\n",
            "RangeIndex: 187 entries, 0 to 186\n",
            "Data columns (total 2 columns):\n",
            " #   Column  Non-Null Count  Dtype \n",
            "---  ------  --------------  ----- \n",
            " 0   short   187 non-null    object\n",
            " 1   long    187 non-null    object\n",
            "dtypes: object(2)\n",
            "memory usage: 3.0+ KB\n"
          ]
        }
      ],
      "source": [
        "brands.info()"
      ]
    },
    {
      "cell_type": "code",
      "execution_count": null,
      "metadata": {
        "colab": {
          "base_uri": "https://localhost:8080/"
        },
        "id": "jYyb13o3BP_Q",
        "outputId": "9c09bc25-cf65-4dd3-9c01-09a59b600a61"
      },
      "outputs": [
        {
          "data": {
            "text/plain": [
              "0"
            ]
          },
          "execution_count": 5,
          "metadata": {},
          "output_type": "execute_result"
        }
      ],
      "source": [
        "brands.duplicated().sum()"
      ]
    },
    {
      "cell_type": "markdown",
      "metadata": {
        "id": "0kYjEnOcglds"
      },
      "source": [
        "# Products"
      ]
    },
    {
      "cell_type": "markdown",
      "metadata": {
        "id": "J6ix3sUXg4N-"
      },
      "source": [
        "* `sku` -> stock keeping unit: a unique identifier for each product\n",
        "* `name`-> product name\n",
        "* `desc` -> product description\n",
        "* `in_stock` -> whether or not the product was in stock at the moment of the data extraction\n",
        "* `type` -> a numerical code for product type"
      ]
    },
    {
      "cell_type": "code",
      "execution_count": null,
      "metadata": {
        "colab": {
          "base_uri": "https://localhost:8080/"
        },
        "id": "tlfAcL8Rgs8i",
        "outputId": "063dcba5-0e30-43bc-8273-51dd6d9d7eb7"
      },
      "outputs": [
        {
          "name": "stdout",
          "output_type": "stream",
          "text": [
            "<class 'pandas.core.frame.DataFrame'>\n",
            "RangeIndex: 19326 entries, 0 to 19325\n",
            "Data columns (total 7 columns):\n",
            " #   Column       Non-Null Count  Dtype \n",
            "---  ------       --------------  ----- \n",
            " 0   sku          19326 non-null  object\n",
            " 1   name         19326 non-null  object\n",
            " 2   desc         19319 non-null  object\n",
            " 3   price        19280 non-null  object\n",
            " 4   promo_price  19326 non-null  object\n",
            " 5   in_stock     19326 non-null  int64 \n",
            " 6   type         19276 non-null  object\n",
            "dtypes: int64(1), object(6)\n",
            "memory usage: 1.0+ MB\n"
          ]
        }
      ],
      "source": [
        "products.info()"
      ]
    },
    {
      "cell_type": "markdown",
      "metadata": {
        "id": "_vTflRbApTqX"
      },
      "source": [
        "### Checking info for products\n",
        "\n",
        "\n",
        "*   Duplicates (droping)\n",
        "*   Missing values\n",
        "\n",
        "\n",
        "\n",
        "\n",
        "\n"
      ]
    },
    {
      "cell_type": "code",
      "execution_count": null,
      "metadata": {
        "colab": {
          "base_uri": "https://localhost:8080/"
        },
        "id": "bWw3wEjihVE7",
        "outputId": "072296ee-078f-4c2f-ddd5-787ef9c79d62"
      },
      "outputs": [
        {
          "data": {
            "text/plain": [
              "8746"
            ]
          },
          "execution_count": 7,
          "metadata": {},
          "output_type": "execute_result"
        }
      ],
      "source": [
        "products.duplicated().sum()"
      ]
    },
    {
      "cell_type": "code",
      "execution_count": null,
      "metadata": {
        "id": "WEmGXnTQhpMt"
      },
      "outputs": [],
      "source": [
        "#droping duplicates\n",
        "products = products.drop_duplicates()"
      ]
    },
    {
      "cell_type": "code",
      "execution_count": null,
      "metadata": {
        "colab": {
          "base_uri": "https://localhost:8080/"
        },
        "id": "4sa96Skehsh6",
        "outputId": "f5d3241e-eff9-4bae-a713-871d9aa9514e"
      },
      "outputs": [
        {
          "name": "stdout",
          "output_type": "stream",
          "text": [
            "<class 'pandas.core.frame.DataFrame'>\n",
            "Int64Index: 10580 entries, 0 to 19325\n",
            "Data columns (total 7 columns):\n",
            " #   Column       Non-Null Count  Dtype \n",
            "---  ------       --------------  ----- \n",
            " 0   sku          10580 non-null  object\n",
            " 1   name         10580 non-null  object\n",
            " 2   desc         10573 non-null  object\n",
            " 3   price        10534 non-null  object\n",
            " 4   promo_price  10580 non-null  object\n",
            " 5   in_stock     10580 non-null  int64 \n",
            " 6   type         10530 non-null  object\n",
            "dtypes: int64(1), object(6)\n",
            "memory usage: 661.2+ KB\n"
          ]
        }
      ],
      "source": [
        "products.info()"
      ]
    },
    {
      "cell_type": "code",
      "execution_count": null,
      "metadata": {
        "colab": {
          "base_uri": "https://localhost:8080/",
          "height": 269
        },
        "id": "NphlJAD4inSW",
        "outputId": "82bc2f6c-2cd5-4109-c508-23feaf5833d1"
      },
      "outputs": [
        {
          "data": {
            "text/html": [
              "\n",
              "  <div id=\"df-937748e3-4e61-4d91-a886-a2471c9012d1\">\n",
              "    <div class=\"colab-df-container\">\n",
              "      <div>\n",
              "<style scoped>\n",
              "    .dataframe tbody tr th:only-of-type {\n",
              "        vertical-align: middle;\n",
              "    }\n",
              "\n",
              "    .dataframe tbody tr th {\n",
              "        vertical-align: top;\n",
              "    }\n",
              "\n",
              "    .dataframe thead th {\n",
              "        text-align: right;\n",
              "    }\n",
              "</style>\n",
              "<table border=\"1\" class=\"dataframe\">\n",
              "  <thead>\n",
              "    <tr style=\"text-align: right;\">\n",
              "      <th></th>\n",
              "      <th>sku</th>\n",
              "      <th>name</th>\n",
              "      <th>desc</th>\n",
              "      <th>price</th>\n",
              "      <th>promo_price</th>\n",
              "      <th>in_stock</th>\n",
              "      <th>type</th>\n",
              "    </tr>\n",
              "  </thead>\n",
              "  <tbody>\n",
              "    <tr>\n",
              "      <th>16126</th>\n",
              "      <td>WDT0211-A</td>\n",
              "      <td>Open - Purple 2TB WD 35 \"PC Security Mac hard ...</td>\n",
              "      <td>NaN</td>\n",
              "      <td>107</td>\n",
              "      <td>814.659</td>\n",
              "      <td>0</td>\n",
              "      <td>1298</td>\n",
              "    </tr>\n",
              "    <tr>\n",
              "      <th>16128</th>\n",
              "      <td>APP1622-A</td>\n",
              "      <td>Open - Apple Smart Keyboard Pro Keyboard Folio...</td>\n",
              "      <td>NaN</td>\n",
              "      <td>1.568.206</td>\n",
              "      <td>1.568.206</td>\n",
              "      <td>0</td>\n",
              "      <td>1298</td>\n",
              "    </tr>\n",
              "    <tr>\n",
              "      <th>17843</th>\n",
              "      <td>PAC2334</td>\n",
              "      <td>Synology DS718 + NAS Server | 10GB RAM</td>\n",
              "      <td>NaN</td>\n",
              "      <td>566.35</td>\n",
              "      <td>5.659.896</td>\n",
              "      <td>0</td>\n",
              "      <td>12175397</td>\n",
              "    </tr>\n",
              "    <tr>\n",
              "      <th>18152</th>\n",
              "      <td>KAN0034-A</td>\n",
              "      <td>Open - Kanex USB-C Gigabit Ethernet Adapter Ma...</td>\n",
              "      <td>NaN</td>\n",
              "      <td>29.99</td>\n",
              "      <td>237.925</td>\n",
              "      <td>0</td>\n",
              "      <td>1298</td>\n",
              "    </tr>\n",
              "    <tr>\n",
              "      <th>18490</th>\n",
              "      <td>HTE0025</td>\n",
              "      <td>Hyper Pearl 1600mAh battery Mini USB Mirror an...</td>\n",
              "      <td>NaN</td>\n",
              "      <td>24.99</td>\n",
              "      <td>22.99</td>\n",
              "      <td>1</td>\n",
              "      <td>1515</td>\n",
              "    </tr>\n",
              "    <tr>\n",
              "      <th>18612</th>\n",
              "      <td>OTT0200</td>\n",
              "      <td>OtterBox External Battery Power Pack 20000 mAHr</td>\n",
              "      <td>NaN</td>\n",
              "      <td>79.99</td>\n",
              "      <td>56.99</td>\n",
              "      <td>1</td>\n",
              "      <td>1515</td>\n",
              "    </tr>\n",
              "    <tr>\n",
              "      <th>18690</th>\n",
              "      <td>HOW0001-A</td>\n",
              "      <td>Open - Honeywell thermostat Lyric zonificador ...</td>\n",
              "      <td>NaN</td>\n",
              "      <td>199.99</td>\n",
              "      <td>1.441.174</td>\n",
              "      <td>0</td>\n",
              "      <td>11905404</td>\n",
              "    </tr>\n",
              "  </tbody>\n",
              "</table>\n",
              "</div>\n",
              "      <button class=\"colab-df-convert\" onclick=\"convertToInteractive('df-937748e3-4e61-4d91-a886-a2471c9012d1')\"\n",
              "              title=\"Convert this dataframe to an interactive table.\"\n",
              "              style=\"display:none;\">\n",
              "        \n",
              "  <svg xmlns=\"http://www.w3.org/2000/svg\" height=\"24px\"viewBox=\"0 0 24 24\"\n",
              "       width=\"24px\">\n",
              "    <path d=\"M0 0h24v24H0V0z\" fill=\"none\"/>\n",
              "    <path d=\"M18.56 5.44l.94 2.06.94-2.06 2.06-.94-2.06-.94-.94-2.06-.94 2.06-2.06.94zm-11 1L8.5 8.5l.94-2.06 2.06-.94-2.06-.94L8.5 2.5l-.94 2.06-2.06.94zm10 10l.94 2.06.94-2.06 2.06-.94-2.06-.94-.94-2.06-.94 2.06-2.06.94z\"/><path d=\"M17.41 7.96l-1.37-1.37c-.4-.4-.92-.59-1.43-.59-.52 0-1.04.2-1.43.59L10.3 9.45l-7.72 7.72c-.78.78-.78 2.05 0 2.83L4 21.41c.39.39.9.59 1.41.59.51 0 1.02-.2 1.41-.59l7.78-7.78 2.81-2.81c.8-.78.8-2.07 0-2.86zM5.41 20L4 18.59l7.72-7.72 1.47 1.35L5.41 20z\"/>\n",
              "  </svg>\n",
              "      </button>\n",
              "      \n",
              "  <style>\n",
              "    .colab-df-container {\n",
              "      display:flex;\n",
              "      flex-wrap:wrap;\n",
              "      gap: 12px;\n",
              "    }\n",
              "\n",
              "    .colab-df-convert {\n",
              "      background-color: #E8F0FE;\n",
              "      border: none;\n",
              "      border-radius: 50%;\n",
              "      cursor: pointer;\n",
              "      display: none;\n",
              "      fill: #1967D2;\n",
              "      height: 32px;\n",
              "      padding: 0 0 0 0;\n",
              "      width: 32px;\n",
              "    }\n",
              "\n",
              "    .colab-df-convert:hover {\n",
              "      background-color: #E2EBFA;\n",
              "      box-shadow: 0px 1px 2px rgba(60, 64, 67, 0.3), 0px 1px 3px 1px rgba(60, 64, 67, 0.15);\n",
              "      fill: #174EA6;\n",
              "    }\n",
              "\n",
              "    [theme=dark] .colab-df-convert {\n",
              "      background-color: #3B4455;\n",
              "      fill: #D2E3FC;\n",
              "    }\n",
              "\n",
              "    [theme=dark] .colab-df-convert:hover {\n",
              "      background-color: #434B5C;\n",
              "      box-shadow: 0px 1px 3px 1px rgba(0, 0, 0, 0.15);\n",
              "      filter: drop-shadow(0px 1px 2px rgba(0, 0, 0, 0.3));\n",
              "      fill: #FFFFFF;\n",
              "    }\n",
              "  </style>\n",
              "\n",
              "      <script>\n",
              "        const buttonEl =\n",
              "          document.querySelector('#df-937748e3-4e61-4d91-a886-a2471c9012d1 button.colab-df-convert');\n",
              "        buttonEl.style.display =\n",
              "          google.colab.kernel.accessAllowed ? 'block' : 'none';\n",
              "\n",
              "        async function convertToInteractive(key) {\n",
              "          const element = document.querySelector('#df-937748e3-4e61-4d91-a886-a2471c9012d1');\n",
              "          const dataTable =\n",
              "            await google.colab.kernel.invokeFunction('convertToInteractive',\n",
              "                                                     [key], {});\n",
              "          if (!dataTable) return;\n",
              "\n",
              "          const docLinkHtml = 'Like what you see? Visit the ' +\n",
              "            '<a target=\"_blank\" href=https://colab.research.google.com/notebooks/data_table.ipynb>data table notebook</a>'\n",
              "            + ' to learn more about interactive tables.';\n",
              "          element.innerHTML = '';\n",
              "          dataTable['output_type'] = 'display_data';\n",
              "          await google.colab.output.renderOutput(dataTable, element);\n",
              "          const docLink = document.createElement('div');\n",
              "          docLink.innerHTML = docLinkHtml;\n",
              "          element.appendChild(docLink);\n",
              "        }\n",
              "      </script>\n",
              "    </div>\n",
              "  </div>\n",
              "  "
            ],
            "text/plain": [
              "             sku                                               name desc  \\\n",
              "16126  WDT0211-A  Open - Purple 2TB WD 35 \"PC Security Mac hard ...  NaN   \n",
              "16128  APP1622-A  Open - Apple Smart Keyboard Pro Keyboard Folio...  NaN   \n",
              "17843    PAC2334             Synology DS718 + NAS Server | 10GB RAM  NaN   \n",
              "18152  KAN0034-A  Open - Kanex USB-C Gigabit Ethernet Adapter Ma...  NaN   \n",
              "18490    HTE0025  Hyper Pearl 1600mAh battery Mini USB Mirror an...  NaN   \n",
              "18612    OTT0200    OtterBox External Battery Power Pack 20000 mAHr  NaN   \n",
              "18690  HOW0001-A  Open - Honeywell thermostat Lyric zonificador ...  NaN   \n",
              "\n",
              "           price promo_price  in_stock      type  \n",
              "16126        107     814.659         0      1298  \n",
              "16128  1.568.206   1.568.206         0      1298  \n",
              "17843     566.35   5.659.896         0  12175397  \n",
              "18152      29.99     237.925         0      1298  \n",
              "18490      24.99       22.99         1      1515  \n",
              "18612      79.99       56.99         1      1515  \n",
              "18690     199.99   1.441.174         0  11905404  "
            ]
          },
          "execution_count": 10,
          "metadata": {},
          "output_type": "execute_result"
        }
      ],
      "source": [
        "# there some missing values\n",
        "\n",
        "products[\"desc\"].isna().sum()\n",
        "\n",
        "products.loc[products['desc'].isna(), :]"
      ]
    },
    {
      "cell_type": "code",
      "execution_count": null,
      "metadata": {
        "id": "cGgAyMUJopRT"
      },
      "outputs": [],
      "source": [
        "products = products.dropna(subset=['desc'])\n"
      ]
    },
    {
      "cell_type": "code",
      "execution_count": null,
      "metadata": {
        "id": "MRNDSUudjHZK"
      },
      "outputs": [],
      "source": [
        "products = products.dropna(subset=['price'])"
      ]
    },
    {
      "cell_type": "code",
      "execution_count": null,
      "metadata": {
        "colab": {
          "base_uri": "https://localhost:8080/"
        },
        "id": "9IJX8awLosVi",
        "outputId": "425d37da-b6a0-4e23-e122-9d75ac26fb3a"
      },
      "outputs": [
        {
          "name": "stdout",
          "output_type": "stream",
          "text": [
            "<class 'pandas.core.frame.DataFrame'>\n",
            "Int64Index: 10527 entries, 0 to 19325\n",
            "Data columns (total 7 columns):\n",
            " #   Column       Non-Null Count  Dtype \n",
            "---  ------       --------------  ----- \n",
            " 0   sku          10527 non-null  object\n",
            " 1   name         10527 non-null  object\n",
            " 2   desc         10527 non-null  object\n",
            " 3   price        10527 non-null  object\n",
            " 4   promo_price  10527 non-null  object\n",
            " 5   in_stock     10527 non-null  int64 \n",
            " 6   type         10477 non-null  object\n",
            "dtypes: int64(1), object(6)\n",
            "memory usage: 657.9+ KB\n"
          ]
        }
      ],
      "source": [
        "products.info()"
      ]
    },
    {
      "cell_type": "markdown",
      "metadata": {
        "id": "mG88cjisp6Yz"
      },
      "source": [
        "###`Price` analysis"
      ]
    },
    {
      "cell_type": "code",
      "execution_count": null,
      "metadata": {
        "colab": {
          "base_uri": "https://localhost:8080/",
          "height": 206
        },
        "id": "aob3EgrWp_Sk",
        "outputId": "c6a32f5b-bd2b-4a0e-b722-2f4dccdd36bf"
      },
      "outputs": [
        {
          "data": {
            "text/html": [
              "\n",
              "  <div id=\"df-4a16d4b0-2ed5-43f9-8e65-187b8ad17aa1\">\n",
              "    <div class=\"colab-df-container\">\n",
              "      <div>\n",
              "<style scoped>\n",
              "    .dataframe tbody tr th:only-of-type {\n",
              "        vertical-align: middle;\n",
              "    }\n",
              "\n",
              "    .dataframe tbody tr th {\n",
              "        vertical-align: top;\n",
              "    }\n",
              "\n",
              "    .dataframe thead th {\n",
              "        text-align: right;\n",
              "    }\n",
              "</style>\n",
              "<table border=\"1\" class=\"dataframe\">\n",
              "  <thead>\n",
              "    <tr style=\"text-align: right;\">\n",
              "      <th></th>\n",
              "      <th>name</th>\n",
              "      <th>price</th>\n",
              "      <th>promo_price</th>\n",
              "    </tr>\n",
              "  </thead>\n",
              "  <tbody>\n",
              "    <tr>\n",
              "      <th>10483</th>\n",
              "      <td>Apple iMac 27 \"Core i7 Retina 5K 4GHz | 32GB R...</td>\n",
              "      <td>4849</td>\n",
              "      <td>35.129.906</td>\n",
              "    </tr>\n",
              "    <tr>\n",
              "      <th>17032</th>\n",
              "      <td>OWC USB Dock-C 10-port power 80W Rose Gold</td>\n",
              "      <td>217.99</td>\n",
              "      <td>1.799.899</td>\n",
              "    </tr>\n",
              "    <tr>\n",
              "      <th>3129</th>\n",
              "      <td>Case Apple iPhone 6 Plus / 6s Plus Silicone Ca...</td>\n",
              "      <td>45</td>\n",
              "      <td>449.999</td>\n",
              "    </tr>\n",
              "    <tr>\n",
              "      <th>2808</th>\n",
              "      <td>OtterBox Strada Leather Folio Case Black iPhone 6</td>\n",
              "      <td>49.99</td>\n",
              "      <td>329.894</td>\n",
              "    </tr>\n",
              "    <tr>\n",
              "      <th>2719</th>\n",
              "      <td>Western Digital My Passport Ultra 3TB hard dri...</td>\n",
              "      <td>149.99</td>\n",
              "      <td>1.269.895</td>\n",
              "    </tr>\n",
              "  </tbody>\n",
              "</table>\n",
              "</div>\n",
              "      <button class=\"colab-df-convert\" onclick=\"convertToInteractive('df-4a16d4b0-2ed5-43f9-8e65-187b8ad17aa1')\"\n",
              "              title=\"Convert this dataframe to an interactive table.\"\n",
              "              style=\"display:none;\">\n",
              "        \n",
              "  <svg xmlns=\"http://www.w3.org/2000/svg\" height=\"24px\"viewBox=\"0 0 24 24\"\n",
              "       width=\"24px\">\n",
              "    <path d=\"M0 0h24v24H0V0z\" fill=\"none\"/>\n",
              "    <path d=\"M18.56 5.44l.94 2.06.94-2.06 2.06-.94-2.06-.94-.94-2.06-.94 2.06-2.06.94zm-11 1L8.5 8.5l.94-2.06 2.06-.94-2.06-.94L8.5 2.5l-.94 2.06-2.06.94zm10 10l.94 2.06.94-2.06 2.06-.94-2.06-.94-.94-2.06-.94 2.06-2.06.94z\"/><path d=\"M17.41 7.96l-1.37-1.37c-.4-.4-.92-.59-1.43-.59-.52 0-1.04.2-1.43.59L10.3 9.45l-7.72 7.72c-.78.78-.78 2.05 0 2.83L4 21.41c.39.39.9.59 1.41.59.51 0 1.02-.2 1.41-.59l7.78-7.78 2.81-2.81c.8-.78.8-2.07 0-2.86zM5.41 20L4 18.59l7.72-7.72 1.47 1.35L5.41 20z\"/>\n",
              "  </svg>\n",
              "      </button>\n",
              "      \n",
              "  <style>\n",
              "    .colab-df-container {\n",
              "      display:flex;\n",
              "      flex-wrap:wrap;\n",
              "      gap: 12px;\n",
              "    }\n",
              "\n",
              "    .colab-df-convert {\n",
              "      background-color: #E8F0FE;\n",
              "      border: none;\n",
              "      border-radius: 50%;\n",
              "      cursor: pointer;\n",
              "      display: none;\n",
              "      fill: #1967D2;\n",
              "      height: 32px;\n",
              "      padding: 0 0 0 0;\n",
              "      width: 32px;\n",
              "    }\n",
              "\n",
              "    .colab-df-convert:hover {\n",
              "      background-color: #E2EBFA;\n",
              "      box-shadow: 0px 1px 2px rgba(60, 64, 67, 0.3), 0px 1px 3px 1px rgba(60, 64, 67, 0.15);\n",
              "      fill: #174EA6;\n",
              "    }\n",
              "\n",
              "    [theme=dark] .colab-df-convert {\n",
              "      background-color: #3B4455;\n",
              "      fill: #D2E3FC;\n",
              "    }\n",
              "\n",
              "    [theme=dark] .colab-df-convert:hover {\n",
              "      background-color: #434B5C;\n",
              "      box-shadow: 0px 1px 3px 1px rgba(0, 0, 0, 0.15);\n",
              "      filter: drop-shadow(0px 1px 2px rgba(0, 0, 0, 0.3));\n",
              "      fill: #FFFFFF;\n",
              "    }\n",
              "  </style>\n",
              "\n",
              "      <script>\n",
              "        const buttonEl =\n",
              "          document.querySelector('#df-4a16d4b0-2ed5-43f9-8e65-187b8ad17aa1 button.colab-df-convert');\n",
              "        buttonEl.style.display =\n",
              "          google.colab.kernel.accessAllowed ? 'block' : 'none';\n",
              "\n",
              "        async function convertToInteractive(key) {\n",
              "          const element = document.querySelector('#df-4a16d4b0-2ed5-43f9-8e65-187b8ad17aa1');\n",
              "          const dataTable =\n",
              "            await google.colab.kernel.invokeFunction('convertToInteractive',\n",
              "                                                     [key], {});\n",
              "          if (!dataTable) return;\n",
              "\n",
              "          const docLinkHtml = 'Like what you see? Visit the ' +\n",
              "            '<a target=\"_blank\" href=https://colab.research.google.com/notebooks/data_table.ipynb>data table notebook</a>'\n",
              "            + ' to learn more about interactive tables.';\n",
              "          element.innerHTML = '';\n",
              "          dataTable['output_type'] = 'display_data';\n",
              "          await google.colab.output.renderOutput(dataTable, element);\n",
              "          const docLink = document.createElement('div');\n",
              "          docLink.innerHTML = docLinkHtml;\n",
              "          element.appendChild(docLink);\n",
              "        }\n",
              "      </script>\n",
              "    </div>\n",
              "  </div>\n",
              "  "
            ],
            "text/plain": [
              "                                                    name   price promo_price\n",
              "10483  Apple iMac 27 \"Core i7 Retina 5K 4GHz | 32GB R...    4849  35.129.906\n",
              "17032         OWC USB Dock-C 10-port power 80W Rose Gold  217.99   1.799.899\n",
              "3129   Case Apple iPhone 6 Plus / 6s Plus Silicone Ca...      45     449.999\n",
              "2808   OtterBox Strada Leather Folio Case Black iPhone 6   49.99     329.894\n",
              "2719   Western Digital My Passport Ultra 3TB hard dri...  149.99   1.269.895"
            ]
          },
          "execution_count": 14,
          "metadata": {},
          "output_type": "execute_result"
        }
      ],
      "source": [
        "products[['name', 'price', 'promo_price']].sample(5)"
      ]
    },
    {
      "cell_type": "code",
      "execution_count": null,
      "metadata": {
        "colab": {
          "base_uri": "https://localhost:8080/"
        },
        "id": "Rmo8Kdv2q8ND",
        "outputId": "1123b846-1af5-4728-b6ab-3be1692c4ba4"
      },
      "outputs": [
        {
          "data": {
            "text/plain": [
              "541"
            ]
          },
          "execution_count": 15,
          "metadata": {},
          "output_type": "execute_result"
        }
      ],
      "source": [
        "price_problems_number = products.loc[(products.price.astype(str).str.contains(\"\\d+\\.\\d+\\.\\d+\"))|(products.price.astype(str).str.contains(\"\\d+\\.\\d{3,}\")), :].shape[0]\n",
        "price_problems_number"
      ]
    },
    {
      "cell_type": "code",
      "execution_count": null,
      "metadata": {
        "colab": {
          "base_uri": "https://localhost:8080/"
        },
        "id": "RNqIulaPsRGr",
        "outputId": "aa054cfc-3051-4fe1-b26c-e0cb69434de5"
      },
      "outputs": [
        {
          "name": "stdout",
          "output_type": "stream",
          "text": [
            "The column price has in total 541 wrong values. This is 5.14% of the rows of the DataFrame\n"
          ]
        }
      ],
      "source": [
        "print(f\"The column price has in total {price_problems_number} wrong values. This is {round(((price_problems_number / products.shape[0]) * 100), 2)}% of the rows of the DataFrame\")\n",
        "\n",
        "# going to drop these rows as to not affect the results later on"
      ]
    },
    {
      "cell_type": "code",
      "execution_count": null,
      "metadata": {
        "id": "3b1xS8fvshEg"
      },
      "outputs": [],
      "source": [
        "products = products.loc[(~products.price.astype(str).str.contains(\"\\d+\\.\\d+\\.\\d+\"))&(~products.price.astype(str).str.contains(\"\\d+\\.\\d{3,}\")), :]"
      ]
    },
    {
      "cell_type": "code",
      "execution_count": null,
      "metadata": {
        "colab": {
          "base_uri": "https://localhost:8080/",
          "height": 206
        },
        "id": "oSg7xio2sm6u",
        "outputId": "05053df8-01f7-4880-9498-187315d3747e"
      },
      "outputs": [
        {
          "data": {
            "text/html": [
              "\n",
              "  <div id=\"df-3aaa6d0c-d112-49e6-8388-ce55aaa58284\">\n",
              "    <div class=\"colab-df-container\">\n",
              "      <div>\n",
              "<style scoped>\n",
              "    .dataframe tbody tr th:only-of-type {\n",
              "        vertical-align: middle;\n",
              "    }\n",
              "\n",
              "    .dataframe tbody tr th {\n",
              "        vertical-align: top;\n",
              "    }\n",
              "\n",
              "    .dataframe thead th {\n",
              "        text-align: right;\n",
              "    }\n",
              "</style>\n",
              "<table border=\"1\" class=\"dataframe\">\n",
              "  <thead>\n",
              "    <tr style=\"text-align: right;\">\n",
              "      <th></th>\n",
              "      <th>sku</th>\n",
              "      <th>name</th>\n",
              "      <th>desc</th>\n",
              "      <th>price</th>\n",
              "      <th>promo_price</th>\n",
              "      <th>in_stock</th>\n",
              "      <th>type</th>\n",
              "    </tr>\n",
              "  </thead>\n",
              "  <tbody>\n",
              "    <tr>\n",
              "      <th>2272</th>\n",
              "      <td>TIG0024</td>\n",
              "      <td>Tigra iPhone Bike Stand + Case 8/7 / 6s / 6</td>\n",
              "      <td>Waterproof Case for iPhone 6 bicycle stand.</td>\n",
              "      <td>39.99</td>\n",
              "      <td>349.896</td>\n",
              "      <td>0</td>\n",
              "      <td>11865403</td>\n",
              "    </tr>\n",
              "    <tr>\n",
              "      <th>13639</th>\n",
              "      <td>BEL0286</td>\n",
              "      <td>Belkin ScreenForce Tempered Glass Protector iP...</td>\n",
              "      <td>Screensaver tempered glass 0.33mm thick hardne...</td>\n",
              "      <td>19.99</td>\n",
              "      <td>169.896</td>\n",
              "      <td>1</td>\n",
              "      <td>13555403</td>\n",
              "    </tr>\n",
              "    <tr>\n",
              "      <th>10858</th>\n",
              "      <td>OTT0102</td>\n",
              "      <td>OtterBox iPhone Case My Symmetry 6 / 6s Transp...</td>\n",
              "      <td>Protective housing with rear transparent and c...</td>\n",
              "      <td>29.99</td>\n",
              "      <td>169.896</td>\n",
              "      <td>0</td>\n",
              "      <td>11865403</td>\n",
              "    </tr>\n",
              "    <tr>\n",
              "      <th>1603</th>\n",
              "      <td>TUC0197</td>\n",
              "      <td>Filo Tucano Folio iPad Air 2 Dorado</td>\n",
              "      <td>rigid collapsible, stylish case with flashes o...</td>\n",
              "      <td>39.99</td>\n",
              "      <td>349.896</td>\n",
              "      <td>0</td>\n",
              "      <td>12635403</td>\n",
              "    </tr>\n",
              "    <tr>\n",
              "      <th>14703</th>\n",
              "      <td>PAC1764</td>\n",
              "      <td>QNAP TS-431P NAS</td>\n",
              "      <td>NAS with 16TB capacity Seagate Hard Drives for...</td>\n",
              "      <td>1021.95</td>\n",
              "      <td>6.913.686</td>\n",
              "      <td>0</td>\n",
              "      <td>12175397</td>\n",
              "    </tr>\n",
              "  </tbody>\n",
              "</table>\n",
              "</div>\n",
              "      <button class=\"colab-df-convert\" onclick=\"convertToInteractive('df-3aaa6d0c-d112-49e6-8388-ce55aaa58284')\"\n",
              "              title=\"Convert this dataframe to an interactive table.\"\n",
              "              style=\"display:none;\">\n",
              "        \n",
              "  <svg xmlns=\"http://www.w3.org/2000/svg\" height=\"24px\"viewBox=\"0 0 24 24\"\n",
              "       width=\"24px\">\n",
              "    <path d=\"M0 0h24v24H0V0z\" fill=\"none\"/>\n",
              "    <path d=\"M18.56 5.44l.94 2.06.94-2.06 2.06-.94-2.06-.94-.94-2.06-.94 2.06-2.06.94zm-11 1L8.5 8.5l.94-2.06 2.06-.94-2.06-.94L8.5 2.5l-.94 2.06-2.06.94zm10 10l.94 2.06.94-2.06 2.06-.94-2.06-.94-.94-2.06-.94 2.06-2.06.94z\"/><path d=\"M17.41 7.96l-1.37-1.37c-.4-.4-.92-.59-1.43-.59-.52 0-1.04.2-1.43.59L10.3 9.45l-7.72 7.72c-.78.78-.78 2.05 0 2.83L4 21.41c.39.39.9.59 1.41.59.51 0 1.02-.2 1.41-.59l7.78-7.78 2.81-2.81c.8-.78.8-2.07 0-2.86zM5.41 20L4 18.59l7.72-7.72 1.47 1.35L5.41 20z\"/>\n",
              "  </svg>\n",
              "      </button>\n",
              "      \n",
              "  <style>\n",
              "    .colab-df-container {\n",
              "      display:flex;\n",
              "      flex-wrap:wrap;\n",
              "      gap: 12px;\n",
              "    }\n",
              "\n",
              "    .colab-df-convert {\n",
              "      background-color: #E8F0FE;\n",
              "      border: none;\n",
              "      border-radius: 50%;\n",
              "      cursor: pointer;\n",
              "      display: none;\n",
              "      fill: #1967D2;\n",
              "      height: 32px;\n",
              "      padding: 0 0 0 0;\n",
              "      width: 32px;\n",
              "    }\n",
              "\n",
              "    .colab-df-convert:hover {\n",
              "      background-color: #E2EBFA;\n",
              "      box-shadow: 0px 1px 2px rgba(60, 64, 67, 0.3), 0px 1px 3px 1px rgba(60, 64, 67, 0.15);\n",
              "      fill: #174EA6;\n",
              "    }\n",
              "\n",
              "    [theme=dark] .colab-df-convert {\n",
              "      background-color: #3B4455;\n",
              "      fill: #D2E3FC;\n",
              "    }\n",
              "\n",
              "    [theme=dark] .colab-df-convert:hover {\n",
              "      background-color: #434B5C;\n",
              "      box-shadow: 0px 1px 3px 1px rgba(0, 0, 0, 0.15);\n",
              "      filter: drop-shadow(0px 1px 2px rgba(0, 0, 0, 0.3));\n",
              "      fill: #FFFFFF;\n",
              "    }\n",
              "  </style>\n",
              "\n",
              "      <script>\n",
              "        const buttonEl =\n",
              "          document.querySelector('#df-3aaa6d0c-d112-49e6-8388-ce55aaa58284 button.colab-df-convert');\n",
              "        buttonEl.style.display =\n",
              "          google.colab.kernel.accessAllowed ? 'block' : 'none';\n",
              "\n",
              "        async function convertToInteractive(key) {\n",
              "          const element = document.querySelector('#df-3aaa6d0c-d112-49e6-8388-ce55aaa58284');\n",
              "          const dataTable =\n",
              "            await google.colab.kernel.invokeFunction('convertToInteractive',\n",
              "                                                     [key], {});\n",
              "          if (!dataTable) return;\n",
              "\n",
              "          const docLinkHtml = 'Like what you see? Visit the ' +\n",
              "            '<a target=\"_blank\" href=https://colab.research.google.com/notebooks/data_table.ipynb>data table notebook</a>'\n",
              "            + ' to learn more about interactive tables.';\n",
              "          element.innerHTML = '';\n",
              "          dataTable['output_type'] = 'display_data';\n",
              "          await google.colab.output.renderOutput(dataTable, element);\n",
              "          const docLink = document.createElement('div');\n",
              "          docLink.innerHTML = docLinkHtml;\n",
              "          element.appendChild(docLink);\n",
              "        }\n",
              "      </script>\n",
              "    </div>\n",
              "  </div>\n",
              "  "
            ],
            "text/plain": [
              "           sku                                               name  \\\n",
              "2272   TIG0024        Tigra iPhone Bike Stand + Case 8/7 / 6s / 6   \n",
              "13639  BEL0286  Belkin ScreenForce Tempered Glass Protector iP...   \n",
              "10858  OTT0102  OtterBox iPhone Case My Symmetry 6 / 6s Transp...   \n",
              "1603   TUC0197                Filo Tucano Folio iPad Air 2 Dorado   \n",
              "14703  PAC1764                                   QNAP TS-431P NAS   \n",
              "\n",
              "                                                    desc    price promo_price  \\\n",
              "2272         Waterproof Case for iPhone 6 bicycle stand.    39.99     349.896   \n",
              "13639  Screensaver tempered glass 0.33mm thick hardne...    19.99     169.896   \n",
              "10858  Protective housing with rear transparent and c...    29.99     169.896   \n",
              "1603   rigid collapsible, stylish case with flashes o...    39.99     349.896   \n",
              "14703  NAS with 16TB capacity Seagate Hard Drives for...  1021.95   6.913.686   \n",
              "\n",
              "       in_stock      type  \n",
              "2272          0  11865403  \n",
              "13639         1  13555403  \n",
              "10858         0  11865403  \n",
              "1603          0  12635403  \n",
              "14703         0  12175397  "
            ]
          },
          "execution_count": 18,
          "metadata": {},
          "output_type": "execute_result"
        }
      ],
      "source": [
        "products.sample(5)"
      ]
    },
    {
      "cell_type": "code",
      "execution_count": null,
      "metadata": {
        "colab": {
          "base_uri": "https://localhost:8080/"
        },
        "id": "1Ab5lJXCsuGo",
        "outputId": "7f758ec6-d064-4e68-ca9c-26fed9826eb1"
      },
      "outputs": [
        {
          "data": {
            "text/plain": [
              "541"
            ]
          },
          "execution_count": 19,
          "metadata": {},
          "output_type": "execute_result"
        }
      ],
      "source": [
        "# checking\n",
        "price_problems_number"
      ]
    },
    {
      "cell_type": "code",
      "execution_count": null,
      "metadata": {
        "id": "CYrwfCSoswil"
      },
      "outputs": [],
      "source": [
        "products[\"price\"] = pd.to_numeric(products[\"price\"])  #converting to float"
      ]
    },
    {
      "cell_type": "code",
      "execution_count": null,
      "metadata": {
        "colab": {
          "base_uri": "https://localhost:8080/"
        },
        "id": "Jd2wGa1Gs7Lx",
        "outputId": "b150f7da-73ad-4f76-a4d8-594b0ccce1ab"
      },
      "outputs": [
        {
          "name": "stdout",
          "output_type": "stream",
          "text": [
            "<class 'pandas.core.frame.DataFrame'>\n",
            "Int64Index: 9986 entries, 0 to 19325\n",
            "Data columns (total 7 columns):\n",
            " #   Column       Non-Null Count  Dtype  \n",
            "---  ------       --------------  -----  \n",
            " 0   sku          9986 non-null   object \n",
            " 1   name         9986 non-null   object \n",
            " 2   desc         9986 non-null   object \n",
            " 3   price        9986 non-null   float64\n",
            " 4   promo_price  9986 non-null   object \n",
            " 5   in_stock     9986 non-null   int64  \n",
            " 6   type         9940 non-null   object \n",
            "dtypes: float64(1), int64(1), object(5)\n",
            "memory usage: 624.1+ KB\n"
          ]
        }
      ],
      "source": [
        "products.info()"
      ]
    },
    {
      "cell_type": "markdown",
      "metadata": {
        "id": "gcoObLA6tEix"
      },
      "source": [
        "###`promo_price`"
      ]
    },
    {
      "cell_type": "code",
      "execution_count": null,
      "metadata": {
        "colab": {
          "base_uri": "https://localhost:8080/"
        },
        "id": "UWf5wCYftDxR",
        "outputId": "4d816f61-4c2b-4c23-98df-a91fd5daa61f"
      },
      "outputs": [
        {
          "data": {
            "text/plain": [
              "9228"
            ]
          },
          "execution_count": 22,
          "metadata": {},
          "output_type": "execute_result"
        }
      ],
      "source": [
        "promo_problems_number = products.loc[(products.promo_price.astype(str).str.contains(\"\\d+\\.\\d+\\.\\d+\"))|(products.promo_price.astype(str).str.contains(\"\\d+\\.\\d{3,}\")), :].shape[0]\n",
        "promo_problems_number"
      ]
    },
    {
      "cell_type": "code",
      "execution_count": null,
      "metadata": {
        "id": "1Z4auXdqtnTo"
      },
      "outputs": [],
      "source": [
        "# this is more than we expected, more than 90% of the data, the column is corrupted, we exclude it."
      ]
    },
    {
      "cell_type": "code",
      "execution_count": null,
      "metadata": {
        "id": "r-Hbdaactyhl"
      },
      "outputs": [],
      "source": [
        "products_cl = products.drop(columns=[\"promo_price\"])"
      ]
    },
    {
      "cell_type": "code",
      "execution_count": null,
      "metadata": {
        "colab": {
          "base_uri": "https://localhost:8080/"
        },
        "id": "GQtLg41gt5zx",
        "outputId": "c6487708-712b-4e2d-e506-8b96a75e71de"
      },
      "outputs": [
        {
          "name": "stdout",
          "output_type": "stream",
          "text": [
            "<class 'pandas.core.frame.DataFrame'>\n",
            "Int64Index: 9986 entries, 0 to 19325\n",
            "Data columns (total 6 columns):\n",
            " #   Column    Non-Null Count  Dtype  \n",
            "---  ------    --------------  -----  \n",
            " 0   sku       9986 non-null   object \n",
            " 1   name      9986 non-null   object \n",
            " 2   desc      9986 non-null   object \n",
            " 3   price     9986 non-null   float64\n",
            " 4   in_stock  9986 non-null   int64  \n",
            " 5   type      9940 non-null   object \n",
            "dtypes: float64(1), int64(1), object(4)\n",
            "memory usage: 546.1+ KB\n"
          ]
        }
      ],
      "source": [
        "products_cl.info() #.sample(5)"
      ]
    },
    {
      "cell_type": "markdown",
      "metadata": {
        "id": "dclB5m_4vtPR"
      },
      "source": [
        "# Orders"
      ]
    },
    {
      "cell_type": "markdown",
      "metadata": {
        "id": "K6yk6a3cxQTf"
      },
      "source": [
        "**orders.csv** – Every row in this file represents an order.\n",
        "* `order_id` – a unique identifier for each order\n",
        "* `created_date` – a timestamp for when the order was created\n",
        "* `total_paid` – the total amount paid by the customer for this order, in euros\n",
        "\n",
        "* `state`\n",
        " * “Shopping basket” – products have been placed in the shopping basket, but the order has not been processed yet.\n",
        " * “Pending” – the shopping basket has been processed, but payment confirmation is pending.\n",
        " * “Completed” – the order has been placed and paid, and the transaction is completed.\n",
        " * “Cancelled” – the order has been cancelled and the payment returned to the\n",
        "customer."
      ]
    },
    {
      "cell_type": "code",
      "execution_count": null,
      "metadata": {
        "colab": {
          "base_uri": "https://localhost:8080/",
          "height": 206
        },
        "id": "e763XBaSx0rP",
        "outputId": "6cc995fc-0faf-46bf-b788-e4be4ea7d73e"
      },
      "outputs": [
        {
          "data": {
            "text/html": [
              "\n",
              "  <div id=\"df-7652a852-84ef-4917-baef-a3197b30b4fe\">\n",
              "    <div class=\"colab-df-container\">\n",
              "      <div>\n",
              "<style scoped>\n",
              "    .dataframe tbody tr th:only-of-type {\n",
              "        vertical-align: middle;\n",
              "    }\n",
              "\n",
              "    .dataframe tbody tr th {\n",
              "        vertical-align: top;\n",
              "    }\n",
              "\n",
              "    .dataframe thead th {\n",
              "        text-align: right;\n",
              "    }\n",
              "</style>\n",
              "<table border=\"1\" class=\"dataframe\">\n",
              "  <thead>\n",
              "    <tr style=\"text-align: right;\">\n",
              "      <th></th>\n",
              "      <th>order_id</th>\n",
              "      <th>created_date</th>\n",
              "      <th>total_paid</th>\n",
              "      <th>state</th>\n",
              "    </tr>\n",
              "  </thead>\n",
              "  <tbody>\n",
              "    <tr>\n",
              "      <th>135903</th>\n",
              "      <td>435595</td>\n",
              "      <td>2017-11-23 19:59:44</td>\n",
              "      <td>258.09</td>\n",
              "      <td>Completed</td>\n",
              "    </tr>\n",
              "    <tr>\n",
              "      <th>50804</th>\n",
              "      <td>350299</td>\n",
              "      <td>2017-04-27 12:06:40</td>\n",
              "      <td>50.97</td>\n",
              "      <td>Completed</td>\n",
              "    </tr>\n",
              "    <tr>\n",
              "      <th>51788</th>\n",
              "      <td>351283</td>\n",
              "      <td>2017-04-30 14:24:48</td>\n",
              "      <td>48.04</td>\n",
              "      <td>Shopping Basket</td>\n",
              "    </tr>\n",
              "    <tr>\n",
              "      <th>97434</th>\n",
              "      <td>397017</td>\n",
              "      <td>2017-09-06 11:01:33</td>\n",
              "      <td>229.99</td>\n",
              "      <td>Place Order</td>\n",
              "    </tr>\n",
              "    <tr>\n",
              "      <th>146357</th>\n",
              "      <td>446452</td>\n",
              "      <td>2017-11-26 23:07:09</td>\n",
              "      <td>29.48</td>\n",
              "      <td>Completed</td>\n",
              "    </tr>\n",
              "  </tbody>\n",
              "</table>\n",
              "</div>\n",
              "      <button class=\"colab-df-convert\" onclick=\"convertToInteractive('df-7652a852-84ef-4917-baef-a3197b30b4fe')\"\n",
              "              title=\"Convert this dataframe to an interactive table.\"\n",
              "              style=\"display:none;\">\n",
              "        \n",
              "  <svg xmlns=\"http://www.w3.org/2000/svg\" height=\"24px\"viewBox=\"0 0 24 24\"\n",
              "       width=\"24px\">\n",
              "    <path d=\"M0 0h24v24H0V0z\" fill=\"none\"/>\n",
              "    <path d=\"M18.56 5.44l.94 2.06.94-2.06 2.06-.94-2.06-.94-.94-2.06-.94 2.06-2.06.94zm-11 1L8.5 8.5l.94-2.06 2.06-.94-2.06-.94L8.5 2.5l-.94 2.06-2.06.94zm10 10l.94 2.06.94-2.06 2.06-.94-2.06-.94-.94-2.06-.94 2.06-2.06.94z\"/><path d=\"M17.41 7.96l-1.37-1.37c-.4-.4-.92-.59-1.43-.59-.52 0-1.04.2-1.43.59L10.3 9.45l-7.72 7.72c-.78.78-.78 2.05 0 2.83L4 21.41c.39.39.9.59 1.41.59.51 0 1.02-.2 1.41-.59l7.78-7.78 2.81-2.81c.8-.78.8-2.07 0-2.86zM5.41 20L4 18.59l7.72-7.72 1.47 1.35L5.41 20z\"/>\n",
              "  </svg>\n",
              "      </button>\n",
              "      \n",
              "  <style>\n",
              "    .colab-df-container {\n",
              "      display:flex;\n",
              "      flex-wrap:wrap;\n",
              "      gap: 12px;\n",
              "    }\n",
              "\n",
              "    .colab-df-convert {\n",
              "      background-color: #E8F0FE;\n",
              "      border: none;\n",
              "      border-radius: 50%;\n",
              "      cursor: pointer;\n",
              "      display: none;\n",
              "      fill: #1967D2;\n",
              "      height: 32px;\n",
              "      padding: 0 0 0 0;\n",
              "      width: 32px;\n",
              "    }\n",
              "\n",
              "    .colab-df-convert:hover {\n",
              "      background-color: #E2EBFA;\n",
              "      box-shadow: 0px 1px 2px rgba(60, 64, 67, 0.3), 0px 1px 3px 1px rgba(60, 64, 67, 0.15);\n",
              "      fill: #174EA6;\n",
              "    }\n",
              "\n",
              "    [theme=dark] .colab-df-convert {\n",
              "      background-color: #3B4455;\n",
              "      fill: #D2E3FC;\n",
              "    }\n",
              "\n",
              "    [theme=dark] .colab-df-convert:hover {\n",
              "      background-color: #434B5C;\n",
              "      box-shadow: 0px 1px 3px 1px rgba(0, 0, 0, 0.15);\n",
              "      filter: drop-shadow(0px 1px 2px rgba(0, 0, 0, 0.3));\n",
              "      fill: #FFFFFF;\n",
              "    }\n",
              "  </style>\n",
              "\n",
              "      <script>\n",
              "        const buttonEl =\n",
              "          document.querySelector('#df-7652a852-84ef-4917-baef-a3197b30b4fe button.colab-df-convert');\n",
              "        buttonEl.style.display =\n",
              "          google.colab.kernel.accessAllowed ? 'block' : 'none';\n",
              "\n",
              "        async function convertToInteractive(key) {\n",
              "          const element = document.querySelector('#df-7652a852-84ef-4917-baef-a3197b30b4fe');\n",
              "          const dataTable =\n",
              "            await google.colab.kernel.invokeFunction('convertToInteractive',\n",
              "                                                     [key], {});\n",
              "          if (!dataTable) return;\n",
              "\n",
              "          const docLinkHtml = 'Like what you see? Visit the ' +\n",
              "            '<a target=\"_blank\" href=https://colab.research.google.com/notebooks/data_table.ipynb>data table notebook</a>'\n",
              "            + ' to learn more about interactive tables.';\n",
              "          element.innerHTML = '';\n",
              "          dataTable['output_type'] = 'display_data';\n",
              "          await google.colab.output.renderOutput(dataTable, element);\n",
              "          const docLink = document.createElement('div');\n",
              "          docLink.innerHTML = docLinkHtml;\n",
              "          element.appendChild(docLink);\n",
              "        }\n",
              "      </script>\n",
              "    </div>\n",
              "  </div>\n",
              "  "
            ],
            "text/plain": [
              "        order_id         created_date  total_paid            state\n",
              "135903    435595  2017-11-23 19:59:44      258.09        Completed\n",
              "50804     350299  2017-04-27 12:06:40       50.97        Completed\n",
              "51788     351283  2017-04-30 14:24:48       48.04  Shopping Basket\n",
              "97434     397017  2017-09-06 11:01:33      229.99      Place Order\n",
              "146357    446452  2017-11-26 23:07:09       29.48        Completed"
            ]
          },
          "execution_count": 26,
          "metadata": {},
          "output_type": "execute_result"
        }
      ],
      "source": [
        "orders.sample(5)"
      ]
    },
    {
      "cell_type": "code",
      "execution_count": null,
      "metadata": {
        "colab": {
          "base_uri": "https://localhost:8080/"
        },
        "id": "_fs5TtJTyY5T",
        "outputId": "331a2a20-92d7-4661-c974-52fd338812e6"
      },
      "outputs": [
        {
          "data": {
            "text/plain": [
              "0"
            ]
          },
          "execution_count": 27,
          "metadata": {},
          "output_type": "execute_result"
        }
      ],
      "source": [
        "orders.duplicated().sum()"
      ]
    },
    {
      "cell_type": "code",
      "execution_count": null,
      "metadata": {
        "colab": {
          "base_uri": "https://localhost:8080/"
        },
        "id": "R0M2UZNAydAx",
        "outputId": "d306debc-e7bd-4f65-f339-5c2d282d82d0"
      },
      "outputs": [
        {
          "data": {
            "text/plain": [
              "order_id        226909\n",
              "created_date    224828\n",
              "total_paid       31236\n",
              "state                5\n",
              "dtype: int64"
            ]
          },
          "execution_count": 28,
          "metadata": {},
          "output_type": "execute_result"
        }
      ],
      "source": [
        "orders.nunique()"
      ]
    },
    {
      "cell_type": "code",
      "execution_count": null,
      "metadata": {
        "colab": {
          "base_uri": "https://localhost:8080/"
        },
        "id": "z8244-Z8xhSE",
        "outputId": "6341f2b4-d4d1-451b-9929-d98823f1b407"
      },
      "outputs": [
        {
          "name": "stdout",
          "output_type": "stream",
          "text": [
            "<class 'pandas.core.frame.DataFrame'>\n",
            "RangeIndex: 226909 entries, 0 to 226908\n",
            "Data columns (total 4 columns):\n",
            " #   Column        Non-Null Count   Dtype  \n",
            "---  ------        --------------   -----  \n",
            " 0   order_id      226909 non-null  int64  \n",
            " 1   created_date  226909 non-null  object \n",
            " 2   total_paid    226904 non-null  float64\n",
            " 3   state         226909 non-null  object \n",
            "dtypes: float64(1), int64(1), object(2)\n",
            "memory usage: 6.9+ MB\n"
          ]
        }
      ],
      "source": [
        "orders.info()"
      ]
    },
    {
      "cell_type": "markdown",
      "metadata": {
        "id": "ObRmlvM0ynVZ"
      },
      "source": [
        "`total_paid` has 5 missing values"
      ]
    },
    {
      "cell_type": "code",
      "execution_count": null,
      "metadata": {
        "colab": {
          "base_uri": "https://localhost:8080/"
        },
        "id": "rVcv6KS0ywNI",
        "outputId": "9990c68b-239e-41e7-ef71-021190c8c0a8"
      },
      "outputs": [
        {
          "name": "stdout",
          "output_type": "stream",
          "text": [
            "5 missing values represents 0.0022% of the rows in our DataFrame\n"
          ]
        }
      ],
      "source": [
        "print(f\"5 missing values represents {((orders.total_paid.isna().sum() / orders.shape[0])*100).round(5)}% of the rows in our DataFrame\")"
      ]
    },
    {
      "cell_type": "code",
      "execution_count": null,
      "metadata": {
        "colab": {
          "base_uri": "https://localhost:8080/"
        },
        "id": "u2s6Z3V80YZP",
        "outputId": "c5dab859-816d-4f4e-f0bc-5b7a49b2d3bf"
      },
      "outputs": [
        {
          "name": "stdout",
          "output_type": "stream",
          "text": [
            "<class 'pandas.core.frame.DataFrame'>\n",
            "Int64Index: 226904 entries, 0 to 226908\n",
            "Data columns (total 4 columns):\n",
            " #   Column        Non-Null Count   Dtype  \n",
            "---  ------        --------------   -----  \n",
            " 0   order_id      226904 non-null  int64  \n",
            " 1   created_date  226904 non-null  object \n",
            " 2   total_paid    226904 non-null  float64\n",
            " 3   state         226904 non-null  object \n",
            "dtypes: float64(1), int64(1), object(2)\n",
            "memory usage: 8.7+ MB\n"
          ]
        }
      ],
      "source": [
        "orders = orders.loc[~orders.total_paid.isna(), :]\n",
        "orders.info()"
      ]
    },
    {
      "cell_type": "markdown",
      "metadata": {
        "id": "zlkd_4CS02P0"
      },
      "source": [
        "`created_date` to be converted in datetime"
      ]
    },
    {
      "cell_type": "code",
      "execution_count": null,
      "metadata": {
        "colab": {
          "base_uri": "https://localhost:8080/"
        },
        "id": "-B0REpMk09t9",
        "outputId": "41fe700e-6b1f-45ef-aa4c-019c727e2fff"
      },
      "outputs": [
        {
          "name": "stdout",
          "output_type": "stream",
          "text": [
            "<class 'pandas.core.frame.DataFrame'>\n",
            "Int64Index: 226904 entries, 0 to 226908\n",
            "Data columns (total 4 columns):\n",
            " #   Column        Non-Null Count   Dtype         \n",
            "---  ------        --------------   -----         \n",
            " 0   order_id      226904 non-null  int64         \n",
            " 1   created_date  226904 non-null  datetime64[ns]\n",
            " 2   total_paid    226904 non-null  float64       \n",
            " 3   state         226904 non-null  object        \n",
            "dtypes: datetime64[ns](1), float64(1), int64(1), object(1)\n",
            "memory usage: 8.7+ MB\n"
          ]
        }
      ],
      "source": [
        "orders['created_date'] = pd.to_datetime(orders['created_date'])\n",
        "\n",
        "orders.info()"
      ]
    },
    {
      "cell_type": "code",
      "execution_count": null,
      "metadata": {
        "colab": {
          "base_uri": "https://localhost:8080/"
        },
        "id": "4pmEiOJ038sn",
        "outputId": "cb4beac8-b957-409d-e15a-5495739039b8"
      },
      "outputs": [
        {
          "data": {
            "text/plain": [
              "Shopping Basket    117809\n",
              "Completed           46605\n",
              "Place Order         40883\n",
              "Pending             14374\n",
              "Cancelled            7233\n",
              "Name: state, dtype: int64"
            ]
          },
          "execution_count": 33,
          "metadata": {},
          "output_type": "execute_result"
        }
      ],
      "source": [
        "orders.state.value_counts()"
      ]
    },
    {
      "cell_type": "markdown",
      "metadata": {
        "id": "IEQ0Dey6598r"
      },
      "source": [
        "# Orderlines"
      ]
    },
    {
      "cell_type": "markdown",
      "metadata": {
        "id": "pnY0z_Nk6QHP"
      },
      "source": [
        "**orderlines.csv** – Every row represents each one of the different products involved in an order.\n",
        "* `id` – a unique identifier for each row in this file\n",
        "* `id_order` – corresponds to orders.order_id\n",
        "* `product_id` – an old identifier for each product, nowadays not in use\n",
        "* `product_quantity` – how many units of that product were purchased on that order\n",
        "* `sku` – stock keeping unit: a unique identifier for each product\n",
        "* `unit_price` – the unitary price (in euros) of each product at the moment of placing that order\n",
        "date\n",
        "* `date` – for the processing of that product"
      ]
    },
    {
      "cell_type": "code",
      "execution_count": null,
      "metadata": {
        "colab": {
          "base_uri": "https://localhost:8080/"
        },
        "id": "Au9awWxK6BVj",
        "outputId": "ecf8e5ab-19f9-4898-ad9a-107b1bae9750"
      },
      "outputs": [
        {
          "name": "stdout",
          "output_type": "stream",
          "text": [
            "<class 'pandas.core.frame.DataFrame'>\n",
            "RangeIndex: 293983 entries, 0 to 293982\n",
            "Data columns (total 7 columns):\n",
            " #   Column            Non-Null Count   Dtype \n",
            "---  ------            --------------   ----- \n",
            " 0   id                293983 non-null  int64 \n",
            " 1   id_order          293983 non-null  int64 \n",
            " 2   product_id        293983 non-null  int64 \n",
            " 3   product_quantity  293983 non-null  int64 \n",
            " 4   sku               293983 non-null  object\n",
            " 5   unit_price        293983 non-null  object\n",
            " 6   date              293983 non-null  object\n",
            "dtypes: int64(4), object(3)\n",
            "memory usage: 15.7+ MB\n"
          ]
        }
      ],
      "source": [
        "orderlines.info()"
      ]
    },
    {
      "cell_type": "code",
      "execution_count": null,
      "metadata": {
        "colab": {
          "base_uri": "https://localhost:8080/"
        },
        "id": "10FV2_c97Yir",
        "outputId": "405bcff2-fcf6-4e4d-bbd8-be4dc8fe078d"
      },
      "outputs": [
        {
          "data": {
            "text/plain": [
              "0"
            ]
          },
          "execution_count": 35,
          "metadata": {},
          "output_type": "execute_result"
        }
      ],
      "source": [
        "orderlines.duplicated().sum()"
      ]
    },
    {
      "cell_type": "code",
      "execution_count": null,
      "metadata": {
        "id": "dKOqiTSh7s0e"
      },
      "outputs": [],
      "source": [
        "orderlines['date'] = pd.to_datetime(orderlines['date'])"
      ]
    },
    {
      "cell_type": "code",
      "execution_count": null,
      "metadata": {
        "colab": {
          "base_uri": "https://localhost:8080/"
        },
        "id": "MlsCKBfR7_V8",
        "outputId": "a53eaad4-4f3b-4f9f-906e-d0e6683b8233"
      },
      "outputs": [
        {
          "data": {
            "text/plain": [
              "188966     59.99\n",
              "231715      9.99\n",
              "215653    375.25\n",
              "48106     284.99\n",
              "36561      64.99\n",
              "Name: unit_price, dtype: object"
            ]
          },
          "execution_count": 37,
          "metadata": {},
          "output_type": "execute_result"
        }
      ],
      "source": [
        "orderlines['unit_price'].sample(5)"
      ]
    },
    {
      "cell_type": "code",
      "execution_count": null,
      "metadata": {
        "colab": {
          "base_uri": "https://localhost:8080/"
        },
        "id": "rSiF34hk9-13",
        "outputId": "7d276bd5-5763-4359-91f3-a8cce0529e6f"
      },
      "outputs": [
        {
          "data": {
            "text/plain": [
              "False    257814\n",
              "True      36169\n",
              "Name: unit_price, dtype: int64"
            ]
          },
          "execution_count": 38,
          "metadata": {},
          "output_type": "execute_result"
        }
      ],
      "source": [
        "orderlines.unit_price.str.contains(\"\\d+\\.\\d+\\.\\d+\").value_counts()"
      ]
    },
    {
      "cell_type": "code",
      "execution_count": null,
      "metadata": {
        "id": "lhQUtOJBNzXH"
      },
      "outputs": [],
      "source": [
        "two_dot_order_ids_list = orderlines.loc[orderlines.unit_price.str.contains(\"\\d+\\.\\d+\\.\\d+\"), \"id_order\"]\n",
        "orderlines = orderlines.loc[~orderlines.id_order.isin(two_dot_order_ids_list)]"
      ]
    },
    {
      "cell_type": "code",
      "execution_count": null,
      "metadata": {
        "id": "i0YDeuVTN7VM"
      },
      "outputs": [],
      "source": [
        "orderlines[\"unit_price\"] = pd.to_numeric(orderlines[\"unit_price\"])"
      ]
    },
    {
      "cell_type": "code",
      "execution_count": null,
      "metadata": {
        "colab": {
          "base_uri": "https://localhost:8080/"
        },
        "id": "Uz6y0OqS_QxO",
        "outputId": "f3c8a010-87fa-4767-f377-8bbff1b75965"
      },
      "outputs": [
        {
          "data": {
            "text/plain": [
              "170213"
            ]
          },
          "execution_count": 41,
          "metadata": {},
          "output_type": "execute_result"
        }
      ],
      "source": [
        "orderlines.id_order.nunique()"
      ]
    },
    {
      "cell_type": "code",
      "execution_count": null,
      "metadata": {
        "colab": {
          "base_uri": "https://localhost:8080/"
        },
        "id": "98hYuU9f_sTE",
        "outputId": "18f126b7-3a3f-44a0-f9d4-5ae6c9d92e34"
      },
      "outputs": [
        {
          "data": {
            "text/plain": [
              "226904"
            ]
          },
          "execution_count": 42,
          "metadata": {},
          "output_type": "execute_result"
        }
      ],
      "source": [
        "orders.order_id.nunique()"
      ]
    },
    {
      "cell_type": "code",
      "execution_count": null,
      "metadata": {
        "colab": {
          "base_uri": "https://localhost:8080/"
        },
        "id": "Pj3iallXOBoJ",
        "outputId": "d26ce5fb-a90d-4658-e5f6-bb0537aae916"
      },
      "outputs": [
        {
          "name": "stdout",
          "output_type": "stream",
          "text": [
            "<class 'pandas.core.frame.DataFrame'>\n",
            "Int64Index: 216250 entries, 0 to 293982\n",
            "Data columns (total 7 columns):\n",
            " #   Column            Non-Null Count   Dtype         \n",
            "---  ------            --------------   -----         \n",
            " 0   id                216250 non-null  int64         \n",
            " 1   id_order          216250 non-null  int64         \n",
            " 2   product_id        216250 non-null  int64         \n",
            " 3   product_quantity  216250 non-null  int64         \n",
            " 4   sku               216250 non-null  object        \n",
            " 5   unit_price        216250 non-null  float64       \n",
            " 6   date              216250 non-null  datetime64[ns]\n",
            "dtypes: datetime64[ns](1), float64(1), int64(4), object(1)\n",
            "memory usage: 13.2+ MB\n"
          ]
        }
      ],
      "source": [
        "orderlines.info()"
      ]
    },
    {
      "cell_type": "markdown",
      "metadata": {
        "id": "kpE0nu6PBLlS"
      },
      "source": [
        "# Data Quality"
      ]
    },
    {
      "cell_type": "code",
      "execution_count": null,
      "metadata": {
        "colab": {
          "base_uri": "https://localhost:8080/"
        },
        "id": "6WbvvoDXBP4y",
        "outputId": "1515e084-efd4-441d-90a0-8f5ad5597e7a"
      },
      "outputs": [
        {
          "data": {
            "text/plain": [
              "Shopping Basket    117809\n",
              "Completed           46605\n",
              "Place Order         40883\n",
              "Pending             14374\n",
              "Cancelled            7233\n",
              "Name: state, dtype: int64"
            ]
          },
          "execution_count": 44,
          "metadata": {},
          "output_type": "execute_result"
        }
      ],
      "source": [
        "orders.state.value_counts()"
      ]
    },
    {
      "cell_type": "markdown",
      "metadata": {
        "id": "2KWFmFq7J2bi"
      },
      "source": [
        "## Keeping only the completed orders(fully purchased ones)"
      ]
    },
    {
      "cell_type": "code",
      "execution_count": null,
      "metadata": {
        "colab": {
          "base_uri": "https://localhost:8080/",
          "height": 423
        },
        "id": "DO1TPV7HEisZ",
        "outputId": "8db5e8f6-f52b-45ce-a882-9ad9f64d42b9"
      },
      "outputs": [
        {
          "data": {
            "text/html": [
              "\n",
              "  <div id=\"df-05cb78e2-061c-4290-8383-c717a1bd8c37\">\n",
              "    <div class=\"colab-df-container\">\n",
              "      <div>\n",
              "<style scoped>\n",
              "    .dataframe tbody tr th:only-of-type {\n",
              "        vertical-align: middle;\n",
              "    }\n",
              "\n",
              "    .dataframe tbody tr th {\n",
              "        vertical-align: top;\n",
              "    }\n",
              "\n",
              "    .dataframe thead th {\n",
              "        text-align: right;\n",
              "    }\n",
              "</style>\n",
              "<table border=\"1\" class=\"dataframe\">\n",
              "  <thead>\n",
              "    <tr style=\"text-align: right;\">\n",
              "      <th></th>\n",
              "      <th>order_id</th>\n",
              "      <th>created_date</th>\n",
              "      <th>total_paid</th>\n",
              "      <th>state</th>\n",
              "      <th>id</th>\n",
              "      <th>id_order</th>\n",
              "      <th>product_id</th>\n",
              "      <th>product_quantity</th>\n",
              "      <th>sku</th>\n",
              "      <th>unit_price</th>\n",
              "      <th>date</th>\n",
              "    </tr>\n",
              "  </thead>\n",
              "  <tbody>\n",
              "    <tr>\n",
              "      <th>0</th>\n",
              "      <td>241423</td>\n",
              "      <td>2017-11-06 13:10:02</td>\n",
              "      <td>136.15</td>\n",
              "      <td>Completed</td>\n",
              "      <td>1398738</td>\n",
              "      <td>241423</td>\n",
              "      <td>0</td>\n",
              "      <td>1</td>\n",
              "      <td>LAC0212</td>\n",
              "      <td>129.16</td>\n",
              "      <td>2017-11-06 12:47:20</td>\n",
              "    </tr>\n",
              "    <tr>\n",
              "      <th>1</th>\n",
              "      <td>242832</td>\n",
              "      <td>2017-12-31 17:40:03</td>\n",
              "      <td>15.76</td>\n",
              "      <td>Completed</td>\n",
              "      <td>1529178</td>\n",
              "      <td>242832</td>\n",
              "      <td>0</td>\n",
              "      <td>1</td>\n",
              "      <td>PAR0074</td>\n",
              "      <td>10.77</td>\n",
              "      <td>2017-12-31 17:26:40</td>\n",
              "    </tr>\n",
              "    <tr>\n",
              "      <th>2</th>\n",
              "      <td>243330</td>\n",
              "      <td>2017-02-16 10:59:38</td>\n",
              "      <td>84.98</td>\n",
              "      <td>Completed</td>\n",
              "      <td>1181923</td>\n",
              "      <td>243330</td>\n",
              "      <td>0</td>\n",
              "      <td>1</td>\n",
              "      <td>OWC0074</td>\n",
              "      <td>77.99</td>\n",
              "      <td>2017-02-15 17:07:44</td>\n",
              "    </tr>\n",
              "    <tr>\n",
              "      <th>3</th>\n",
              "      <td>245275</td>\n",
              "      <td>2017-06-28 11:35:37</td>\n",
              "      <td>149.00</td>\n",
              "      <td>Completed</td>\n",
              "      <td>1276706</td>\n",
              "      <td>245275</td>\n",
              "      <td>0</td>\n",
              "      <td>1</td>\n",
              "      <td>TAD0007</td>\n",
              "      <td>149.00</td>\n",
              "      <td>2017-06-28 11:12:30</td>\n",
              "    </tr>\n",
              "    <tr>\n",
              "      <th>4</th>\n",
              "      <td>245595</td>\n",
              "      <td>2017-01-21 12:52:47</td>\n",
              "      <td>112.97</td>\n",
              "      <td>Completed</td>\n",
              "      <td>1154394</td>\n",
              "      <td>245595</td>\n",
              "      <td>0</td>\n",
              "      <td>2</td>\n",
              "      <td>PAC1561</td>\n",
              "      <td>52.99</td>\n",
              "      <td>2017-01-21 12:49:00</td>\n",
              "    </tr>\n",
              "    <tr>\n",
              "      <th>...</th>\n",
              "      <td>...</td>\n",
              "      <td>...</td>\n",
              "      <td>...</td>\n",
              "      <td>...</td>\n",
              "      <td>...</td>\n",
              "      <td>...</td>\n",
              "      <td>...</td>\n",
              "      <td>...</td>\n",
              "      <td>...</td>\n",
              "      <td>...</td>\n",
              "      <td>...</td>\n",
              "    </tr>\n",
              "    <tr>\n",
              "      <th>56709</th>\n",
              "      <td>527042</td>\n",
              "      <td>2018-03-14 11:47:50</td>\n",
              "      <td>18.98</td>\n",
              "      <td>Completed</td>\n",
              "      <td>1649446</td>\n",
              "      <td>527042</td>\n",
              "      <td>0</td>\n",
              "      <td>1</td>\n",
              "      <td>APP0927</td>\n",
              "      <td>13.99</td>\n",
              "      <td>2018-03-14 11:42:38</td>\n",
              "    </tr>\n",
              "    <tr>\n",
              "      <th>56710</th>\n",
              "      <td>527070</td>\n",
              "      <td>2018-03-14 11:50:48</td>\n",
              "      <td>24.97</td>\n",
              "      <td>Completed</td>\n",
              "      <td>1649512</td>\n",
              "      <td>527070</td>\n",
              "      <td>0</td>\n",
              "      <td>2</td>\n",
              "      <td>APP0698</td>\n",
              "      <td>9.99</td>\n",
              "      <td>2018-03-14 11:49:01</td>\n",
              "    </tr>\n",
              "    <tr>\n",
              "      <th>56711</th>\n",
              "      <td>527074</td>\n",
              "      <td>2018-03-14 11:51:42</td>\n",
              "      <td>24.97</td>\n",
              "      <td>Completed</td>\n",
              "      <td>1649522</td>\n",
              "      <td>527074</td>\n",
              "      <td>0</td>\n",
              "      <td>2</td>\n",
              "      <td>APP0698</td>\n",
              "      <td>9.99</td>\n",
              "      <td>2018-03-14 11:49:36</td>\n",
              "    </tr>\n",
              "    <tr>\n",
              "      <th>56712</th>\n",
              "      <td>527096</td>\n",
              "      <td>2018-03-14 11:58:40</td>\n",
              "      <td>34.96</td>\n",
              "      <td>Completed</td>\n",
              "      <td>1649565</td>\n",
              "      <td>527096</td>\n",
              "      <td>0</td>\n",
              "      <td>3</td>\n",
              "      <td>APP0698</td>\n",
              "      <td>9.99</td>\n",
              "      <td>2018-03-14 11:54:35</td>\n",
              "    </tr>\n",
              "    <tr>\n",
              "      <th>56713</th>\n",
              "      <td>527112</td>\n",
              "      <td>2018-03-14 12:03:52</td>\n",
              "      <td>14.98</td>\n",
              "      <td>Completed</td>\n",
              "      <td>1649593</td>\n",
              "      <td>527112</td>\n",
              "      <td>0</td>\n",
              "      <td>1</td>\n",
              "      <td>APP0698</td>\n",
              "      <td>9.99</td>\n",
              "      <td>2018-03-14 11:58:13</td>\n",
              "    </tr>\n",
              "  </tbody>\n",
              "</table>\n",
              "<p>56714 rows × 11 columns</p>\n",
              "</div>\n",
              "      <button class=\"colab-df-convert\" onclick=\"convertToInteractive('df-05cb78e2-061c-4290-8383-c717a1bd8c37')\"\n",
              "              title=\"Convert this dataframe to an interactive table.\"\n",
              "              style=\"display:none;\">\n",
              "        \n",
              "  <svg xmlns=\"http://www.w3.org/2000/svg\" height=\"24px\"viewBox=\"0 0 24 24\"\n",
              "       width=\"24px\">\n",
              "    <path d=\"M0 0h24v24H0V0z\" fill=\"none\"/>\n",
              "    <path d=\"M18.56 5.44l.94 2.06.94-2.06 2.06-.94-2.06-.94-.94-2.06-.94 2.06-2.06.94zm-11 1L8.5 8.5l.94-2.06 2.06-.94-2.06-.94L8.5 2.5l-.94 2.06-2.06.94zm10 10l.94 2.06.94-2.06 2.06-.94-2.06-.94-.94-2.06-.94 2.06-2.06.94z\"/><path d=\"M17.41 7.96l-1.37-1.37c-.4-.4-.92-.59-1.43-.59-.52 0-1.04.2-1.43.59L10.3 9.45l-7.72 7.72c-.78.78-.78 2.05 0 2.83L4 21.41c.39.39.9.59 1.41.59.51 0 1.02-.2 1.41-.59l7.78-7.78 2.81-2.81c.8-.78.8-2.07 0-2.86zM5.41 20L4 18.59l7.72-7.72 1.47 1.35L5.41 20z\"/>\n",
              "  </svg>\n",
              "      </button>\n",
              "      \n",
              "  <style>\n",
              "    .colab-df-container {\n",
              "      display:flex;\n",
              "      flex-wrap:wrap;\n",
              "      gap: 12px;\n",
              "    }\n",
              "\n",
              "    .colab-df-convert {\n",
              "      background-color: #E8F0FE;\n",
              "      border: none;\n",
              "      border-radius: 50%;\n",
              "      cursor: pointer;\n",
              "      display: none;\n",
              "      fill: #1967D2;\n",
              "      height: 32px;\n",
              "      padding: 0 0 0 0;\n",
              "      width: 32px;\n",
              "    }\n",
              "\n",
              "    .colab-df-convert:hover {\n",
              "      background-color: #E2EBFA;\n",
              "      box-shadow: 0px 1px 2px rgba(60, 64, 67, 0.3), 0px 1px 3px 1px rgba(60, 64, 67, 0.15);\n",
              "      fill: #174EA6;\n",
              "    }\n",
              "\n",
              "    [theme=dark] .colab-df-convert {\n",
              "      background-color: #3B4455;\n",
              "      fill: #D2E3FC;\n",
              "    }\n",
              "\n",
              "    [theme=dark] .colab-df-convert:hover {\n",
              "      background-color: #434B5C;\n",
              "      box-shadow: 0px 1px 3px 1px rgba(0, 0, 0, 0.15);\n",
              "      filter: drop-shadow(0px 1px 2px rgba(0, 0, 0, 0.3));\n",
              "      fill: #FFFFFF;\n",
              "    }\n",
              "  </style>\n",
              "\n",
              "      <script>\n",
              "        const buttonEl =\n",
              "          document.querySelector('#df-05cb78e2-061c-4290-8383-c717a1bd8c37 button.colab-df-convert');\n",
              "        buttonEl.style.display =\n",
              "          google.colab.kernel.accessAllowed ? 'block' : 'none';\n",
              "\n",
              "        async function convertToInteractive(key) {\n",
              "          const element = document.querySelector('#df-05cb78e2-061c-4290-8383-c717a1bd8c37');\n",
              "          const dataTable =\n",
              "            await google.colab.kernel.invokeFunction('convertToInteractive',\n",
              "                                                     [key], {});\n",
              "          if (!dataTable) return;\n",
              "\n",
              "          const docLinkHtml = 'Like what you see? Visit the ' +\n",
              "            '<a target=\"_blank\" href=https://colab.research.google.com/notebooks/data_table.ipynb>data table notebook</a>'\n",
              "            + ' to learn more about interactive tables.';\n",
              "          element.innerHTML = '';\n",
              "          dataTable['output_type'] = 'display_data';\n",
              "          await google.colab.output.renderOutput(dataTable, element);\n",
              "          const docLink = document.createElement('div');\n",
              "          docLink.innerHTML = docLinkHtml;\n",
              "          element.appendChild(docLink);\n",
              "        }\n",
              "      </script>\n",
              "    </div>\n",
              "  </div>\n",
              "  "
            ],
            "text/plain": [
              "       order_id        created_date  total_paid      state       id  id_order  \\\n",
              "0        241423 2017-11-06 13:10:02      136.15  Completed  1398738    241423   \n",
              "1        242832 2017-12-31 17:40:03       15.76  Completed  1529178    242832   \n",
              "2        243330 2017-02-16 10:59:38       84.98  Completed  1181923    243330   \n",
              "3        245275 2017-06-28 11:35:37      149.00  Completed  1276706    245275   \n",
              "4        245595 2017-01-21 12:52:47      112.97  Completed  1154394    245595   \n",
              "...         ...                 ...         ...        ...      ...       ...   \n",
              "56709    527042 2018-03-14 11:47:50       18.98  Completed  1649446    527042   \n",
              "56710    527070 2018-03-14 11:50:48       24.97  Completed  1649512    527070   \n",
              "56711    527074 2018-03-14 11:51:42       24.97  Completed  1649522    527074   \n",
              "56712    527096 2018-03-14 11:58:40       34.96  Completed  1649565    527096   \n",
              "56713    527112 2018-03-14 12:03:52       14.98  Completed  1649593    527112   \n",
              "\n",
              "       product_id  product_quantity      sku  unit_price                date  \n",
              "0               0                 1  LAC0212      129.16 2017-11-06 12:47:20  \n",
              "1               0                 1  PAR0074       10.77 2017-12-31 17:26:40  \n",
              "2               0                 1  OWC0074       77.99 2017-02-15 17:07:44  \n",
              "3               0                 1  TAD0007      149.00 2017-06-28 11:12:30  \n",
              "4               0                 2  PAC1561       52.99 2017-01-21 12:49:00  \n",
              "...           ...               ...      ...         ...                 ...  \n",
              "56709           0                 1  APP0927       13.99 2018-03-14 11:42:38  \n",
              "56710           0                 2  APP0698        9.99 2018-03-14 11:49:01  \n",
              "56711           0                 2  APP0698        9.99 2018-03-14 11:49:36  \n",
              "56712           0                 3  APP0698        9.99 2018-03-14 11:54:35  \n",
              "56713           0                 1  APP0698        9.99 2018-03-14 11:58:13  \n",
              "\n",
              "[56714 rows x 11 columns]"
            ]
          },
          "execution_count": 45,
          "metadata": {},
          "output_type": "execute_result"
        }
      ],
      "source": [
        "(\n",
        "  orders[orders.state == \"Completed\"]\n",
        "  .merge(\n",
        "      orderlines,\n",
        "      how = \"inner\",\n",
        "      left_on = \"order_id\",\n",
        "      right_on =\"id_order\"\n",
        "        )\n",
        ")"
      ]
    },
    {
      "cell_type": "code",
      "execution_count": null,
      "metadata": {
        "colab": {
          "base_uri": "https://localhost:8080/"
        },
        "id": "2FWv6hM7HVzl",
        "outputId": "2dd62cb5-c932-47cf-a6a4-bb01ba0b32f7"
      },
      "outputs": [
        {
          "data": {
            "text/plain": [
              "Shopping Basket    117809\n",
              "Completed           46605\n",
              "Place Order         40883\n",
              "Pending             14374\n",
              "Cancelled            7233\n",
              "Name: state, dtype: int64"
            ]
          },
          "execution_count": 46,
          "metadata": {},
          "output_type": "execute_result"
        }
      ],
      "source": [
        "actual_purchases_df = orders.copy()\n",
        "\n",
        "actual_purchases_df.state.value_counts()"
      ]
    },
    {
      "cell_type": "code",
      "execution_count": null,
      "metadata": {
        "id": "vpnraIw_HamI"
      },
      "outputs": [],
      "source": [
        "actual_purchases_df = actual_purchases_df.loc[actual_purchases_df['state'].isin([\"Completed\"]), :]"
      ]
    },
    {
      "cell_type": "code",
      "execution_count": null,
      "metadata": {
        "id": "DNqY0HvbHqrH"
      },
      "outputs": [],
      "source": [
        "actual_purchases_list = list(actual_purchases_df[\"order_id\"])\n",
        "actual_purchases_list"
      ]
    },
    {
      "cell_type": "code",
      "execution_count": null,
      "metadata": {
        "colab": {
          "base_uri": "https://localhost:8080/",
          "height": 423
        },
        "id": "zJLqUxXPHzMi",
        "outputId": "cb2454ae-50a1-44ad-97c9-863a853b62b4"
      },
      "outputs": [
        {
          "data": {
            "text/html": [
              "\n",
              "  <div id=\"df-d6ba7221-37e0-45ad-9e94-6be76c34874b\">\n",
              "    <div class=\"colab-df-container\">\n",
              "      <div>\n",
              "<style scoped>\n",
              "    .dataframe tbody tr th:only-of-type {\n",
              "        vertical-align: middle;\n",
              "    }\n",
              "\n",
              "    .dataframe tbody tr th {\n",
              "        vertical-align: top;\n",
              "    }\n",
              "\n",
              "    .dataframe thead th {\n",
              "        text-align: right;\n",
              "    }\n",
              "</style>\n",
              "<table border=\"1\" class=\"dataframe\">\n",
              "  <thead>\n",
              "    <tr style=\"text-align: right;\">\n",
              "      <th></th>\n",
              "      <th>id</th>\n",
              "      <th>id_order</th>\n",
              "      <th>product_id</th>\n",
              "      <th>product_quantity</th>\n",
              "      <th>sku</th>\n",
              "      <th>unit_price</th>\n",
              "      <th>date</th>\n",
              "    </tr>\n",
              "  </thead>\n",
              "  <tbody>\n",
              "    <tr>\n",
              "      <th>0</th>\n",
              "      <td>1119109</td>\n",
              "      <td>299539</td>\n",
              "      <td>0</td>\n",
              "      <td>1</td>\n",
              "      <td>OTT0133</td>\n",
              "      <td>18.99</td>\n",
              "      <td>2017-01-01 00:07:19</td>\n",
              "    </tr>\n",
              "    <tr>\n",
              "      <th>1</th>\n",
              "      <td>1119110</td>\n",
              "      <td>299540</td>\n",
              "      <td>0</td>\n",
              "      <td>1</td>\n",
              "      <td>LGE0043</td>\n",
              "      <td>399.00</td>\n",
              "      <td>2017-01-01 00:19:45</td>\n",
              "    </tr>\n",
              "    <tr>\n",
              "      <th>2</th>\n",
              "      <td>1119111</td>\n",
              "      <td>299541</td>\n",
              "      <td>0</td>\n",
              "      <td>1</td>\n",
              "      <td>PAR0071</td>\n",
              "      <td>474.05</td>\n",
              "      <td>2017-01-01 00:20:57</td>\n",
              "    </tr>\n",
              "    <tr>\n",
              "      <th>3</th>\n",
              "      <td>1119112</td>\n",
              "      <td>299542</td>\n",
              "      <td>0</td>\n",
              "      <td>1</td>\n",
              "      <td>WDT0315</td>\n",
              "      <td>68.39</td>\n",
              "      <td>2017-01-01 00:51:40</td>\n",
              "    </tr>\n",
              "    <tr>\n",
              "      <th>4</th>\n",
              "      <td>1119113</td>\n",
              "      <td>299543</td>\n",
              "      <td>0</td>\n",
              "      <td>1</td>\n",
              "      <td>JBL0104</td>\n",
              "      <td>23.74</td>\n",
              "      <td>2017-01-01 01:06:38</td>\n",
              "    </tr>\n",
              "    <tr>\n",
              "      <th>...</th>\n",
              "      <td>...</td>\n",
              "      <td>...</td>\n",
              "      <td>...</td>\n",
              "      <td>...</td>\n",
              "      <td>...</td>\n",
              "      <td>...</td>\n",
              "      <td>...</td>\n",
              "    </tr>\n",
              "    <tr>\n",
              "      <th>293978</th>\n",
              "      <td>1650199</td>\n",
              "      <td>527398</td>\n",
              "      <td>0</td>\n",
              "      <td>1</td>\n",
              "      <td>JBL0122</td>\n",
              "      <td>42.99</td>\n",
              "      <td>2018-03-14 13:57:25</td>\n",
              "    </tr>\n",
              "    <tr>\n",
              "      <th>293979</th>\n",
              "      <td>1650200</td>\n",
              "      <td>527399</td>\n",
              "      <td>0</td>\n",
              "      <td>1</td>\n",
              "      <td>PAC0653</td>\n",
              "      <td>141.58</td>\n",
              "      <td>2018-03-14 13:57:34</td>\n",
              "    </tr>\n",
              "    <tr>\n",
              "      <th>293980</th>\n",
              "      <td>1650201</td>\n",
              "      <td>527400</td>\n",
              "      <td>0</td>\n",
              "      <td>2</td>\n",
              "      <td>APP0698</td>\n",
              "      <td>9.99</td>\n",
              "      <td>2018-03-14 13:57:41</td>\n",
              "    </tr>\n",
              "    <tr>\n",
              "      <th>293981</th>\n",
              "      <td>1650202</td>\n",
              "      <td>527388</td>\n",
              "      <td>0</td>\n",
              "      <td>1</td>\n",
              "      <td>BEZ0204</td>\n",
              "      <td>19.99</td>\n",
              "      <td>2018-03-14 13:58:01</td>\n",
              "    </tr>\n",
              "    <tr>\n",
              "      <th>293982</th>\n",
              "      <td>1650203</td>\n",
              "      <td>527401</td>\n",
              "      <td>0</td>\n",
              "      <td>1</td>\n",
              "      <td>APP0927</td>\n",
              "      <td>13.99</td>\n",
              "      <td>2018-03-14 13:58:36</td>\n",
              "    </tr>\n",
              "  </tbody>\n",
              "</table>\n",
              "<p>159536 rows × 7 columns</p>\n",
              "</div>\n",
              "      <button class=\"colab-df-convert\" onclick=\"convertToInteractive('df-d6ba7221-37e0-45ad-9e94-6be76c34874b')\"\n",
              "              title=\"Convert this dataframe to an interactive table.\"\n",
              "              style=\"display:none;\">\n",
              "        \n",
              "  <svg xmlns=\"http://www.w3.org/2000/svg\" height=\"24px\"viewBox=\"0 0 24 24\"\n",
              "       width=\"24px\">\n",
              "    <path d=\"M0 0h24v24H0V0z\" fill=\"none\"/>\n",
              "    <path d=\"M18.56 5.44l.94 2.06.94-2.06 2.06-.94-2.06-.94-.94-2.06-.94 2.06-2.06.94zm-11 1L8.5 8.5l.94-2.06 2.06-.94-2.06-.94L8.5 2.5l-.94 2.06-2.06.94zm10 10l.94 2.06.94-2.06 2.06-.94-2.06-.94-.94-2.06-.94 2.06-2.06.94z\"/><path d=\"M17.41 7.96l-1.37-1.37c-.4-.4-.92-.59-1.43-.59-.52 0-1.04.2-1.43.59L10.3 9.45l-7.72 7.72c-.78.78-.78 2.05 0 2.83L4 21.41c.39.39.9.59 1.41.59.51 0 1.02-.2 1.41-.59l7.78-7.78 2.81-2.81c.8-.78.8-2.07 0-2.86zM5.41 20L4 18.59l7.72-7.72 1.47 1.35L5.41 20z\"/>\n",
              "  </svg>\n",
              "      </button>\n",
              "      \n",
              "  <style>\n",
              "    .colab-df-container {\n",
              "      display:flex;\n",
              "      flex-wrap:wrap;\n",
              "      gap: 12px;\n",
              "    }\n",
              "\n",
              "    .colab-df-convert {\n",
              "      background-color: #E8F0FE;\n",
              "      border: none;\n",
              "      border-radius: 50%;\n",
              "      cursor: pointer;\n",
              "      display: none;\n",
              "      fill: #1967D2;\n",
              "      height: 32px;\n",
              "      padding: 0 0 0 0;\n",
              "      width: 32px;\n",
              "    }\n",
              "\n",
              "    .colab-df-convert:hover {\n",
              "      background-color: #E2EBFA;\n",
              "      box-shadow: 0px 1px 2px rgba(60, 64, 67, 0.3), 0px 1px 3px 1px rgba(60, 64, 67, 0.15);\n",
              "      fill: #174EA6;\n",
              "    }\n",
              "\n",
              "    [theme=dark] .colab-df-convert {\n",
              "      background-color: #3B4455;\n",
              "      fill: #D2E3FC;\n",
              "    }\n",
              "\n",
              "    [theme=dark] .colab-df-convert:hover {\n",
              "      background-color: #434B5C;\n",
              "      box-shadow: 0px 1px 3px 1px rgba(0, 0, 0, 0.15);\n",
              "      filter: drop-shadow(0px 1px 2px rgba(0, 0, 0, 0.3));\n",
              "      fill: #FFFFFF;\n",
              "    }\n",
              "  </style>\n",
              "\n",
              "      <script>\n",
              "        const buttonEl =\n",
              "          document.querySelector('#df-d6ba7221-37e0-45ad-9e94-6be76c34874b button.colab-df-convert');\n",
              "        buttonEl.style.display =\n",
              "          google.colab.kernel.accessAllowed ? 'block' : 'none';\n",
              "\n",
              "        async function convertToInteractive(key) {\n",
              "          const element = document.querySelector('#df-d6ba7221-37e0-45ad-9e94-6be76c34874b');\n",
              "          const dataTable =\n",
              "            await google.colab.kernel.invokeFunction('convertToInteractive',\n",
              "                                                     [key], {});\n",
              "          if (!dataTable) return;\n",
              "\n",
              "          const docLinkHtml = 'Like what you see? Visit the ' +\n",
              "            '<a target=\"_blank\" href=https://colab.research.google.com/notebooks/data_table.ipynb>data table notebook</a>'\n",
              "            + ' to learn more about interactive tables.';\n",
              "          element.innerHTML = '';\n",
              "          dataTable['output_type'] = 'display_data';\n",
              "          await google.colab.output.renderOutput(dataTable, element);\n",
              "          const docLink = document.createElement('div');\n",
              "          docLink.innerHTML = docLinkHtml;\n",
              "          element.appendChild(docLink);\n",
              "        }\n",
              "      </script>\n",
              "    </div>\n",
              "  </div>\n",
              "  "
            ],
            "text/plain": [
              "             id  id_order  product_id  product_quantity      sku  unit_price  \\\n",
              "0       1119109    299539           0                 1  OTT0133       18.99   \n",
              "1       1119110    299540           0                 1  LGE0043      399.00   \n",
              "2       1119111    299541           0                 1  PAR0071      474.05   \n",
              "3       1119112    299542           0                 1  WDT0315       68.39   \n",
              "4       1119113    299543           0                 1  JBL0104       23.74   \n",
              "...         ...       ...         ...               ...      ...         ...   \n",
              "293978  1650199    527398           0                 1  JBL0122       42.99   \n",
              "293979  1650200    527399           0                 1  PAC0653      141.58   \n",
              "293980  1650201    527400           0                 2  APP0698        9.99   \n",
              "293981  1650202    527388           0                 1  BEZ0204       19.99   \n",
              "293982  1650203    527401           0                 1  APP0927       13.99   \n",
              "\n",
              "                      date  \n",
              "0      2017-01-01 00:07:19  \n",
              "1      2017-01-01 00:19:45  \n",
              "2      2017-01-01 00:20:57  \n",
              "3      2017-01-01 00:51:40  \n",
              "4      2017-01-01 01:06:38  \n",
              "...                    ...  \n",
              "293978 2018-03-14 13:57:25  \n",
              "293979 2018-03-14 13:57:34  \n",
              "293980 2018-03-14 13:57:41  \n",
              "293981 2018-03-14 13:58:01  \n",
              "293982 2018-03-14 13:58:36  \n",
              "\n",
              "[159536 rows x 7 columns]"
            ]
          },
          "execution_count": 49,
          "metadata": {},
          "output_type": "execute_result"
        }
      ],
      "source": [
        "orderlines.loc[~ orderlines.id_order.isin(actual_purchases_list)]"
      ]
    },
    {
      "cell_type": "code",
      "execution_count": null,
      "metadata": {
        "id": "GR-T7x2YH9lZ"
      },
      "outputs": [],
      "source": [
        "orders_qu = orders.loc[orders[\"order_id\"].isin(actual_purchases_df[\"order_id\"]), :].copy()"
      ]
    },
    {
      "cell_type": "code",
      "execution_count": null,
      "metadata": {
        "id": "hS-ICWaqH91j"
      },
      "outputs": [],
      "source": [
        "orderlines_qu = orderlines.loc[orderlines[\"id_order\"].isin(actual_purchases_list), :].copy()"
      ]
    },
    {
      "cell_type": "code",
      "execution_count": null,
      "metadata": {
        "colab": {
          "base_uri": "https://localhost:8080/"
        },
        "id": "fMhbDoEkIGyr",
        "outputId": "57f893d5-cd96-4bb4-cd8e-6b696b5acda4"
      },
      "outputs": [
        {
          "data": {
            "text/plain": [
              "46605"
            ]
          },
          "execution_count": 52,
          "metadata": {},
          "output_type": "execute_result"
        }
      ],
      "source": [
        "len(orders_qu.order_id.unique())"
      ]
    },
    {
      "cell_type": "code",
      "execution_count": null,
      "metadata": {
        "colab": {
          "base_uri": "https://localhost:8080/"
        },
        "id": "bPJFpbH-IMHp",
        "outputId": "88e1480f-0a3b-4461-bb54-854db0d5e974"
      },
      "outputs": [
        {
          "data": {
            "text/plain": [
              "43064"
            ]
          },
          "execution_count": 53,
          "metadata": {},
          "output_type": "execute_result"
        }
      ],
      "source": [
        "len(orderlines_qu.id_order.unique())"
      ]
    },
    {
      "cell_type": "code",
      "execution_count": null,
      "metadata": {
        "colab": {
          "base_uri": "https://localhost:8080/",
          "height": 423
        },
        "id": "sgK8CkwTII-q",
        "outputId": "93f719ef-b020-44a7-cbc5-0b8224d193ff"
      },
      "outputs": [
        {
          "data": {
            "text/html": [
              "\n",
              "  <div id=\"df-7c29a296-7f11-4205-a095-cc1abc5f45ad\">\n",
              "    <div class=\"colab-df-container\">\n",
              "      <div>\n",
              "<style scoped>\n",
              "    .dataframe tbody tr th:only-of-type {\n",
              "        vertical-align: middle;\n",
              "    }\n",
              "\n",
              "    .dataframe tbody tr th {\n",
              "        vertical-align: top;\n",
              "    }\n",
              "\n",
              "    .dataframe thead th {\n",
              "        text-align: right;\n",
              "    }\n",
              "</style>\n",
              "<table border=\"1\" class=\"dataframe\">\n",
              "  <thead>\n",
              "    <tr style=\"text-align: right;\">\n",
              "      <th></th>\n",
              "      <th>order_id</th>\n",
              "      <th>created_date</th>\n",
              "      <th>total_paid</th>\n",
              "      <th>state</th>\n",
              "    </tr>\n",
              "  </thead>\n",
              "  <tbody>\n",
              "    <tr>\n",
              "      <th>8</th>\n",
              "      <td>245941</td>\n",
              "      <td>2017-01-01 10:32:23</td>\n",
              "      <td>183.52</td>\n",
              "      <td>Completed</td>\n",
              "    </tr>\n",
              "    <tr>\n",
              "      <th>31</th>\n",
              "      <td>257847</td>\n",
              "      <td>2017-11-23 23:46:54</td>\n",
              "      <td>1367.11</td>\n",
              "      <td>Completed</td>\n",
              "    </tr>\n",
              "    <tr>\n",
              "      <th>35</th>\n",
              "      <td>258985</td>\n",
              "      <td>2017-07-31 12:52:38</td>\n",
              "      <td>2264.60</td>\n",
              "      <td>Completed</td>\n",
              "    </tr>\n",
              "    <tr>\n",
              "      <th>40</th>\n",
              "      <td>259668</td>\n",
              "      <td>2017-10-06 22:06:58</td>\n",
              "      <td>1132.33</td>\n",
              "      <td>Completed</td>\n",
              "    </tr>\n",
              "    <tr>\n",
              "      <th>46</th>\n",
              "      <td>262016</td>\n",
              "      <td>2017-08-18 01:05:38</td>\n",
              "      <td>3109.57</td>\n",
              "      <td>Completed</td>\n",
              "    </tr>\n",
              "    <tr>\n",
              "      <th>...</th>\n",
              "      <td>...</td>\n",
              "      <td>...</td>\n",
              "      <td>...</td>\n",
              "      <td>...</td>\n",
              "    </tr>\n",
              "    <tr>\n",
              "      <th>225865</th>\n",
              "      <td>526357</td>\n",
              "      <td>2018-03-13 12:01:26</td>\n",
              "      <td>1405.99</td>\n",
              "      <td>Completed</td>\n",
              "    </tr>\n",
              "    <tr>\n",
              "      <th>225887</th>\n",
              "      <td>526380</td>\n",
              "      <td>2018-03-13 12:16:06</td>\n",
              "      <td>1436.99</td>\n",
              "      <td>Completed</td>\n",
              "    </tr>\n",
              "    <tr>\n",
              "      <th>226012</th>\n",
              "      <td>526505</td>\n",
              "      <td>2018-03-13 15:56:14</td>\n",
              "      <td>1421.99</td>\n",
              "      <td>Completed</td>\n",
              "    </tr>\n",
              "    <tr>\n",
              "      <th>226014</th>\n",
              "      <td>526507</td>\n",
              "      <td>2018-03-13 16:04:20</td>\n",
              "      <td>1137.97</td>\n",
              "      <td>Completed</td>\n",
              "    </tr>\n",
              "    <tr>\n",
              "      <th>226155</th>\n",
              "      <td>526648</td>\n",
              "      <td>2018-03-13 21:07:19</td>\n",
              "      <td>1205.99</td>\n",
              "      <td>Completed</td>\n",
              "    </tr>\n",
              "  </tbody>\n",
              "</table>\n",
              "<p>3541 rows × 4 columns</p>\n",
              "</div>\n",
              "      <button class=\"colab-df-convert\" onclick=\"convertToInteractive('df-7c29a296-7f11-4205-a095-cc1abc5f45ad')\"\n",
              "              title=\"Convert this dataframe to an interactive table.\"\n",
              "              style=\"display:none;\">\n",
              "        \n",
              "  <svg xmlns=\"http://www.w3.org/2000/svg\" height=\"24px\"viewBox=\"0 0 24 24\"\n",
              "       width=\"24px\">\n",
              "    <path d=\"M0 0h24v24H0V0z\" fill=\"none\"/>\n",
              "    <path d=\"M18.56 5.44l.94 2.06.94-2.06 2.06-.94-2.06-.94-.94-2.06-.94 2.06-2.06.94zm-11 1L8.5 8.5l.94-2.06 2.06-.94-2.06-.94L8.5 2.5l-.94 2.06-2.06.94zm10 10l.94 2.06.94-2.06 2.06-.94-2.06-.94-.94-2.06-.94 2.06-2.06.94z\"/><path d=\"M17.41 7.96l-1.37-1.37c-.4-.4-.92-.59-1.43-.59-.52 0-1.04.2-1.43.59L10.3 9.45l-7.72 7.72c-.78.78-.78 2.05 0 2.83L4 21.41c.39.39.9.59 1.41.59.51 0 1.02-.2 1.41-.59l7.78-7.78 2.81-2.81c.8-.78.8-2.07 0-2.86zM5.41 20L4 18.59l7.72-7.72 1.47 1.35L5.41 20z\"/>\n",
              "  </svg>\n",
              "      </button>\n",
              "      \n",
              "  <style>\n",
              "    .colab-df-container {\n",
              "      display:flex;\n",
              "      flex-wrap:wrap;\n",
              "      gap: 12px;\n",
              "    }\n",
              "\n",
              "    .colab-df-convert {\n",
              "      background-color: #E8F0FE;\n",
              "      border: none;\n",
              "      border-radius: 50%;\n",
              "      cursor: pointer;\n",
              "      display: none;\n",
              "      fill: #1967D2;\n",
              "      height: 32px;\n",
              "      padding: 0 0 0 0;\n",
              "      width: 32px;\n",
              "    }\n",
              "\n",
              "    .colab-df-convert:hover {\n",
              "      background-color: #E2EBFA;\n",
              "      box-shadow: 0px 1px 2px rgba(60, 64, 67, 0.3), 0px 1px 3px 1px rgba(60, 64, 67, 0.15);\n",
              "      fill: #174EA6;\n",
              "    }\n",
              "\n",
              "    [theme=dark] .colab-df-convert {\n",
              "      background-color: #3B4455;\n",
              "      fill: #D2E3FC;\n",
              "    }\n",
              "\n",
              "    [theme=dark] .colab-df-convert:hover {\n",
              "      background-color: #434B5C;\n",
              "      box-shadow: 0px 1px 3px 1px rgba(0, 0, 0, 0.15);\n",
              "      filter: drop-shadow(0px 1px 2px rgba(0, 0, 0, 0.3));\n",
              "      fill: #FFFFFF;\n",
              "    }\n",
              "  </style>\n",
              "\n",
              "      <script>\n",
              "        const buttonEl =\n",
              "          document.querySelector('#df-7c29a296-7f11-4205-a095-cc1abc5f45ad button.colab-df-convert');\n",
              "        buttonEl.style.display =\n",
              "          google.colab.kernel.accessAllowed ? 'block' : 'none';\n",
              "\n",
              "        async function convertToInteractive(key) {\n",
              "          const element = document.querySelector('#df-7c29a296-7f11-4205-a095-cc1abc5f45ad');\n",
              "          const dataTable =\n",
              "            await google.colab.kernel.invokeFunction('convertToInteractive',\n",
              "                                                     [key], {});\n",
              "          if (!dataTable) return;\n",
              "\n",
              "          const docLinkHtml = 'Like what you see? Visit the ' +\n",
              "            '<a target=\"_blank\" href=https://colab.research.google.com/notebooks/data_table.ipynb>data table notebook</a>'\n",
              "            + ' to learn more about interactive tables.';\n",
              "          element.innerHTML = '';\n",
              "          dataTable['output_type'] = 'display_data';\n",
              "          await google.colab.output.renderOutput(dataTable, element);\n",
              "          const docLink = document.createElement('div');\n",
              "          docLink.innerHTML = docLinkHtml;\n",
              "          element.appendChild(docLink);\n",
              "        }\n",
              "      </script>\n",
              "    </div>\n",
              "  </div>\n",
              "  "
            ],
            "text/plain": [
              "        order_id        created_date  total_paid      state\n",
              "8         245941 2017-01-01 10:32:23      183.52  Completed\n",
              "31        257847 2017-11-23 23:46:54     1367.11  Completed\n",
              "35        258985 2017-07-31 12:52:38     2264.60  Completed\n",
              "40        259668 2017-10-06 22:06:58     1132.33  Completed\n",
              "46        262016 2017-08-18 01:05:38     3109.57  Completed\n",
              "...          ...                 ...         ...        ...\n",
              "225865    526357 2018-03-13 12:01:26     1405.99  Completed\n",
              "225887    526380 2018-03-13 12:16:06     1436.99  Completed\n",
              "226012    526505 2018-03-13 15:56:14     1421.99  Completed\n",
              "226014    526507 2018-03-13 16:04:20     1137.97  Completed\n",
              "226155    526648 2018-03-13 21:07:19     1205.99  Completed\n",
              "\n",
              "[3541 rows x 4 columns]"
            ]
          },
          "execution_count": 54,
          "metadata": {},
          "output_type": "execute_result"
        }
      ],
      "source": [
        "orders_qu.loc[~orders_qu.order_id.isin(orderlines_qu.id_order.unique())]"
      ]
    },
    {
      "cell_type": "code",
      "execution_count": null,
      "metadata": {
        "colab": {
          "base_uri": "https://localhost:8080/",
          "height": 49
        },
        "id": "TgrYffUzIRhN",
        "outputId": "8a514e28-2226-455f-b8d2-d28d00db3d52"
      },
      "outputs": [
        {
          "data": {
            "text/html": [
              "\n",
              "  <div id=\"df-d2ca880a-2303-4666-8989-455b312ab586\">\n",
              "    <div class=\"colab-df-container\">\n",
              "      <div>\n",
              "<style scoped>\n",
              "    .dataframe tbody tr th:only-of-type {\n",
              "        vertical-align: middle;\n",
              "    }\n",
              "\n",
              "    .dataframe tbody tr th {\n",
              "        vertical-align: top;\n",
              "    }\n",
              "\n",
              "    .dataframe thead th {\n",
              "        text-align: right;\n",
              "    }\n",
              "</style>\n",
              "<table border=\"1\" class=\"dataframe\">\n",
              "  <thead>\n",
              "    <tr style=\"text-align: right;\">\n",
              "      <th></th>\n",
              "      <th>id</th>\n",
              "      <th>id_order</th>\n",
              "      <th>product_id</th>\n",
              "      <th>product_quantity</th>\n",
              "      <th>sku</th>\n",
              "      <th>unit_price</th>\n",
              "      <th>date</th>\n",
              "    </tr>\n",
              "  </thead>\n",
              "  <tbody>\n",
              "  </tbody>\n",
              "</table>\n",
              "</div>\n",
              "      <button class=\"colab-df-convert\" onclick=\"convertToInteractive('df-d2ca880a-2303-4666-8989-455b312ab586')\"\n",
              "              title=\"Convert this dataframe to an interactive table.\"\n",
              "              style=\"display:none;\">\n",
              "        \n",
              "  <svg xmlns=\"http://www.w3.org/2000/svg\" height=\"24px\"viewBox=\"0 0 24 24\"\n",
              "       width=\"24px\">\n",
              "    <path d=\"M0 0h24v24H0V0z\" fill=\"none\"/>\n",
              "    <path d=\"M18.56 5.44l.94 2.06.94-2.06 2.06-.94-2.06-.94-.94-2.06-.94 2.06-2.06.94zm-11 1L8.5 8.5l.94-2.06 2.06-.94-2.06-.94L8.5 2.5l-.94 2.06-2.06.94zm10 10l.94 2.06.94-2.06 2.06-.94-2.06-.94-.94-2.06-.94 2.06-2.06.94z\"/><path d=\"M17.41 7.96l-1.37-1.37c-.4-.4-.92-.59-1.43-.59-.52 0-1.04.2-1.43.59L10.3 9.45l-7.72 7.72c-.78.78-.78 2.05 0 2.83L4 21.41c.39.39.9.59 1.41.59.51 0 1.02-.2 1.41-.59l7.78-7.78 2.81-2.81c.8-.78.8-2.07 0-2.86zM5.41 20L4 18.59l7.72-7.72 1.47 1.35L5.41 20z\"/>\n",
              "  </svg>\n",
              "      </button>\n",
              "      \n",
              "  <style>\n",
              "    .colab-df-container {\n",
              "      display:flex;\n",
              "      flex-wrap:wrap;\n",
              "      gap: 12px;\n",
              "    }\n",
              "\n",
              "    .colab-df-convert {\n",
              "      background-color: #E8F0FE;\n",
              "      border: none;\n",
              "      border-radius: 50%;\n",
              "      cursor: pointer;\n",
              "      display: none;\n",
              "      fill: #1967D2;\n",
              "      height: 32px;\n",
              "      padding: 0 0 0 0;\n",
              "      width: 32px;\n",
              "    }\n",
              "\n",
              "    .colab-df-convert:hover {\n",
              "      background-color: #E2EBFA;\n",
              "      box-shadow: 0px 1px 2px rgba(60, 64, 67, 0.3), 0px 1px 3px 1px rgba(60, 64, 67, 0.15);\n",
              "      fill: #174EA6;\n",
              "    }\n",
              "\n",
              "    [theme=dark] .colab-df-convert {\n",
              "      background-color: #3B4455;\n",
              "      fill: #D2E3FC;\n",
              "    }\n",
              "\n",
              "    [theme=dark] .colab-df-convert:hover {\n",
              "      background-color: #434B5C;\n",
              "      box-shadow: 0px 1px 3px 1px rgba(0, 0, 0, 0.15);\n",
              "      filter: drop-shadow(0px 1px 2px rgba(0, 0, 0, 0.3));\n",
              "      fill: #FFFFFF;\n",
              "    }\n",
              "  </style>\n",
              "\n",
              "      <script>\n",
              "        const buttonEl =\n",
              "          document.querySelector('#df-d2ca880a-2303-4666-8989-455b312ab586 button.colab-df-convert');\n",
              "        buttonEl.style.display =\n",
              "          google.colab.kernel.accessAllowed ? 'block' : 'none';\n",
              "\n",
              "        async function convertToInteractive(key) {\n",
              "          const element = document.querySelector('#df-d2ca880a-2303-4666-8989-455b312ab586');\n",
              "          const dataTable =\n",
              "            await google.colab.kernel.invokeFunction('convertToInteractive',\n",
              "                                                     [key], {});\n",
              "          if (!dataTable) return;\n",
              "\n",
              "          const docLinkHtml = 'Like what you see? Visit the ' +\n",
              "            '<a target=\"_blank\" href=https://colab.research.google.com/notebooks/data_table.ipynb>data table notebook</a>'\n",
              "            + ' to learn more about interactive tables.';\n",
              "          element.innerHTML = '';\n",
              "          dataTable['output_type'] = 'display_data';\n",
              "          await google.colab.output.renderOutput(dataTable, element);\n",
              "          const docLink = document.createElement('div');\n",
              "          docLink.innerHTML = docLinkHtml;\n",
              "          element.appendChild(docLink);\n",
              "        }\n",
              "      </script>\n",
              "    </div>\n",
              "  </div>\n",
              "  "
            ],
            "text/plain": [
              "Empty DataFrame\n",
              "Columns: [id, id_order, product_id, product_quantity, sku, unit_price, date]\n",
              "Index: []"
            ]
          },
          "execution_count": 55,
          "metadata": {},
          "output_type": "execute_result"
        }
      ],
      "source": [
        "orderlines_qu.loc[~orderlines_qu.id_order.isin(orders_qu.order_id.unique())]"
      ]
    },
    {
      "cell_type": "markdown",
      "metadata": {
        "id": "9Xp_2-nnIX3k"
      },
      "source": [
        "## Merging to fix the difference"
      ]
    },
    {
      "cell_type": "code",
      "execution_count": null,
      "metadata": {
        "colab": {
          "base_uri": "https://localhost:8080/",
          "height": 206
        },
        "id": "PwpaAu7NIW-N",
        "outputId": "354f9a0a-65ff-40a3-867b-997a2cd761ac"
      },
      "outputs": [
        {
          "data": {
            "text/html": [
              "\n",
              "  <div id=\"df-f5eba43c-d20d-49b2-aaee-5533004b76a3\">\n",
              "    <div class=\"colab-df-container\">\n",
              "      <div>\n",
              "<style scoped>\n",
              "    .dataframe tbody tr th:only-of-type {\n",
              "        vertical-align: middle;\n",
              "    }\n",
              "\n",
              "    .dataframe tbody tr th {\n",
              "        vertical-align: top;\n",
              "    }\n",
              "\n",
              "    .dataframe thead th {\n",
              "        text-align: right;\n",
              "    }\n",
              "</style>\n",
              "<table border=\"1\" class=\"dataframe\">\n",
              "  <thead>\n",
              "    <tr style=\"text-align: right;\">\n",
              "      <th></th>\n",
              "      <th>order_id</th>\n",
              "      <th>created_date</th>\n",
              "      <th>total_paid</th>\n",
              "      <th>state</th>\n",
              "      <th>id</th>\n",
              "      <th>id_order</th>\n",
              "      <th>product_id</th>\n",
              "      <th>product_quantity</th>\n",
              "      <th>sku</th>\n",
              "      <th>unit_price</th>\n",
              "      <th>date</th>\n",
              "    </tr>\n",
              "  </thead>\n",
              "  <tbody>\n",
              "    <tr>\n",
              "      <th>0</th>\n",
              "      <td>241423</td>\n",
              "      <td>2017-11-06 13:10:02</td>\n",
              "      <td>136.15</td>\n",
              "      <td>Completed</td>\n",
              "      <td>1398738</td>\n",
              "      <td>241423</td>\n",
              "      <td>0</td>\n",
              "      <td>1</td>\n",
              "      <td>LAC0212</td>\n",
              "      <td>129.16</td>\n",
              "      <td>2017-11-06 12:47:20</td>\n",
              "    </tr>\n",
              "    <tr>\n",
              "      <th>1</th>\n",
              "      <td>242832</td>\n",
              "      <td>2017-12-31 17:40:03</td>\n",
              "      <td>15.76</td>\n",
              "      <td>Completed</td>\n",
              "      <td>1529178</td>\n",
              "      <td>242832</td>\n",
              "      <td>0</td>\n",
              "      <td>1</td>\n",
              "      <td>PAR0074</td>\n",
              "      <td>10.77</td>\n",
              "      <td>2017-12-31 17:26:40</td>\n",
              "    </tr>\n",
              "    <tr>\n",
              "      <th>2</th>\n",
              "      <td>243330</td>\n",
              "      <td>2017-02-16 10:59:38</td>\n",
              "      <td>84.98</td>\n",
              "      <td>Completed</td>\n",
              "      <td>1181923</td>\n",
              "      <td>243330</td>\n",
              "      <td>0</td>\n",
              "      <td>1</td>\n",
              "      <td>OWC0074</td>\n",
              "      <td>77.99</td>\n",
              "      <td>2017-02-15 17:07:44</td>\n",
              "    </tr>\n",
              "    <tr>\n",
              "      <th>3</th>\n",
              "      <td>245275</td>\n",
              "      <td>2017-06-28 11:35:37</td>\n",
              "      <td>149.00</td>\n",
              "      <td>Completed</td>\n",
              "      <td>1276706</td>\n",
              "      <td>245275</td>\n",
              "      <td>0</td>\n",
              "      <td>1</td>\n",
              "      <td>TAD0007</td>\n",
              "      <td>149.00</td>\n",
              "      <td>2017-06-28 11:12:30</td>\n",
              "    </tr>\n",
              "    <tr>\n",
              "      <th>4</th>\n",
              "      <td>245595</td>\n",
              "      <td>2017-01-21 12:52:47</td>\n",
              "      <td>112.97</td>\n",
              "      <td>Completed</td>\n",
              "      <td>1154394</td>\n",
              "      <td>245595</td>\n",
              "      <td>0</td>\n",
              "      <td>2</td>\n",
              "      <td>PAC1561</td>\n",
              "      <td>52.99</td>\n",
              "      <td>2017-01-21 12:49:00</td>\n",
              "    </tr>\n",
              "  </tbody>\n",
              "</table>\n",
              "</div>\n",
              "      <button class=\"colab-df-convert\" onclick=\"convertToInteractive('df-f5eba43c-d20d-49b2-aaee-5533004b76a3')\"\n",
              "              title=\"Convert this dataframe to an interactive table.\"\n",
              "              style=\"display:none;\">\n",
              "        \n",
              "  <svg xmlns=\"http://www.w3.org/2000/svg\" height=\"24px\"viewBox=\"0 0 24 24\"\n",
              "       width=\"24px\">\n",
              "    <path d=\"M0 0h24v24H0V0z\" fill=\"none\"/>\n",
              "    <path d=\"M18.56 5.44l.94 2.06.94-2.06 2.06-.94-2.06-.94-.94-2.06-.94 2.06-2.06.94zm-11 1L8.5 8.5l.94-2.06 2.06-.94-2.06-.94L8.5 2.5l-.94 2.06-2.06.94zm10 10l.94 2.06.94-2.06 2.06-.94-2.06-.94-.94-2.06-.94 2.06-2.06.94z\"/><path d=\"M17.41 7.96l-1.37-1.37c-.4-.4-.92-.59-1.43-.59-.52 0-1.04.2-1.43.59L10.3 9.45l-7.72 7.72c-.78.78-.78 2.05 0 2.83L4 21.41c.39.39.9.59 1.41.59.51 0 1.02-.2 1.41-.59l7.78-7.78 2.81-2.81c.8-.78.8-2.07 0-2.86zM5.41 20L4 18.59l7.72-7.72 1.47 1.35L5.41 20z\"/>\n",
              "  </svg>\n",
              "      </button>\n",
              "      \n",
              "  <style>\n",
              "    .colab-df-container {\n",
              "      display:flex;\n",
              "      flex-wrap:wrap;\n",
              "      gap: 12px;\n",
              "    }\n",
              "\n",
              "    .colab-df-convert {\n",
              "      background-color: #E8F0FE;\n",
              "      border: none;\n",
              "      border-radius: 50%;\n",
              "      cursor: pointer;\n",
              "      display: none;\n",
              "      fill: #1967D2;\n",
              "      height: 32px;\n",
              "      padding: 0 0 0 0;\n",
              "      width: 32px;\n",
              "    }\n",
              "\n",
              "    .colab-df-convert:hover {\n",
              "      background-color: #E2EBFA;\n",
              "      box-shadow: 0px 1px 2px rgba(60, 64, 67, 0.3), 0px 1px 3px 1px rgba(60, 64, 67, 0.15);\n",
              "      fill: #174EA6;\n",
              "    }\n",
              "\n",
              "    [theme=dark] .colab-df-convert {\n",
              "      background-color: #3B4455;\n",
              "      fill: #D2E3FC;\n",
              "    }\n",
              "\n",
              "    [theme=dark] .colab-df-convert:hover {\n",
              "      background-color: #434B5C;\n",
              "      box-shadow: 0px 1px 3px 1px rgba(0, 0, 0, 0.15);\n",
              "      filter: drop-shadow(0px 1px 2px rgba(0, 0, 0, 0.3));\n",
              "      fill: #FFFFFF;\n",
              "    }\n",
              "  </style>\n",
              "\n",
              "      <script>\n",
              "        const buttonEl =\n",
              "          document.querySelector('#df-f5eba43c-d20d-49b2-aaee-5533004b76a3 button.colab-df-convert');\n",
              "        buttonEl.style.display =\n",
              "          google.colab.kernel.accessAllowed ? 'block' : 'none';\n",
              "\n",
              "        async function convertToInteractive(key) {\n",
              "          const element = document.querySelector('#df-f5eba43c-d20d-49b2-aaee-5533004b76a3');\n",
              "          const dataTable =\n",
              "            await google.colab.kernel.invokeFunction('convertToInteractive',\n",
              "                                                     [key], {});\n",
              "          if (!dataTable) return;\n",
              "\n",
              "          const docLinkHtml = 'Like what you see? Visit the ' +\n",
              "            '<a target=\"_blank\" href=https://colab.research.google.com/notebooks/data_table.ipynb>data table notebook</a>'\n",
              "            + ' to learn more about interactive tables.';\n",
              "          element.innerHTML = '';\n",
              "          dataTable['output_type'] = 'display_data';\n",
              "          await google.colab.output.renderOutput(dataTable, element);\n",
              "          const docLink = document.createElement('div');\n",
              "          docLink.innerHTML = docLinkHtml;\n",
              "          element.appendChild(docLink);\n",
              "        }\n",
              "      </script>\n",
              "    </div>\n",
              "  </div>\n",
              "  "
            ],
            "text/plain": [
              "   order_id        created_date  total_paid      state       id  id_order  \\\n",
              "0    241423 2017-11-06 13:10:02      136.15  Completed  1398738    241423   \n",
              "1    242832 2017-12-31 17:40:03       15.76  Completed  1529178    242832   \n",
              "2    243330 2017-02-16 10:59:38       84.98  Completed  1181923    243330   \n",
              "3    245275 2017-06-28 11:35:37      149.00  Completed  1276706    245275   \n",
              "4    245595 2017-01-21 12:52:47      112.97  Completed  1154394    245595   \n",
              "\n",
              "   product_id  product_quantity      sku  unit_price                date  \n",
              "0           0                 1  LAC0212      129.16 2017-11-06 12:47:20  \n",
              "1           0                 1  PAR0074       10.77 2017-12-31 17:26:40  \n",
              "2           0                 1  OWC0074       77.99 2017-02-15 17:07:44  \n",
              "3           0                 1  TAD0007      149.00 2017-06-28 11:12:30  \n",
              "4           0                 2  PAC1561       52.99 2017-01-21 12:49:00  "
            ]
          },
          "execution_count": 56,
          "metadata": {},
          "output_type": "execute_result"
        }
      ],
      "source": [
        "orders_lines_merged_df = orders_qu.merge(orderlines_qu, how=\"inner\", left_on=\"order_id\", right_on=\"id_order\")\n",
        "\n",
        "orders_lines_merged_df.head(5)"
      ]
    },
    {
      "cell_type": "code",
      "execution_count": null,
      "metadata": {
        "id": "TJlndfZ4IjRJ"
      },
      "outputs": [],
      "source": [
        "o_ids_in_both_list = list(orders_lines_merged_df[\"order_id\"].unique())"
      ]
    },
    {
      "cell_type": "code",
      "execution_count": null,
      "metadata": {
        "colab": {
          "base_uri": "https://localhost:8080/"
        },
        "id": "1jyEWJltIlNf",
        "outputId": "7069305d-5151-46c4-828f-a7d13c0b0961"
      },
      "outputs": [
        {
          "name": "stdout",
          "output_type": "stream",
          "text": [
            "orders_qu 43064 orderlines_qu 56714\n"
          ]
        }
      ],
      "source": [
        "orders_qu = orders_qu.loc[orders_qu[\"order_id\"].isin(o_ids_in_both_list), :]\n",
        "orderlines_qu = orderlines_qu.loc[orderlines_qu[\"id_order\"].isin(o_ids_in_both_list), :]\n",
        "\n",
        "print(f\"orders_qu {orders_qu.shape[0]} orderlines_qu {orderlines_qu.shape[0]}\")"
      ]
    },
    {
      "cell_type": "code",
      "execution_count": null,
      "metadata": {
        "colab": {
          "base_uri": "https://localhost:8080/"
        },
        "id": "IvE4rQV8JB_G",
        "outputId": "6e546533-6c90-45cb-e4ae-5ac1318923cc"
      },
      "outputs": [
        {
          "data": {
            "text/plain": [
              "(43064, 43064)"
            ]
          },
          "execution_count": 59,
          "metadata": {},
          "output_type": "execute_result"
        }
      ],
      "source": [
        "len(orders_qu[\"order_id\"].unique()), len(orderlines_qu[\"id_order\"].unique())"
      ]
    },
    {
      "cell_type": "code",
      "execution_count": null,
      "metadata": {
        "id": "DXzoWP0cJdp7"
      },
      "outputs": [],
      "source": [
        "orders_order_ids = orders[\"order_id\"]\n",
        "orderlines = orderlines[orderlines[\"id_order\"].isin(orders_order_ids)]\n",
        "orderlines\n",
        "\n",
        "\n",
        "orderlines_order_ids = orderlines[\"id_order\"]\n",
        "orders = orders[orders[\"order_id\"].isin(orderlines_order_ids)]"
      ]
    },
    {
      "cell_type": "markdown",
      "metadata": {
        "id": "ssPRQmtTLHMd"
      },
      "source": [
        "## Revenues from different tables (Exploring the revenues)"
      ]
    },
    {
      "cell_type": "code",
      "execution_count": null,
      "metadata": {
        "colab": {
          "base_uri": "https://localhost:8080/",
          "height": 112
        },
        "id": "VU-CEjKgLy7b",
        "outputId": "599350ff-b1be-4235-bc17-3f67f9e1153b"
      },
      "outputs": [
        {
          "data": {
            "text/html": [
              "\n",
              "  <div id=\"df-ec337fa1-506a-4b90-8860-eb68528484cb\">\n",
              "    <div class=\"colab-df-container\">\n",
              "      <div>\n",
              "<style scoped>\n",
              "    .dataframe tbody tr th:only-of-type {\n",
              "        vertical-align: middle;\n",
              "    }\n",
              "\n",
              "    .dataframe tbody tr th {\n",
              "        vertical-align: top;\n",
              "    }\n",
              "\n",
              "    .dataframe thead th {\n",
              "        text-align: right;\n",
              "    }\n",
              "</style>\n",
              "<table border=\"1\" class=\"dataframe\">\n",
              "  <thead>\n",
              "    <tr style=\"text-align: right;\">\n",
              "      <th></th>\n",
              "      <th>id</th>\n",
              "      <th>id_order</th>\n",
              "      <th>product_id</th>\n",
              "      <th>product_quantity</th>\n",
              "      <th>sku</th>\n",
              "      <th>unit_price</th>\n",
              "      <th>date</th>\n",
              "    </tr>\n",
              "  </thead>\n",
              "  <tbody>\n",
              "    <tr>\n",
              "      <th>7</th>\n",
              "      <td>1119116</td>\n",
              "      <td>299545</td>\n",
              "      <td>0</td>\n",
              "      <td>1</td>\n",
              "      <td>OWC0100</td>\n",
              "      <td>47.49</td>\n",
              "      <td>2017-01-01 01:46:16</td>\n",
              "    </tr>\n",
              "    <tr>\n",
              "      <th>8</th>\n",
              "      <td>1119119</td>\n",
              "      <td>299546</td>\n",
              "      <td>0</td>\n",
              "      <td>1</td>\n",
              "      <td>IOT0014</td>\n",
              "      <td>18.99</td>\n",
              "      <td>2017-01-01 01:50:34</td>\n",
              "    </tr>\n",
              "  </tbody>\n",
              "</table>\n",
              "</div>\n",
              "      <button class=\"colab-df-convert\" onclick=\"convertToInteractive('df-ec337fa1-506a-4b90-8860-eb68528484cb')\"\n",
              "              title=\"Convert this dataframe to an interactive table.\"\n",
              "              style=\"display:none;\">\n",
              "        \n",
              "  <svg xmlns=\"http://www.w3.org/2000/svg\" height=\"24px\"viewBox=\"0 0 24 24\"\n",
              "       width=\"24px\">\n",
              "    <path d=\"M0 0h24v24H0V0z\" fill=\"none\"/>\n",
              "    <path d=\"M18.56 5.44l.94 2.06.94-2.06 2.06-.94-2.06-.94-.94-2.06-.94 2.06-2.06.94zm-11 1L8.5 8.5l.94-2.06 2.06-.94-2.06-.94L8.5 2.5l-.94 2.06-2.06.94zm10 10l.94 2.06.94-2.06 2.06-.94-2.06-.94-.94-2.06-.94 2.06-2.06.94z\"/><path d=\"M17.41 7.96l-1.37-1.37c-.4-.4-.92-.59-1.43-.59-.52 0-1.04.2-1.43.59L10.3 9.45l-7.72 7.72c-.78.78-.78 2.05 0 2.83L4 21.41c.39.39.9.59 1.41.59.51 0 1.02-.2 1.41-.59l7.78-7.78 2.81-2.81c.8-.78.8-2.07 0-2.86zM5.41 20L4 18.59l7.72-7.72 1.47 1.35L5.41 20z\"/>\n",
              "  </svg>\n",
              "      </button>\n",
              "      \n",
              "  <style>\n",
              "    .colab-df-container {\n",
              "      display:flex;\n",
              "      flex-wrap:wrap;\n",
              "      gap: 12px;\n",
              "    }\n",
              "\n",
              "    .colab-df-convert {\n",
              "      background-color: #E8F0FE;\n",
              "      border: none;\n",
              "      border-radius: 50%;\n",
              "      cursor: pointer;\n",
              "      display: none;\n",
              "      fill: #1967D2;\n",
              "      height: 32px;\n",
              "      padding: 0 0 0 0;\n",
              "      width: 32px;\n",
              "    }\n",
              "\n",
              "    .colab-df-convert:hover {\n",
              "      background-color: #E2EBFA;\n",
              "      box-shadow: 0px 1px 2px rgba(60, 64, 67, 0.3), 0px 1px 3px 1px rgba(60, 64, 67, 0.15);\n",
              "      fill: #174EA6;\n",
              "    }\n",
              "\n",
              "    [theme=dark] .colab-df-convert {\n",
              "      background-color: #3B4455;\n",
              "      fill: #D2E3FC;\n",
              "    }\n",
              "\n",
              "    [theme=dark] .colab-df-convert:hover {\n",
              "      background-color: #434B5C;\n",
              "      box-shadow: 0px 1px 3px 1px rgba(0, 0, 0, 0.15);\n",
              "      filter: drop-shadow(0px 1px 2px rgba(0, 0, 0, 0.3));\n",
              "      fill: #FFFFFF;\n",
              "    }\n",
              "  </style>\n",
              "\n",
              "      <script>\n",
              "        const buttonEl =\n",
              "          document.querySelector('#df-ec337fa1-506a-4b90-8860-eb68528484cb button.colab-df-convert');\n",
              "        buttonEl.style.display =\n",
              "          google.colab.kernel.accessAllowed ? 'block' : 'none';\n",
              "\n",
              "        async function convertToInteractive(key) {\n",
              "          const element = document.querySelector('#df-ec337fa1-506a-4b90-8860-eb68528484cb');\n",
              "          const dataTable =\n",
              "            await google.colab.kernel.invokeFunction('convertToInteractive',\n",
              "                                                     [key], {});\n",
              "          if (!dataTable) return;\n",
              "\n",
              "          const docLinkHtml = 'Like what you see? Visit the ' +\n",
              "            '<a target=\"_blank\" href=https://colab.research.google.com/notebooks/data_table.ipynb>data table notebook</a>'\n",
              "            + ' to learn more about interactive tables.';\n",
              "          element.innerHTML = '';\n",
              "          dataTable['output_type'] = 'display_data';\n",
              "          await google.colab.output.renderOutput(dataTable, element);\n",
              "          const docLink = document.createElement('div');\n",
              "          docLink.innerHTML = docLinkHtml;\n",
              "          element.appendChild(docLink);\n",
              "        }\n",
              "      </script>\n",
              "    </div>\n",
              "  </div>\n",
              "  "
            ],
            "text/plain": [
              "        id  id_order  product_id  product_quantity      sku  unit_price  \\\n",
              "7  1119116    299545           0                 1  OWC0100       47.49   \n",
              "8  1119119    299546           0                 1  IOT0014       18.99   \n",
              "\n",
              "                 date  \n",
              "7 2017-01-01 01:46:16  \n",
              "8 2017-01-01 01:50:34  "
            ]
          },
          "execution_count": 61,
          "metadata": {},
          "output_type": "execute_result"
        }
      ],
      "source": [
        "orderlines_copy = orderlines_qu.copy()\n",
        "orderlines_copy.head(2)"
      ]
    },
    {
      "cell_type": "code",
      "execution_count": null,
      "metadata": {
        "colab": {
          "base_uri": "https://localhost:8080/",
          "height": 143
        },
        "id": "V4Y1Jsm7Mc81",
        "outputId": "35ccb855-91a7-467e-c087-bb5696d38abc"
      },
      "outputs": [
        {
          "data": {
            "text/html": [
              "\n",
              "  <div id=\"df-aa81bb77-d24d-4fa7-95a7-db79d5f1e1a0\">\n",
              "    <div class=\"colab-df-container\">\n",
              "      <div>\n",
              "<style scoped>\n",
              "    .dataframe tbody tr th:only-of-type {\n",
              "        vertical-align: middle;\n",
              "    }\n",
              "\n",
              "    .dataframe tbody tr th {\n",
              "        vertical-align: top;\n",
              "    }\n",
              "\n",
              "    .dataframe thead th {\n",
              "        text-align: right;\n",
              "    }\n",
              "</style>\n",
              "<table border=\"1\" class=\"dataframe\">\n",
              "  <thead>\n",
              "    <tr style=\"text-align: right;\">\n",
              "      <th></th>\n",
              "      <th>id</th>\n",
              "      <th>id_order</th>\n",
              "      <th>product_id</th>\n",
              "      <th>product_quantity</th>\n",
              "      <th>sku</th>\n",
              "      <th>unit_price</th>\n",
              "      <th>date</th>\n",
              "      <th>total_unit_price</th>\n",
              "    </tr>\n",
              "  </thead>\n",
              "  <tbody>\n",
              "    <tr>\n",
              "      <th>126086</th>\n",
              "      <td>1369387</td>\n",
              "      <td>408259</td>\n",
              "      <td>0</td>\n",
              "      <td>1</td>\n",
              "      <td>APP0697</td>\n",
              "      <td>6.99</td>\n",
              "      <td>2017-10-04 10:09:13</td>\n",
              "      <td>6.99</td>\n",
              "    </tr>\n",
              "    <tr>\n",
              "      <th>182855</th>\n",
              "      <td>1470126</td>\n",
              "      <td>452727</td>\n",
              "      <td>0</td>\n",
              "      <td>1</td>\n",
              "      <td>CRU0038-2</td>\n",
              "      <td>467.99</td>\n",
              "      <td>2017-11-30 16:42:03</td>\n",
              "      <td>467.99</td>\n",
              "    </tr>\n",
              "    <tr>\n",
              "      <th>92643</th>\n",
              "      <td>1296429</td>\n",
              "      <td>379214</td>\n",
              "      <td>0</td>\n",
              "      <td>1</td>\n",
              "      <td>STA0042</td>\n",
              "      <td>29.99</td>\n",
              "      <td>2017-07-18 21:12:21</td>\n",
              "      <td>29.99</td>\n",
              "    </tr>\n",
              "  </tbody>\n",
              "</table>\n",
              "</div>\n",
              "      <button class=\"colab-df-convert\" onclick=\"convertToInteractive('df-aa81bb77-d24d-4fa7-95a7-db79d5f1e1a0')\"\n",
              "              title=\"Convert this dataframe to an interactive table.\"\n",
              "              style=\"display:none;\">\n",
              "        \n",
              "  <svg xmlns=\"http://www.w3.org/2000/svg\" height=\"24px\"viewBox=\"0 0 24 24\"\n",
              "       width=\"24px\">\n",
              "    <path d=\"M0 0h24v24H0V0z\" fill=\"none\"/>\n",
              "    <path d=\"M18.56 5.44l.94 2.06.94-2.06 2.06-.94-2.06-.94-.94-2.06-.94 2.06-2.06.94zm-11 1L8.5 8.5l.94-2.06 2.06-.94-2.06-.94L8.5 2.5l-.94 2.06-2.06.94zm10 10l.94 2.06.94-2.06 2.06-.94-2.06-.94-.94-2.06-.94 2.06-2.06.94z\"/><path d=\"M17.41 7.96l-1.37-1.37c-.4-.4-.92-.59-1.43-.59-.52 0-1.04.2-1.43.59L10.3 9.45l-7.72 7.72c-.78.78-.78 2.05 0 2.83L4 21.41c.39.39.9.59 1.41.59.51 0 1.02-.2 1.41-.59l7.78-7.78 2.81-2.81c.8-.78.8-2.07 0-2.86zM5.41 20L4 18.59l7.72-7.72 1.47 1.35L5.41 20z\"/>\n",
              "  </svg>\n",
              "      </button>\n",
              "      \n",
              "  <style>\n",
              "    .colab-df-container {\n",
              "      display:flex;\n",
              "      flex-wrap:wrap;\n",
              "      gap: 12px;\n",
              "    }\n",
              "\n",
              "    .colab-df-convert {\n",
              "      background-color: #E8F0FE;\n",
              "      border: none;\n",
              "      border-radius: 50%;\n",
              "      cursor: pointer;\n",
              "      display: none;\n",
              "      fill: #1967D2;\n",
              "      height: 32px;\n",
              "      padding: 0 0 0 0;\n",
              "      width: 32px;\n",
              "    }\n",
              "\n",
              "    .colab-df-convert:hover {\n",
              "      background-color: #E2EBFA;\n",
              "      box-shadow: 0px 1px 2px rgba(60, 64, 67, 0.3), 0px 1px 3px 1px rgba(60, 64, 67, 0.15);\n",
              "      fill: #174EA6;\n",
              "    }\n",
              "\n",
              "    [theme=dark] .colab-df-convert {\n",
              "      background-color: #3B4455;\n",
              "      fill: #D2E3FC;\n",
              "    }\n",
              "\n",
              "    [theme=dark] .colab-df-convert:hover {\n",
              "      background-color: #434B5C;\n",
              "      box-shadow: 0px 1px 3px 1px rgba(0, 0, 0, 0.15);\n",
              "      filter: drop-shadow(0px 1px 2px rgba(0, 0, 0, 0.3));\n",
              "      fill: #FFFFFF;\n",
              "    }\n",
              "  </style>\n",
              "\n",
              "      <script>\n",
              "        const buttonEl =\n",
              "          document.querySelector('#df-aa81bb77-d24d-4fa7-95a7-db79d5f1e1a0 button.colab-df-convert');\n",
              "        buttonEl.style.display =\n",
              "          google.colab.kernel.accessAllowed ? 'block' : 'none';\n",
              "\n",
              "        async function convertToInteractive(key) {\n",
              "          const element = document.querySelector('#df-aa81bb77-d24d-4fa7-95a7-db79d5f1e1a0');\n",
              "          const dataTable =\n",
              "            await google.colab.kernel.invokeFunction('convertToInteractive',\n",
              "                                                     [key], {});\n",
              "          if (!dataTable) return;\n",
              "\n",
              "          const docLinkHtml = 'Like what you see? Visit the ' +\n",
              "            '<a target=\"_blank\" href=https://colab.research.google.com/notebooks/data_table.ipynb>data table notebook</a>'\n",
              "            + ' to learn more about interactive tables.';\n",
              "          element.innerHTML = '';\n",
              "          dataTable['output_type'] = 'display_data';\n",
              "          await google.colab.output.renderOutput(dataTable, element);\n",
              "          const docLink = document.createElement('div');\n",
              "          docLink.innerHTML = docLinkHtml;\n",
              "          element.appendChild(docLink);\n",
              "        }\n",
              "      </script>\n",
              "    </div>\n",
              "  </div>\n",
              "  "
            ],
            "text/plain": [
              "             id  id_order  product_id  product_quantity        sku  \\\n",
              "126086  1369387    408259           0                 1    APP0697   \n",
              "182855  1470126    452727           0                 1  CRU0038-2   \n",
              "92643   1296429    379214           0                 1    STA0042   \n",
              "\n",
              "        unit_price                date  total_unit_price  \n",
              "126086        6.99 2017-10-04 10:09:13              6.99  \n",
              "182855      467.99 2017-11-30 16:42:03            467.99  \n",
              "92643        29.99 2017-07-18 21:12:21             29.99  "
            ]
          },
          "execution_count": 62,
          "metadata": {},
          "output_type": "execute_result"
        }
      ],
      "source": [
        "# total_unit_price, as a product of quantity and unit_price\n",
        "\n",
        "orderlines_copy['total_unit_price'] = orderlines_copy['unit_price'] * orderlines_copy['product_quantity']\n",
        "\n",
        "orderlines_copy.sample(3)"
      ]
    },
    {
      "cell_type": "code",
      "execution_count": null,
      "metadata": {
        "colab": {
          "base_uri": "https://localhost:8080/",
          "height": 423
        },
        "id": "Q_sm-rFVNLNt",
        "outputId": "6deaba91-e6aa-4e66-eb8e-cbf13ed66e2f"
      },
      "outputs": [
        {
          "data": {
            "text/html": [
              "\n",
              "  <div id=\"df-16b4d92e-640c-4045-9a06-e7d077cabc10\">\n",
              "    <div class=\"colab-df-container\">\n",
              "      <div>\n",
              "<style scoped>\n",
              "    .dataframe tbody tr th:only-of-type {\n",
              "        vertical-align: middle;\n",
              "    }\n",
              "\n",
              "    .dataframe tbody tr th {\n",
              "        vertical-align: top;\n",
              "    }\n",
              "\n",
              "    .dataframe thead th {\n",
              "        text-align: right;\n",
              "    }\n",
              "</style>\n",
              "<table border=\"1\" class=\"dataframe\">\n",
              "  <thead>\n",
              "    <tr style=\"text-align: right;\">\n",
              "      <th></th>\n",
              "      <th>id_order</th>\n",
              "      <th>total_unit_price</th>\n",
              "    </tr>\n",
              "  </thead>\n",
              "  <tbody>\n",
              "    <tr>\n",
              "      <th>0</th>\n",
              "      <td>241423</td>\n",
              "      <td>129.16</td>\n",
              "    </tr>\n",
              "    <tr>\n",
              "      <th>1</th>\n",
              "      <td>242832</td>\n",
              "      <td>10.77</td>\n",
              "    </tr>\n",
              "    <tr>\n",
              "      <th>2</th>\n",
              "      <td>243330</td>\n",
              "      <td>77.99</td>\n",
              "    </tr>\n",
              "    <tr>\n",
              "      <th>3</th>\n",
              "      <td>245275</td>\n",
              "      <td>149.00</td>\n",
              "    </tr>\n",
              "    <tr>\n",
              "      <th>4</th>\n",
              "      <td>245595</td>\n",
              "      <td>105.98</td>\n",
              "    </tr>\n",
              "    <tr>\n",
              "      <th>...</th>\n",
              "      <td>...</td>\n",
              "      <td>...</td>\n",
              "    </tr>\n",
              "    <tr>\n",
              "      <th>43059</th>\n",
              "      <td>527042</td>\n",
              "      <td>13.99</td>\n",
              "    </tr>\n",
              "    <tr>\n",
              "      <th>43060</th>\n",
              "      <td>527070</td>\n",
              "      <td>19.98</td>\n",
              "    </tr>\n",
              "    <tr>\n",
              "      <th>43061</th>\n",
              "      <td>527074</td>\n",
              "      <td>19.98</td>\n",
              "    </tr>\n",
              "    <tr>\n",
              "      <th>43062</th>\n",
              "      <td>527096</td>\n",
              "      <td>29.97</td>\n",
              "    </tr>\n",
              "    <tr>\n",
              "      <th>43063</th>\n",
              "      <td>527112</td>\n",
              "      <td>9.99</td>\n",
              "    </tr>\n",
              "  </tbody>\n",
              "</table>\n",
              "<p>43064 rows × 2 columns</p>\n",
              "</div>\n",
              "      <button class=\"colab-df-convert\" onclick=\"convertToInteractive('df-16b4d92e-640c-4045-9a06-e7d077cabc10')\"\n",
              "              title=\"Convert this dataframe to an interactive table.\"\n",
              "              style=\"display:none;\">\n",
              "        \n",
              "  <svg xmlns=\"http://www.w3.org/2000/svg\" height=\"24px\"viewBox=\"0 0 24 24\"\n",
              "       width=\"24px\">\n",
              "    <path d=\"M0 0h24v24H0V0z\" fill=\"none\"/>\n",
              "    <path d=\"M18.56 5.44l.94 2.06.94-2.06 2.06-.94-2.06-.94-.94-2.06-.94 2.06-2.06.94zm-11 1L8.5 8.5l.94-2.06 2.06-.94-2.06-.94L8.5 2.5l-.94 2.06-2.06.94zm10 10l.94 2.06.94-2.06 2.06-.94-2.06-.94-.94-2.06-.94 2.06-2.06.94z\"/><path d=\"M17.41 7.96l-1.37-1.37c-.4-.4-.92-.59-1.43-.59-.52 0-1.04.2-1.43.59L10.3 9.45l-7.72 7.72c-.78.78-.78 2.05 0 2.83L4 21.41c.39.39.9.59 1.41.59.51 0 1.02-.2 1.41-.59l7.78-7.78 2.81-2.81c.8-.78.8-2.07 0-2.86zM5.41 20L4 18.59l7.72-7.72 1.47 1.35L5.41 20z\"/>\n",
              "  </svg>\n",
              "      </button>\n",
              "      \n",
              "  <style>\n",
              "    .colab-df-container {\n",
              "      display:flex;\n",
              "      flex-wrap:wrap;\n",
              "      gap: 12px;\n",
              "    }\n",
              "\n",
              "    .colab-df-convert {\n",
              "      background-color: #E8F0FE;\n",
              "      border: none;\n",
              "      border-radius: 50%;\n",
              "      cursor: pointer;\n",
              "      display: none;\n",
              "      fill: #1967D2;\n",
              "      height: 32px;\n",
              "      padding: 0 0 0 0;\n",
              "      width: 32px;\n",
              "    }\n",
              "\n",
              "    .colab-df-convert:hover {\n",
              "      background-color: #E2EBFA;\n",
              "      box-shadow: 0px 1px 2px rgba(60, 64, 67, 0.3), 0px 1px 3px 1px rgba(60, 64, 67, 0.15);\n",
              "      fill: #174EA6;\n",
              "    }\n",
              "\n",
              "    [theme=dark] .colab-df-convert {\n",
              "      background-color: #3B4455;\n",
              "      fill: #D2E3FC;\n",
              "    }\n",
              "\n",
              "    [theme=dark] .colab-df-convert:hover {\n",
              "      background-color: #434B5C;\n",
              "      box-shadow: 0px 1px 3px 1px rgba(0, 0, 0, 0.15);\n",
              "      filter: drop-shadow(0px 1px 2px rgba(0, 0, 0, 0.3));\n",
              "      fill: #FFFFFF;\n",
              "    }\n",
              "  </style>\n",
              "\n",
              "      <script>\n",
              "        const buttonEl =\n",
              "          document.querySelector('#df-16b4d92e-640c-4045-9a06-e7d077cabc10 button.colab-df-convert');\n",
              "        buttonEl.style.display =\n",
              "          google.colab.kernel.accessAllowed ? 'block' : 'none';\n",
              "\n",
              "        async function convertToInteractive(key) {\n",
              "          const element = document.querySelector('#df-16b4d92e-640c-4045-9a06-e7d077cabc10');\n",
              "          const dataTable =\n",
              "            await google.colab.kernel.invokeFunction('convertToInteractive',\n",
              "                                                     [key], {});\n",
              "          if (!dataTable) return;\n",
              "\n",
              "          const docLinkHtml = 'Like what you see? Visit the ' +\n",
              "            '<a target=\"_blank\" href=https://colab.research.google.com/notebooks/data_table.ipynb>data table notebook</a>'\n",
              "            + ' to learn more about interactive tables.';\n",
              "          element.innerHTML = '';\n",
              "          dataTable['output_type'] = 'display_data';\n",
              "          await google.colab.output.renderOutput(dataTable, element);\n",
              "          const docLink = document.createElement('div');\n",
              "          docLink.innerHTML = docLinkHtml;\n",
              "          element.appendChild(docLink);\n",
              "        }\n",
              "      </script>\n",
              "    </div>\n",
              "  </div>\n",
              "  "
            ],
            "text/plain": [
              "       id_order  total_unit_price\n",
              "0        241423            129.16\n",
              "1        242832             10.77\n",
              "2        243330             77.99\n",
              "3        245275            149.00\n",
              "4        245595            105.98\n",
              "...         ...               ...\n",
              "43059    527042             13.99\n",
              "43060    527070             19.98\n",
              "43061    527074             19.98\n",
              "43062    527096             29.97\n",
              "43063    527112              9.99\n",
              "\n",
              "[43064 rows x 2 columns]"
            ]
          },
          "execution_count": 63,
          "metadata": {},
          "output_type": "execute_result"
        }
      ],
      "source": [
        "# (sum)total_unit_price grouped by id_order\n",
        "orderlines_group_order_df = orderlines_copy.groupby(\"id_order\", as_index=False)[\"total_unit_price\"].sum()\n",
        "orderlines_group_order_df"
      ]
    },
    {
      "cell_type": "code",
      "execution_count": null,
      "metadata": {
        "id": "FZznkHc4PceQ"
      },
      "outputs": [],
      "source": [
        "# orders table have total_paid\n",
        "# orderlines table have now total_unit_price\n",
        "\n",
        "# let's check the difference\n",
        "\n",
        "orders_copy = orders_qu.copy()"
      ]
    },
    {
      "cell_type": "code",
      "execution_count": null,
      "metadata": {
        "colab": {
          "base_uri": "https://localhost:8080/",
          "height": 112
        },
        "id": "UmsZJTagQGeL",
        "outputId": "c0503e2d-c8df-4315-e57d-a50ebb23ffab"
      },
      "outputs": [
        {
          "data": {
            "text/html": [
              "\n",
              "  <div id=\"df-ad401b7a-bf8f-47e0-a9fe-d650d2360bb7\">\n",
              "    <div class=\"colab-df-container\">\n",
              "      <div>\n",
              "<style scoped>\n",
              "    .dataframe tbody tr th:only-of-type {\n",
              "        vertical-align: middle;\n",
              "    }\n",
              "\n",
              "    .dataframe tbody tr th {\n",
              "        vertical-align: top;\n",
              "    }\n",
              "\n",
              "    .dataframe thead th {\n",
              "        text-align: right;\n",
              "    }\n",
              "</style>\n",
              "<table border=\"1\" class=\"dataframe\">\n",
              "  <thead>\n",
              "    <tr style=\"text-align: right;\">\n",
              "      <th></th>\n",
              "      <th>order_id</th>\n",
              "      <th>created_date</th>\n",
              "      <th>total_paid</th>\n",
              "      <th>state</th>\n",
              "      <th>id</th>\n",
              "      <th>id_order</th>\n",
              "      <th>product_id</th>\n",
              "      <th>product_quantity</th>\n",
              "      <th>sku</th>\n",
              "      <th>unit_price</th>\n",
              "      <th>date</th>\n",
              "      <th>total_unit_price</th>\n",
              "    </tr>\n",
              "  </thead>\n",
              "  <tbody>\n",
              "    <tr>\n",
              "      <th>0</th>\n",
              "      <td>241423</td>\n",
              "      <td>2017-11-06 13:10:02</td>\n",
              "      <td>136.15</td>\n",
              "      <td>Completed</td>\n",
              "      <td>1398738</td>\n",
              "      <td>241423</td>\n",
              "      <td>0</td>\n",
              "      <td>1</td>\n",
              "      <td>LAC0212</td>\n",
              "      <td>129.16</td>\n",
              "      <td>2017-11-06 12:47:20</td>\n",
              "      <td>129.16</td>\n",
              "    </tr>\n",
              "    <tr>\n",
              "      <th>1</th>\n",
              "      <td>242832</td>\n",
              "      <td>2017-12-31 17:40:03</td>\n",
              "      <td>15.76</td>\n",
              "      <td>Completed</td>\n",
              "      <td>1529178</td>\n",
              "      <td>242832</td>\n",
              "      <td>0</td>\n",
              "      <td>1</td>\n",
              "      <td>PAR0074</td>\n",
              "      <td>10.77</td>\n",
              "      <td>2017-12-31 17:26:40</td>\n",
              "      <td>10.77</td>\n",
              "    </tr>\n",
              "  </tbody>\n",
              "</table>\n",
              "</div>\n",
              "      <button class=\"colab-df-convert\" onclick=\"convertToInteractive('df-ad401b7a-bf8f-47e0-a9fe-d650d2360bb7')\"\n",
              "              title=\"Convert this dataframe to an interactive table.\"\n",
              "              style=\"display:none;\">\n",
              "        \n",
              "  <svg xmlns=\"http://www.w3.org/2000/svg\" height=\"24px\"viewBox=\"0 0 24 24\"\n",
              "       width=\"24px\">\n",
              "    <path d=\"M0 0h24v24H0V0z\" fill=\"none\"/>\n",
              "    <path d=\"M18.56 5.44l.94 2.06.94-2.06 2.06-.94-2.06-.94-.94-2.06-.94 2.06-2.06.94zm-11 1L8.5 8.5l.94-2.06 2.06-.94-2.06-.94L8.5 2.5l-.94 2.06-2.06.94zm10 10l.94 2.06.94-2.06 2.06-.94-2.06-.94-.94-2.06-.94 2.06-2.06.94z\"/><path d=\"M17.41 7.96l-1.37-1.37c-.4-.4-.92-.59-1.43-.59-.52 0-1.04.2-1.43.59L10.3 9.45l-7.72 7.72c-.78.78-.78 2.05 0 2.83L4 21.41c.39.39.9.59 1.41.59.51 0 1.02-.2 1.41-.59l7.78-7.78 2.81-2.81c.8-.78.8-2.07 0-2.86zM5.41 20L4 18.59l7.72-7.72 1.47 1.35L5.41 20z\"/>\n",
              "  </svg>\n",
              "      </button>\n",
              "      \n",
              "  <style>\n",
              "    .colab-df-container {\n",
              "      display:flex;\n",
              "      flex-wrap:wrap;\n",
              "      gap: 12px;\n",
              "    }\n",
              "\n",
              "    .colab-df-convert {\n",
              "      background-color: #E8F0FE;\n",
              "      border: none;\n",
              "      border-radius: 50%;\n",
              "      cursor: pointer;\n",
              "      display: none;\n",
              "      fill: #1967D2;\n",
              "      height: 32px;\n",
              "      padding: 0 0 0 0;\n",
              "      width: 32px;\n",
              "    }\n",
              "\n",
              "    .colab-df-convert:hover {\n",
              "      background-color: #E2EBFA;\n",
              "      box-shadow: 0px 1px 2px rgba(60, 64, 67, 0.3), 0px 1px 3px 1px rgba(60, 64, 67, 0.15);\n",
              "      fill: #174EA6;\n",
              "    }\n",
              "\n",
              "    [theme=dark] .colab-df-convert {\n",
              "      background-color: #3B4455;\n",
              "      fill: #D2E3FC;\n",
              "    }\n",
              "\n",
              "    [theme=dark] .colab-df-convert:hover {\n",
              "      background-color: #434B5C;\n",
              "      box-shadow: 0px 1px 3px 1px rgba(0, 0, 0, 0.15);\n",
              "      filter: drop-shadow(0px 1px 2px rgba(0, 0, 0, 0.3));\n",
              "      fill: #FFFFFF;\n",
              "    }\n",
              "  </style>\n",
              "\n",
              "      <script>\n",
              "        const buttonEl =\n",
              "          document.querySelector('#df-ad401b7a-bf8f-47e0-a9fe-d650d2360bb7 button.colab-df-convert');\n",
              "        buttonEl.style.display =\n",
              "          google.colab.kernel.accessAllowed ? 'block' : 'none';\n",
              "\n",
              "        async function convertToInteractive(key) {\n",
              "          const element = document.querySelector('#df-ad401b7a-bf8f-47e0-a9fe-d650d2360bb7');\n",
              "          const dataTable =\n",
              "            await google.colab.kernel.invokeFunction('convertToInteractive',\n",
              "                                                     [key], {});\n",
              "          if (!dataTable) return;\n",
              "\n",
              "          const docLinkHtml = 'Like what you see? Visit the ' +\n",
              "            '<a target=\"_blank\" href=https://colab.research.google.com/notebooks/data_table.ipynb>data table notebook</a>'\n",
              "            + ' to learn more about interactive tables.';\n",
              "          element.innerHTML = '';\n",
              "          dataTable['output_type'] = 'display_data';\n",
              "          await google.colab.output.renderOutput(dataTable, element);\n",
              "          const docLink = document.createElement('div');\n",
              "          docLink.innerHTML = docLinkHtml;\n",
              "          element.appendChild(docLink);\n",
              "        }\n",
              "      </script>\n",
              "    </div>\n",
              "  </div>\n",
              "  "
            ],
            "text/plain": [
              "   order_id        created_date  total_paid      state       id  id_order  \\\n",
              "0    241423 2017-11-06 13:10:02      136.15  Completed  1398738    241423   \n",
              "1    242832 2017-12-31 17:40:03       15.76  Completed  1529178    242832   \n",
              "\n",
              "   product_id  product_quantity      sku  unit_price                date  \\\n",
              "0           0                 1  LAC0212      129.16 2017-11-06 12:47:20   \n",
              "1           0                 1  PAR0074       10.77 2017-12-31 17:26:40   \n",
              "\n",
              "   total_unit_price  \n",
              "0            129.16  \n",
              "1             10.77  "
            ]
          },
          "execution_count": 65,
          "metadata": {},
          "output_type": "execute_result"
        }
      ],
      "source": [
        "diff_df = orders_copy.merge(\n",
        "\n",
        "    orderlines_copy,\n",
        "    how = \"inner\",\n",
        "    left_on = \"order_id\",\n",
        "    right_on = \"id_order\"\n",
        ")\n",
        "\n",
        "diff_df.head(2)"
      ]
    },
    {
      "cell_type": "code",
      "execution_count": null,
      "metadata": {
        "colab": {
          "base_uri": "https://localhost:8080/",
          "height": 239
        },
        "id": "hloaycPCRRpH",
        "outputId": "67232d91-61c5-4a86-e583-00631aeeff09"
      },
      "outputs": [
        {
          "data": {
            "text/html": [
              "\n",
              "  <div id=\"df-ff90d418-b64f-4953-b853-a0cc7057cb92\">\n",
              "    <div class=\"colab-df-container\">\n",
              "      <div>\n",
              "<style scoped>\n",
              "    .dataframe tbody tr th:only-of-type {\n",
              "        vertical-align: middle;\n",
              "    }\n",
              "\n",
              "    .dataframe tbody tr th {\n",
              "        vertical-align: top;\n",
              "    }\n",
              "\n",
              "    .dataframe thead th {\n",
              "        text-align: right;\n",
              "    }\n",
              "</style>\n",
              "<table border=\"1\" class=\"dataframe\">\n",
              "  <thead>\n",
              "    <tr style=\"text-align: right;\">\n",
              "      <th></th>\n",
              "      <th>order_id</th>\n",
              "      <th>created_date</th>\n",
              "      <th>total_paid</th>\n",
              "      <th>state</th>\n",
              "      <th>id</th>\n",
              "      <th>id_order</th>\n",
              "      <th>product_id</th>\n",
              "      <th>product_quantity</th>\n",
              "      <th>sku</th>\n",
              "      <th>unit_price</th>\n",
              "      <th>date</th>\n",
              "      <th>total_unit_price</th>\n",
              "      <th>difference</th>\n",
              "    </tr>\n",
              "  </thead>\n",
              "  <tbody>\n",
              "    <tr>\n",
              "      <th>0</th>\n",
              "      <td>241423</td>\n",
              "      <td>2017-11-06 13:10:02</td>\n",
              "      <td>136.15</td>\n",
              "      <td>Completed</td>\n",
              "      <td>1398738</td>\n",
              "      <td>241423</td>\n",
              "      <td>0</td>\n",
              "      <td>1</td>\n",
              "      <td>LAC0212</td>\n",
              "      <td>129.16</td>\n",
              "      <td>2017-11-06 12:47:20</td>\n",
              "      <td>129.16</td>\n",
              "      <td>6.99</td>\n",
              "    </tr>\n",
              "    <tr>\n",
              "      <th>1</th>\n",
              "      <td>242832</td>\n",
              "      <td>2017-12-31 17:40:03</td>\n",
              "      <td>15.76</td>\n",
              "      <td>Completed</td>\n",
              "      <td>1529178</td>\n",
              "      <td>242832</td>\n",
              "      <td>0</td>\n",
              "      <td>1</td>\n",
              "      <td>PAR0074</td>\n",
              "      <td>10.77</td>\n",
              "      <td>2017-12-31 17:26:40</td>\n",
              "      <td>10.77</td>\n",
              "      <td>4.99</td>\n",
              "    </tr>\n",
              "    <tr>\n",
              "      <th>2</th>\n",
              "      <td>243330</td>\n",
              "      <td>2017-02-16 10:59:38</td>\n",
              "      <td>84.98</td>\n",
              "      <td>Completed</td>\n",
              "      <td>1181923</td>\n",
              "      <td>243330</td>\n",
              "      <td>0</td>\n",
              "      <td>1</td>\n",
              "      <td>OWC0074</td>\n",
              "      <td>77.99</td>\n",
              "      <td>2017-02-15 17:07:44</td>\n",
              "      <td>77.99</td>\n",
              "      <td>6.99</td>\n",
              "    </tr>\n",
              "  </tbody>\n",
              "</table>\n",
              "</div>\n",
              "      <button class=\"colab-df-convert\" onclick=\"convertToInteractive('df-ff90d418-b64f-4953-b853-a0cc7057cb92')\"\n",
              "              title=\"Convert this dataframe to an interactive table.\"\n",
              "              style=\"display:none;\">\n",
              "        \n",
              "  <svg xmlns=\"http://www.w3.org/2000/svg\" height=\"24px\"viewBox=\"0 0 24 24\"\n",
              "       width=\"24px\">\n",
              "    <path d=\"M0 0h24v24H0V0z\" fill=\"none\"/>\n",
              "    <path d=\"M18.56 5.44l.94 2.06.94-2.06 2.06-.94-2.06-.94-.94-2.06-.94 2.06-2.06.94zm-11 1L8.5 8.5l.94-2.06 2.06-.94-2.06-.94L8.5 2.5l-.94 2.06-2.06.94zm10 10l.94 2.06.94-2.06 2.06-.94-2.06-.94-.94-2.06-.94 2.06-2.06.94z\"/><path d=\"M17.41 7.96l-1.37-1.37c-.4-.4-.92-.59-1.43-.59-.52 0-1.04.2-1.43.59L10.3 9.45l-7.72 7.72c-.78.78-.78 2.05 0 2.83L4 21.41c.39.39.9.59 1.41.59.51 0 1.02-.2 1.41-.59l7.78-7.78 2.81-2.81c.8-.78.8-2.07 0-2.86zM5.41 20L4 18.59l7.72-7.72 1.47 1.35L5.41 20z\"/>\n",
              "  </svg>\n",
              "      </button>\n",
              "      \n",
              "  <style>\n",
              "    .colab-df-container {\n",
              "      display:flex;\n",
              "      flex-wrap:wrap;\n",
              "      gap: 12px;\n",
              "    }\n",
              "\n",
              "    .colab-df-convert {\n",
              "      background-color: #E8F0FE;\n",
              "      border: none;\n",
              "      border-radius: 50%;\n",
              "      cursor: pointer;\n",
              "      display: none;\n",
              "      fill: #1967D2;\n",
              "      height: 32px;\n",
              "      padding: 0 0 0 0;\n",
              "      width: 32px;\n",
              "    }\n",
              "\n",
              "    .colab-df-convert:hover {\n",
              "      background-color: #E2EBFA;\n",
              "      box-shadow: 0px 1px 2px rgba(60, 64, 67, 0.3), 0px 1px 3px 1px rgba(60, 64, 67, 0.15);\n",
              "      fill: #174EA6;\n",
              "    }\n",
              "\n",
              "    [theme=dark] .colab-df-convert {\n",
              "      background-color: #3B4455;\n",
              "      fill: #D2E3FC;\n",
              "    }\n",
              "\n",
              "    [theme=dark] .colab-df-convert:hover {\n",
              "      background-color: #434B5C;\n",
              "      box-shadow: 0px 1px 3px 1px rgba(0, 0, 0, 0.15);\n",
              "      filter: drop-shadow(0px 1px 2px rgba(0, 0, 0, 0.3));\n",
              "      fill: #FFFFFF;\n",
              "    }\n",
              "  </style>\n",
              "\n",
              "      <script>\n",
              "        const buttonEl =\n",
              "          document.querySelector('#df-ff90d418-b64f-4953-b853-a0cc7057cb92 button.colab-df-convert');\n",
              "        buttonEl.style.display =\n",
              "          google.colab.kernel.accessAllowed ? 'block' : 'none';\n",
              "\n",
              "        async function convertToInteractive(key) {\n",
              "          const element = document.querySelector('#df-ff90d418-b64f-4953-b853-a0cc7057cb92');\n",
              "          const dataTable =\n",
              "            await google.colab.kernel.invokeFunction('convertToInteractive',\n",
              "                                                     [key], {});\n",
              "          if (!dataTable) return;\n",
              "\n",
              "          const docLinkHtml = 'Like what you see? Visit the ' +\n",
              "            '<a target=\"_blank\" href=https://colab.research.google.com/notebooks/data_table.ipynb>data table notebook</a>'\n",
              "            + ' to learn more about interactive tables.';\n",
              "          element.innerHTML = '';\n",
              "          dataTable['output_type'] = 'display_data';\n",
              "          await google.colab.output.renderOutput(dataTable, element);\n",
              "          const docLink = document.createElement('div');\n",
              "          docLink.innerHTML = docLinkHtml;\n",
              "          element.appendChild(docLink);\n",
              "        }\n",
              "      </script>\n",
              "    </div>\n",
              "  </div>\n",
              "  "
            ],
            "text/plain": [
              "   order_id        created_date  total_paid      state       id  id_order  \\\n",
              "0    241423 2017-11-06 13:10:02      136.15  Completed  1398738    241423   \n",
              "1    242832 2017-12-31 17:40:03       15.76  Completed  1529178    242832   \n",
              "2    243330 2017-02-16 10:59:38       84.98  Completed  1181923    243330   \n",
              "\n",
              "   product_id  product_quantity      sku  unit_price                date  \\\n",
              "0           0                 1  LAC0212      129.16 2017-11-06 12:47:20   \n",
              "1           0                 1  PAR0074       10.77 2017-12-31 17:26:40   \n",
              "2           0                 1  OWC0074       77.99 2017-02-15 17:07:44   \n",
              "\n",
              "   total_unit_price  difference  \n",
              "0            129.16        6.99  \n",
              "1             10.77        4.99  \n",
              "2             77.99        6.99  "
            ]
          },
          "execution_count": 66,
          "metadata": {},
          "output_type": "execute_result"
        }
      ],
      "source": [
        "diff_df['difference'] = diff_df['total_paid'] - diff_df['total_unit_price']\n",
        "\n",
        "diff_df.head(3)"
      ]
    },
    {
      "cell_type": "code",
      "execution_count": null,
      "metadata": {
        "colab": {
          "base_uri": "https://localhost:8080/"
        },
        "id": "IIRwtLGYT3e3",
        "outputId": "327e317d-22c5-4c62-da16-4f12853cc0ca"
      },
      "outputs": [
        {
          "data": {
            "text/plain": [
              "79.79"
            ]
          },
          "execution_count": 67,
          "metadata": {},
          "output_type": "execute_result"
        }
      ],
      "source": [
        "diff_df.difference.mean().round(2)"
      ]
    },
    {
      "cell_type": "code",
      "execution_count": null,
      "metadata": {
        "colab": {
          "base_uri": "https://localhost:8080/",
          "height": 445
        },
        "id": "53tFu8MHUHzN",
        "outputId": "0280f75b-2770-4780-fa79-3726a4d3bc1d"
      },
      "outputs": [
        {
          "data": {
            "image/png": "[encoded data removed]",
            "text/plain": [
              "<Figure size 800x500 with 1 Axes>"
            ]
          },
          "metadata": {},
          "output_type": "display_data"
        }
      ],
      "source": [
        "diff_df.difference.hist(bins= 50, figsize=(8,5));"
      ]
    },
    {
      "cell_type": "code",
      "execution_count": null,
      "metadata": {
        "colab": {
          "base_uri": "https://localhost:8080/"
        },
        "id": "v1HoF700UYdi",
        "outputId": "2b9469dc-1465-40b9-fa9b-0bd8024f890d"
      },
      "outputs": [
        {
          "data": {
            "text/plain": [
              "count   56714.00\n",
              "mean       79.79\n",
              "std       192.53\n",
              "min      -165.00\n",
              "25%         3.99\n",
              "50%         6.99\n",
              "75%        59.99\n",
              "max      4157.88\n",
              "Name: difference, dtype: float64"
            ]
          },
          "execution_count": 69,
          "metadata": {},
          "output_type": "execute_result"
        }
      ],
      "source": [
        "diff_df.difference.describe()"
      ]
    },
    {
      "cell_type": "code",
      "execution_count": null,
      "metadata": {
        "colab": {
          "base_uri": "https://localhost:8080/",
          "height": 641
        },
        "id": "cCrgUSfqV24u",
        "outputId": "e83ed8e7-498d-4e3b-9d5c-ebf7306c44a6"
      },
      "outputs": [
        {
          "data": {
            "text/html": [
              "\n",
              "  <div id=\"df-c3acd780-5d15-46f0-9eaf-c8c143afd262\">\n",
              "    <div class=\"colab-df-container\">\n",
              "      <div>\n",
              "<style scoped>\n",
              "    .dataframe tbody tr th:only-of-type {\n",
              "        vertical-align: middle;\n",
              "    }\n",
              "\n",
              "    .dataframe tbody tr th {\n",
              "        vertical-align: top;\n",
              "    }\n",
              "\n",
              "    .dataframe thead th {\n",
              "        text-align: right;\n",
              "    }\n",
              "</style>\n",
              "<table border=\"1\" class=\"dataframe\">\n",
              "  <thead>\n",
              "    <tr style=\"text-align: right;\">\n",
              "      <th></th>\n",
              "      <th>order_id</th>\n",
              "      <th>created_date</th>\n",
              "      <th>total_paid</th>\n",
              "      <th>state</th>\n",
              "      <th>id</th>\n",
              "      <th>id_order</th>\n",
              "      <th>product_id</th>\n",
              "      <th>product_quantity</th>\n",
              "      <th>sku</th>\n",
              "      <th>unit_price</th>\n",
              "      <th>date</th>\n",
              "      <th>total_unit_price</th>\n",
              "      <th>difference</th>\n",
              "    </tr>\n",
              "  </thead>\n",
              "  <tbody>\n",
              "    <tr>\n",
              "      <th>5</th>\n",
              "      <td>246018</td>\n",
              "      <td>2017-02-13 23:02:57</td>\n",
              "      <td>211.95</td>\n",
              "      <td>Completed</td>\n",
              "      <td>1179702</td>\n",
              "      <td>246018</td>\n",
              "      <td>0</td>\n",
              "      <td>1</td>\n",
              "      <td>IFX0055</td>\n",
              "      <td>93.99</td>\n",
              "      <td>2017-02-13 22:34:47</td>\n",
              "      <td>93.99</td>\n",
              "      <td>117.96</td>\n",
              "    </tr>\n",
              "    <tr>\n",
              "      <th>6</th>\n",
              "      <td>246018</td>\n",
              "      <td>2017-02-13 23:02:57</td>\n",
              "      <td>211.95</td>\n",
              "      <td>Completed</td>\n",
              "      <td>1179711</td>\n",
              "      <td>246018</td>\n",
              "      <td>0</td>\n",
              "      <td>1</td>\n",
              "      <td>TUC0308</td>\n",
              "      <td>24.99</td>\n",
              "      <td>2017-02-13 22:39:20</td>\n",
              "      <td>24.99</td>\n",
              "      <td>186.96</td>\n",
              "    </tr>\n",
              "    <tr>\n",
              "      <th>7</th>\n",
              "      <td>246018</td>\n",
              "      <td>2017-02-13 23:02:57</td>\n",
              "      <td>211.95</td>\n",
              "      <td>Completed</td>\n",
              "      <td>1179733</td>\n",
              "      <td>246018</td>\n",
              "      <td>0</td>\n",
              "      <td>1</td>\n",
              "      <td>IFX0020</td>\n",
              "      <td>7.99</td>\n",
              "      <td>2017-02-13 23:00:00</td>\n",
              "      <td>7.99</td>\n",
              "      <td>203.96</td>\n",
              "    </tr>\n",
              "    <tr>\n",
              "      <th>8</th>\n",
              "      <td>246018</td>\n",
              "      <td>2017-02-13 23:02:57</td>\n",
              "      <td>211.95</td>\n",
              "      <td>Completed</td>\n",
              "      <td>1180035</td>\n",
              "      <td>246018</td>\n",
              "      <td>0</td>\n",
              "      <td>1</td>\n",
              "      <td>MOP0089</td>\n",
              "      <td>79.99</td>\n",
              "      <td>2017-02-14 10:38:35</td>\n",
              "      <td>79.99</td>\n",
              "      <td>131.96</td>\n",
              "    </tr>\n",
              "    <tr>\n",
              "      <th>9</th>\n",
              "      <td>246405</td>\n",
              "      <td>2017-11-24 10:01:27</td>\n",
              "      <td>407.96</td>\n",
              "      <td>Completed</td>\n",
              "      <td>1434161</td>\n",
              "      <td>246405</td>\n",
              "      <td>0</td>\n",
              "      <td>1</td>\n",
              "      <td>CRU0051</td>\n",
              "      <td>121.91</td>\n",
              "      <td>2017-11-24 09:40:44</td>\n",
              "      <td>121.91</td>\n",
              "      <td>286.05</td>\n",
              "    </tr>\n",
              "    <tr>\n",
              "      <th>...</th>\n",
              "      <td>...</td>\n",
              "      <td>...</td>\n",
              "      <td>...</td>\n",
              "      <td>...</td>\n",
              "      <td>...</td>\n",
              "      <td>...</td>\n",
              "      <td>...</td>\n",
              "      <td>...</td>\n",
              "      <td>...</td>\n",
              "      <td>...</td>\n",
              "      <td>...</td>\n",
              "      <td>...</td>\n",
              "      <td>...</td>\n",
              "    </tr>\n",
              "    <tr>\n",
              "      <th>56639</th>\n",
              "      <td>526529</td>\n",
              "      <td>2018-03-13 16:56:05</td>\n",
              "      <td>50.99</td>\n",
              "      <td>Completed</td>\n",
              "      <td>1648482</td>\n",
              "      <td>526529</td>\n",
              "      <td>0</td>\n",
              "      <td>1</td>\n",
              "      <td>APP1685</td>\n",
              "      <td>9.00</td>\n",
              "      <td>2018-03-13 16:42:38</td>\n",
              "      <td>9.00</td>\n",
              "      <td>41.99</td>\n",
              "    </tr>\n",
              "    <tr>\n",
              "      <th>56650</th>\n",
              "      <td>526615</td>\n",
              "      <td>2018-03-13 19:41:35</td>\n",
              "      <td>868.96</td>\n",
              "      <td>Completed</td>\n",
              "      <td>1648660</td>\n",
              "      <td>526615</td>\n",
              "      <td>0</td>\n",
              "      <td>1</td>\n",
              "      <td>STA0016</td>\n",
              "      <td>9.99</td>\n",
              "      <td>2018-03-13 19:28:54</td>\n",
              "      <td>9.99</td>\n",
              "      <td>858.97</td>\n",
              "    </tr>\n",
              "    <tr>\n",
              "      <th>56651</th>\n",
              "      <td>526615</td>\n",
              "      <td>2018-03-13 19:41:35</td>\n",
              "      <td>868.96</td>\n",
              "      <td>Completed</td>\n",
              "      <td>1648662</td>\n",
              "      <td>526615</td>\n",
              "      <td>0</td>\n",
              "      <td>1</td>\n",
              "      <td>LGE0057</td>\n",
              "      <td>749.00</td>\n",
              "      <td>2018-03-13 19:29:26</td>\n",
              "      <td>749.00</td>\n",
              "      <td>119.96</td>\n",
              "    </tr>\n",
              "    <tr>\n",
              "      <th>56652</th>\n",
              "      <td>526615</td>\n",
              "      <td>2018-03-13 19:41:35</td>\n",
              "      <td>868.96</td>\n",
              "      <td>Completed</td>\n",
              "      <td>1648664</td>\n",
              "      <td>526615</td>\n",
              "      <td>0</td>\n",
              "      <td>1</td>\n",
              "      <td>MAT0010</td>\n",
              "      <td>69.99</td>\n",
              "      <td>2018-03-13 19:30:16</td>\n",
              "      <td>69.99</td>\n",
              "      <td>798.97</td>\n",
              "    </tr>\n",
              "    <tr>\n",
              "      <th>56653</th>\n",
              "      <td>526615</td>\n",
              "      <td>2018-03-13 19:41:35</td>\n",
              "      <td>868.96</td>\n",
              "      <td>Completed</td>\n",
              "      <td>1648668</td>\n",
              "      <td>526615</td>\n",
              "      <td>0</td>\n",
              "      <td>1</td>\n",
              "      <td>LOG0203</td>\n",
              "      <td>32.99</td>\n",
              "      <td>2018-03-13 19:33:12</td>\n",
              "      <td>32.99</td>\n",
              "      <td>835.97</td>\n",
              "    </tr>\n",
              "  </tbody>\n",
              "</table>\n",
              "<p>18478 rows × 13 columns</p>\n",
              "</div>\n",
              "      <button class=\"colab-df-convert\" onclick=\"convertToInteractive('df-c3acd780-5d15-46f0-9eaf-c8c143afd262')\"\n",
              "              title=\"Convert this dataframe to an interactive table.\"\n",
              "              style=\"display:none;\">\n",
              "        \n",
              "  <svg xmlns=\"http://www.w3.org/2000/svg\" height=\"24px\"viewBox=\"0 0 24 24\"\n",
              "       width=\"24px\">\n",
              "    <path d=\"M0 0h24v24H0V0z\" fill=\"none\"/>\n",
              "    <path d=\"M18.56 5.44l.94 2.06.94-2.06 2.06-.94-2.06-.94-.94-2.06-.94 2.06-2.06.94zm-11 1L8.5 8.5l.94-2.06 2.06-.94-2.06-.94L8.5 2.5l-.94 2.06-2.06.94zm10 10l.94 2.06.94-2.06 2.06-.94-2.06-.94-.94-2.06-.94 2.06-2.06.94z\"/><path d=\"M17.41 7.96l-1.37-1.37c-.4-.4-.92-.59-1.43-.59-.52 0-1.04.2-1.43.59L10.3 9.45l-7.72 7.72c-.78.78-.78 2.05 0 2.83L4 21.41c.39.39.9.59 1.41.59.51 0 1.02-.2 1.41-.59l7.78-7.78 2.81-2.81c.8-.78.8-2.07 0-2.86zM5.41 20L4 18.59l7.72-7.72 1.47 1.35L5.41 20z\"/>\n",
              "  </svg>\n",
              "      </button>\n",
              "      \n",
              "  <style>\n",
              "    .colab-df-container {\n",
              "      display:flex;\n",
              "      flex-wrap:wrap;\n",
              "      gap: 12px;\n",
              "    }\n",
              "\n",
              "    .colab-df-convert {\n",
              "      background-color: #E8F0FE;\n",
              "      border: none;\n",
              "      border-radius: 50%;\n",
              "      cursor: pointer;\n",
              "      display: none;\n",
              "      fill: #1967D2;\n",
              "      height: 32px;\n",
              "      padding: 0 0 0 0;\n",
              "      width: 32px;\n",
              "    }\n",
              "\n",
              "    .colab-df-convert:hover {\n",
              "      background-color: #E2EBFA;\n",
              "      box-shadow: 0px 1px 2px rgba(60, 64, 67, 0.3), 0px 1px 3px 1px rgba(60, 64, 67, 0.15);\n",
              "      fill: #174EA6;\n",
              "    }\n",
              "\n",
              "    [theme=dark] .colab-df-convert {\n",
              "      background-color: #3B4455;\n",
              "      fill: #D2E3FC;\n",
              "    }\n",
              "\n",
              "    [theme=dark] .colab-df-convert:hover {\n",
              "      background-color: #434B5C;\n",
              "      box-shadow: 0px 1px 3px 1px rgba(0, 0, 0, 0.15);\n",
              "      filter: drop-shadow(0px 1px 2px rgba(0, 0, 0, 0.3));\n",
              "      fill: #FFFFFF;\n",
              "    }\n",
              "  </style>\n",
              "\n",
              "      <script>\n",
              "        const buttonEl =\n",
              "          document.querySelector('#df-c3acd780-5d15-46f0-9eaf-c8c143afd262 button.colab-df-convert');\n",
              "        buttonEl.style.display =\n",
              "          google.colab.kernel.accessAllowed ? 'block' : 'none';\n",
              "\n",
              "        async function convertToInteractive(key) {\n",
              "          const element = document.querySelector('#df-c3acd780-5d15-46f0-9eaf-c8c143afd262');\n",
              "          const dataTable =\n",
              "            await google.colab.kernel.invokeFunction('convertToInteractive',\n",
              "                                                     [key], {});\n",
              "          if (!dataTable) return;\n",
              "\n",
              "          const docLinkHtml = 'Like what you see? Visit the ' +\n",
              "            '<a target=\"_blank\" href=https://colab.research.google.com/notebooks/data_table.ipynb>data table notebook</a>'\n",
              "            + ' to learn more about interactive tables.';\n",
              "          element.innerHTML = '';\n",
              "          dataTable['output_type'] = 'display_data';\n",
              "          await google.colab.output.renderOutput(dataTable, element);\n",
              "          const docLink = document.createElement('div');\n",
              "          docLink.innerHTML = docLinkHtml;\n",
              "          element.appendChild(docLink);\n",
              "        }\n",
              "      </script>\n",
              "    </div>\n",
              "  </div>\n",
              "  "
            ],
            "text/plain": [
              "       order_id        created_date  total_paid      state       id  id_order  \\\n",
              "5        246018 2017-02-13 23:02:57      211.95  Completed  1179702    246018   \n",
              "6        246018 2017-02-13 23:02:57      211.95  Completed  1179711    246018   \n",
              "7        246018 2017-02-13 23:02:57      211.95  Completed  1179733    246018   \n",
              "8        246018 2017-02-13 23:02:57      211.95  Completed  1180035    246018   \n",
              "9        246405 2017-11-24 10:01:27      407.96  Completed  1434161    246405   \n",
              "...         ...                 ...         ...        ...      ...       ...   \n",
              "56639    526529 2018-03-13 16:56:05       50.99  Completed  1648482    526529   \n",
              "56650    526615 2018-03-13 19:41:35      868.96  Completed  1648660    526615   \n",
              "56651    526615 2018-03-13 19:41:35      868.96  Completed  1648662    526615   \n",
              "56652    526615 2018-03-13 19:41:35      868.96  Completed  1648664    526615   \n",
              "56653    526615 2018-03-13 19:41:35      868.96  Completed  1648668    526615   \n",
              "\n",
              "       product_id  product_quantity      sku  unit_price                date  \\\n",
              "5               0                 1  IFX0055       93.99 2017-02-13 22:34:47   \n",
              "6               0                 1  TUC0308       24.99 2017-02-13 22:39:20   \n",
              "7               0                 1  IFX0020        7.99 2017-02-13 23:00:00   \n",
              "8               0                 1  MOP0089       79.99 2017-02-14 10:38:35   \n",
              "9               0                 1  CRU0051      121.91 2017-11-24 09:40:44   \n",
              "...           ...               ...      ...         ...                 ...   \n",
              "56639           0                 1  APP1685        9.00 2018-03-13 16:42:38   \n",
              "56650           0                 1  STA0016        9.99 2018-03-13 19:28:54   \n",
              "56651           0                 1  LGE0057      749.00 2018-03-13 19:29:26   \n",
              "56652           0                 1  MAT0010       69.99 2018-03-13 19:30:16   \n",
              "56653           0                 1  LOG0203       32.99 2018-03-13 19:33:12   \n",
              "\n",
              "       total_unit_price  difference  \n",
              "5                 93.99      117.96  \n",
              "6                 24.99      186.96  \n",
              "7                  7.99      203.96  \n",
              "8                 79.99      131.96  \n",
              "9                121.91      286.05  \n",
              "...                 ...         ...  \n",
              "56639              9.00       41.99  \n",
              "56650              9.99      858.97  \n",
              "56651            749.00      119.96  \n",
              "56652             69.99      798.97  \n",
              "56653             32.99      835.97  \n",
              "\n",
              "[18478 rows x 13 columns]"
            ]
          },
          "execution_count": 70,
          "metadata": {},
          "output_type": "execute_result"
        }
      ],
      "source": [
        "diff_df.loc[diff_df.difference > 30, ]"
      ]
    },
    {
      "cell_type": "markdown",
      "metadata": {
        "id": "1UCWQggSWykd"
      },
      "source": [
        "There's a rule of thumb, that anything:\n",
        "\n",
        "lower than the 25% quartile - (1.5 x interquartile range), or\n",
        "higher than the 75% quartile + (1.5 x interquartile range)\n",
        "is an outlier.\n",
        "\n",
        "Let's use this rule to try and exclude any corrupted data."
      ]
    },
    {
      "cell_type": "code",
      "execution_count": null,
      "metadata": {
        "id": "v_wMxmg5Wx1-"
      },
      "outputs": [],
      "source": [
        "# calculate the quartiles\n",
        "Q1 = diff_df[\"difference\"].quantile(0.25)\n",
        "Q3 = diff_df[\"difference\"].quantile(0.75)\n",
        "\n",
        "# calculate the interquartile range\n",
        "IQR = Q3-Q1\n",
        "\n",
        "# filter the DataFrame to include only \"non-outliers\"\n",
        "diff_no_outliers_df = diff_df.loc[(diff_df[\"difference\"] >= (Q1 - 1.5*IQR)) & (diff_df[\"difference\"] <= (Q3 + 1.5*IQR))]"
      ]
    },
    {
      "cell_type": "code",
      "execution_count": null,
      "metadata": {
        "colab": {
          "base_uri": "https://localhost:8080/",
          "height": 522
        },
        "id": "poMvnLnCW9IS",
        "outputId": "a5338686-efe3-486f-b276-eb15478d426e"
      },
      "outputs": [
        {
          "data": {
            "image/png": "[encoded data removed]",
            "text/plain": [
              "<Figure size 800x600 with 1 Axes>"
            ]
          },
          "metadata": {},
          "output_type": "display_data"
        }
      ],
      "source": [
        "diff_no_outliers_df.difference.hist(bins= 20, figsize=(8,6));"
      ]
    },
    {
      "cell_type": "code",
      "execution_count": null,
      "metadata": {
        "id": "emaP2ixfXOnl"
      },
      "outputs": [],
      "source": [
        "normal_diff_list = list(diff_no_outliers_df[\"order_id\"])"
      ]
    },
    {
      "cell_type": "code",
      "execution_count": null,
      "metadata": {
        "id": "LhtUjj5OXRAi"
      },
      "outputs": [],
      "source": [
        "orders_qu = orders_qu.loc[orders_qu[\"order_id\"].isin(normal_diff_list), :]\n",
        "orderlines_qu = orderlines_qu.loc[orderlines[\"id_order\"].isin(normal_diff_list), :]"
      ]
    },
    {
      "cell_type": "code",
      "execution_count": null,
      "metadata": {
        "colab": {
          "base_uri": "https://localhost:8080/"
        },
        "id": "MMF9ngBnXZbP",
        "outputId": "ddef6529-e1d5-4ee3-cd15-ebe222d9e658"
      },
      "outputs": [
        {
          "data": {
            "text/plain": [
              "(41549, 41549)"
            ]
          },
          "execution_count": 75,
          "metadata": {},
          "output_type": "execute_result"
        }
      ],
      "source": [
        "len(orders_qu[\"order_id\"].unique()), len(orderlines_qu[\"id_order\"].unique())"
      ]
    },
    {
      "cell_type": "markdown",
      "metadata": {
        "id": "7vf_V_fVtaSN"
      },
      "source": [
        "## Data Analysis"
      ]
    },
    {
      "cell_type": "code",
      "execution_count": null,
      "metadata": {
        "colab": {
          "base_uri": "https://localhost:8080/",
          "height": 112
        },
        "id": "X_DxhZZwTy-A",
        "outputId": "f7f4db27-7a3c-4e84-bab6-cf1226180094"
      },
      "outputs": [
        {
          "data": {
            "text/html": [
              "\n",
              "  <div id=\"df-b0c3dc5b-3aae-48f6-82b2-a7ad19f294ed\">\n",
              "    <div class=\"colab-df-container\">\n",
              "      <div>\n",
              "<style scoped>\n",
              "    .dataframe tbody tr th:only-of-type {\n",
              "        vertical-align: middle;\n",
              "    }\n",
              "\n",
              "    .dataframe tbody tr th {\n",
              "        vertical-align: top;\n",
              "    }\n",
              "\n",
              "    .dataframe thead th {\n",
              "        text-align: right;\n",
              "    }\n",
              "</style>\n",
              "<table border=\"1\" class=\"dataframe\">\n",
              "  <thead>\n",
              "    <tr style=\"text-align: right;\">\n",
              "      <th></th>\n",
              "      <th>sku</th>\n",
              "      <th>name</th>\n",
              "      <th>desc</th>\n",
              "      <th>price</th>\n",
              "      <th>in_stock</th>\n",
              "      <th>type</th>\n",
              "    </tr>\n",
              "  </thead>\n",
              "  <tbody>\n",
              "    <tr>\n",
              "      <th>0</th>\n",
              "      <td>RAI0007</td>\n",
              "      <td>Silver Rain Design mStand Support</td>\n",
              "      <td>Aluminum support compatible with all MacBook</td>\n",
              "      <td>59.99</td>\n",
              "      <td>1</td>\n",
              "      <td>8696</td>\n",
              "    </tr>\n",
              "    <tr>\n",
              "      <th>1</th>\n",
              "      <td>APP0023</td>\n",
              "      <td>Apple Mac Keyboard Keypad Spanish</td>\n",
              "      <td>USB ultrathin keyboard Apple Mac Spanish.</td>\n",
              "      <td>59.00</td>\n",
              "      <td>0</td>\n",
              "      <td>13855401</td>\n",
              "    </tr>\n",
              "  </tbody>\n",
              "</table>\n",
              "</div>\n",
              "      <button class=\"colab-df-convert\" onclick=\"convertToInteractive('df-b0c3dc5b-3aae-48f6-82b2-a7ad19f294ed')\"\n",
              "              title=\"Convert this dataframe to an interactive table.\"\n",
              "              style=\"display:none;\">\n",
              "        \n",
              "  <svg xmlns=\"http://www.w3.org/2000/svg\" height=\"24px\"viewBox=\"0 0 24 24\"\n",
              "       width=\"24px\">\n",
              "    <path d=\"M0 0h24v24H0V0z\" fill=\"none\"/>\n",
              "    <path d=\"M18.56 5.44l.94 2.06.94-2.06 2.06-.94-2.06-.94-.94-2.06-.94 2.06-2.06.94zm-11 1L8.5 8.5l.94-2.06 2.06-.94-2.06-.94L8.5 2.5l-.94 2.06-2.06.94zm10 10l.94 2.06.94-2.06 2.06-.94-2.06-.94-.94-2.06-.94 2.06-2.06.94z\"/><path d=\"M17.41 7.96l-1.37-1.37c-.4-.4-.92-.59-1.43-.59-.52 0-1.04.2-1.43.59L10.3 9.45l-7.72 7.72c-.78.78-.78 2.05 0 2.83L4 21.41c.39.39.9.59 1.41.59.51 0 1.02-.2 1.41-.59l7.78-7.78 2.81-2.81c.8-.78.8-2.07 0-2.86zM5.41 20L4 18.59l7.72-7.72 1.47 1.35L5.41 20z\"/>\n",
              "  </svg>\n",
              "      </button>\n",
              "      \n",
              "  <style>\n",
              "    .colab-df-container {\n",
              "      display:flex;\n",
              "      flex-wrap:wrap;\n",
              "      gap: 12px;\n",
              "    }\n",
              "\n",
              "    .colab-df-convert {\n",
              "      background-color: #E8F0FE;\n",
              "      border: none;\n",
              "      border-radius: 50%;\n",
              "      cursor: pointer;\n",
              "      display: none;\n",
              "      fill: #1967D2;\n",
              "      height: 32px;\n",
              "      padding: 0 0 0 0;\n",
              "      width: 32px;\n",
              "    }\n",
              "\n",
              "    .colab-df-convert:hover {\n",
              "      background-color: #E2EBFA;\n",
              "      box-shadow: 0px 1px 2px rgba(60, 64, 67, 0.3), 0px 1px 3px 1px rgba(60, 64, 67, 0.15);\n",
              "      fill: #174EA6;\n",
              "    }\n",
              "\n",
              "    [theme=dark] .colab-df-convert {\n",
              "      background-color: #3B4455;\n",
              "      fill: #D2E3FC;\n",
              "    }\n",
              "\n",
              "    [theme=dark] .colab-df-convert:hover {\n",
              "      background-color: #434B5C;\n",
              "      box-shadow: 0px 1px 3px 1px rgba(0, 0, 0, 0.15);\n",
              "      filter: drop-shadow(0px 1px 2px rgba(0, 0, 0, 0.3));\n",
              "      fill: #FFFFFF;\n",
              "    }\n",
              "  </style>\n",
              "\n",
              "      <script>\n",
              "        const buttonEl =\n",
              "          document.querySelector('#df-b0c3dc5b-3aae-48f6-82b2-a7ad19f294ed button.colab-df-convert');\n",
              "        buttonEl.style.display =\n",
              "          google.colab.kernel.accessAllowed ? 'block' : 'none';\n",
              "\n",
              "        async function convertToInteractive(key) {\n",
              "          const element = document.querySelector('#df-b0c3dc5b-3aae-48f6-82b2-a7ad19f294ed');\n",
              "          const dataTable =\n",
              "            await google.colab.kernel.invokeFunction('convertToInteractive',\n",
              "                                                     [key], {});\n",
              "          if (!dataTable) return;\n",
              "\n",
              "          const docLinkHtml = 'Like what you see? Visit the ' +\n",
              "            '<a target=\"_blank\" href=https://colab.research.google.com/notebooks/data_table.ipynb>data table notebook</a>'\n",
              "            + ' to learn more about interactive tables.';\n",
              "          element.innerHTML = '';\n",
              "          dataTable['output_type'] = 'display_data';\n",
              "          await google.colab.output.renderOutput(dataTable, element);\n",
              "          const docLink = document.createElement('div');\n",
              "          docLink.innerHTML = docLinkHtml;\n",
              "          element.appendChild(docLink);\n",
              "        }\n",
              "      </script>\n",
              "    </div>\n",
              "  </div>\n",
              "  "
            ],
            "text/plain": [
              "       sku                               name  \\\n",
              "0  RAI0007  Silver Rain Design mStand Support   \n",
              "1  APP0023  Apple Mac Keyboard Keypad Spanish   \n",
              "\n",
              "                                           desc  price  in_stock      type  \n",
              "0  Aluminum support compatible with all MacBook  59.99         1      8696  \n",
              "1     USB ultrathin keyboard Apple Mac Spanish.  59.00         0  13855401  "
            ]
          },
          "execution_count": 76,
          "metadata": {},
          "output_type": "execute_result"
        }
      ],
      "source": [
        "products_cl.head(2)"
      ]
    },
    {
      "cell_type": "code",
      "execution_count": null,
      "metadata": {
        "colab": {
          "base_uri": "https://localhost:8080/",
          "height": 112
        },
        "id": "K3PTNLQH3zwH",
        "outputId": "0b029b0d-d486-424c-d4a6-967aceed3700"
      },
      "outputs": [
        {
          "data": {
            "text/html": [
              "\n",
              "  <div id=\"df-d57b66ac-6340-4f60-85b7-ba2f56b821d9\">\n",
              "    <div class=\"colab-df-container\">\n",
              "      <div>\n",
              "<style scoped>\n",
              "    .dataframe tbody tr th:only-of-type {\n",
              "        vertical-align: middle;\n",
              "    }\n",
              "\n",
              "    .dataframe tbody tr th {\n",
              "        vertical-align: top;\n",
              "    }\n",
              "\n",
              "    .dataframe thead th {\n",
              "        text-align: right;\n",
              "    }\n",
              "</style>\n",
              "<table border=\"1\" class=\"dataframe\">\n",
              "  <thead>\n",
              "    <tr style=\"text-align: right;\">\n",
              "      <th></th>\n",
              "      <th>id</th>\n",
              "      <th>id_order</th>\n",
              "      <th>product_id</th>\n",
              "      <th>product_quantity</th>\n",
              "      <th>sku</th>\n",
              "      <th>unit_price</th>\n",
              "      <th>date</th>\n",
              "    </tr>\n",
              "  </thead>\n",
              "  <tbody>\n",
              "    <tr>\n",
              "      <th>59967</th>\n",
              "      <td>1238694</td>\n",
              "      <td>351259</td>\n",
              "      <td>0</td>\n",
              "      <td>1</td>\n",
              "      <td>WAC0236</td>\n",
              "      <td>34.99</td>\n",
              "      <td>2017-04-30 12:58:48</td>\n",
              "    </tr>\n",
              "    <tr>\n",
              "      <th>208450</th>\n",
              "      <td>1508191</td>\n",
              "      <td>468203</td>\n",
              "      <td>0</td>\n",
              "      <td>1</td>\n",
              "      <td>APP2072</td>\n",
              "      <td>949.00</td>\n",
              "      <td>2017-12-20 18:10:48</td>\n",
              "    </tr>\n",
              "  </tbody>\n",
              "</table>\n",
              "</div>\n",
              "      <button class=\"colab-df-convert\" onclick=\"convertToInteractive('df-d57b66ac-6340-4f60-85b7-ba2f56b821d9')\"\n",
              "              title=\"Convert this dataframe to an interactive table.\"\n",
              "              style=\"display:none;\">\n",
              "        \n",
              "  <svg xmlns=\"http://www.w3.org/2000/svg\" height=\"24px\"viewBox=\"0 0 24 24\"\n",
              "       width=\"24px\">\n",
              "    <path d=\"M0 0h24v24H0V0z\" fill=\"none\"/>\n",
              "    <path d=\"M18.56 5.44l.94 2.06.94-2.06 2.06-.94-2.06-.94-.94-2.06-.94 2.06-2.06.94zm-11 1L8.5 8.5l.94-2.06 2.06-.94-2.06-.94L8.5 2.5l-.94 2.06-2.06.94zm10 10l.94 2.06.94-2.06 2.06-.94-2.06-.94-.94-2.06-.94 2.06-2.06.94z\"/><path d=\"M17.41 7.96l-1.37-1.37c-.4-.4-.92-.59-1.43-.59-.52 0-1.04.2-1.43.59L10.3 9.45l-7.72 7.72c-.78.78-.78 2.05 0 2.83L4 21.41c.39.39.9.59 1.41.59.51 0 1.02-.2 1.41-.59l7.78-7.78 2.81-2.81c.8-.78.8-2.07 0-2.86zM5.41 20L4 18.59l7.72-7.72 1.47 1.35L5.41 20z\"/>\n",
              "  </svg>\n",
              "      </button>\n",
              "      \n",
              "  <style>\n",
              "    .colab-df-container {\n",
              "      display:flex;\n",
              "      flex-wrap:wrap;\n",
              "      gap: 12px;\n",
              "    }\n",
              "\n",
              "    .colab-df-convert {\n",
              "      background-color: #E8F0FE;\n",
              "      border: none;\n",
              "      border-radius: 50%;\n",
              "      cursor: pointer;\n",
              "      display: none;\n",
              "      fill: #1967D2;\n",
              "      height: 32px;\n",
              "      padding: 0 0 0 0;\n",
              "      width: 32px;\n",
              "    }\n",
              "\n",
              "    .colab-df-convert:hover {\n",
              "      background-color: #E2EBFA;\n",
              "      box-shadow: 0px 1px 2px rgba(60, 64, 67, 0.3), 0px 1px 3px 1px rgba(60, 64, 67, 0.15);\n",
              "      fill: #174EA6;\n",
              "    }\n",
              "\n",
              "    [theme=dark] .colab-df-convert {\n",
              "      background-color: #3B4455;\n",
              "      fill: #D2E3FC;\n",
              "    }\n",
              "\n",
              "    [theme=dark] .colab-df-convert:hover {\n",
              "      background-color: #434B5C;\n",
              "      box-shadow: 0px 1px 3px 1px rgba(0, 0, 0, 0.15);\n",
              "      filter: drop-shadow(0px 1px 2px rgba(0, 0, 0, 0.3));\n",
              "      fill: #FFFFFF;\n",
              "    }\n",
              "  </style>\n",
              "\n",
              "      <script>\n",
              "        const buttonEl =\n",
              "          document.querySelector('#df-d57b66ac-6340-4f60-85b7-ba2f56b821d9 button.colab-df-convert');\n",
              "        buttonEl.style.display =\n",
              "          google.colab.kernel.accessAllowed ? 'block' : 'none';\n",
              "\n",
              "        async function convertToInteractive(key) {\n",
              "          const element = document.querySelector('#df-d57b66ac-6340-4f60-85b7-ba2f56b821d9');\n",
              "          const dataTable =\n",
              "            await google.colab.kernel.invokeFunction('convertToInteractive',\n",
              "                                                     [key], {});\n",
              "          if (!dataTable) return;\n",
              "\n",
              "          const docLinkHtml = 'Like what you see? Visit the ' +\n",
              "            '<a target=\"_blank\" href=https://colab.research.google.com/notebooks/data_table.ipynb>data table notebook</a>'\n",
              "            + ' to learn more about interactive tables.';\n",
              "          element.innerHTML = '';\n",
              "          dataTable['output_type'] = 'display_data';\n",
              "          await google.colab.output.renderOutput(dataTable, element);\n",
              "          const docLink = document.createElement('div');\n",
              "          docLink.innerHTML = docLinkHtml;\n",
              "          element.appendChild(docLink);\n",
              "        }\n",
              "      </script>\n",
              "    </div>\n",
              "  </div>\n",
              "  "
            ],
            "text/plain": [
              "             id  id_order  product_id  product_quantity      sku  unit_price  \\\n",
              "59967   1238694    351259           0                 1  WAC0236       34.99   \n",
              "208450  1508191    468203           0                 1  APP2072      949.00   \n",
              "\n",
              "                      date  \n",
              "59967  2017-04-30 12:58:48  \n",
              "208450 2017-12-20 18:10:48  "
            ]
          },
          "execution_count": 77,
          "metadata": {},
          "output_type": "execute_result"
        }
      ],
      "source": [
        "orderlines.sample(2)"
      ]
    },
    {
      "cell_type": "code",
      "execution_count": null,
      "metadata": {
        "colab": {
          "base_uri": "https://localhost:8080/"
        },
        "id": "Ajm7EP7G4g82",
        "outputId": "ebcb1824-e8f5-4487-82e6-7cf32c7d7d82"
      },
      "outputs": [
        {
          "name": "stdout",
          "output_type": "stream",
          "text": [
            "<class 'pandas.core.frame.DataFrame'>\n",
            "Int64Index: 209500 entries, 0 to 209499\n",
            "Data columns (total 12 columns):\n",
            " #   Column            Non-Null Count   Dtype         \n",
            "---  ------            --------------   -----         \n",
            " 0   sku               209500 non-null  object        \n",
            " 1   name              209500 non-null  object        \n",
            " 2   desc              209500 non-null  object        \n",
            " 3   price             209500 non-null  float64       \n",
            " 4   in_stock          209500 non-null  int64         \n",
            " 5   type              209330 non-null  object        \n",
            " 6   id                209500 non-null  int64         \n",
            " 7   id_order          209500 non-null  int64         \n",
            " 8   product_id        209500 non-null  int64         \n",
            " 9   product_quantity  209500 non-null  int64         \n",
            " 10  unit_price        209500 non-null  float64       \n",
            " 11  date              209500 non-null  datetime64[ns]\n",
            "dtypes: datetime64[ns](1), float64(2), int64(5), object(4)\n",
            "memory usage: 20.8+ MB\n"
          ]
        }
      ],
      "source": [
        "merged_pr_ol = products_cl.merge(\n",
        "    orderlines,\n",
        "    how=\"inner\",\n",
        "    on=\"sku\"\n",
        ")\n",
        "merged_pr_ol.info()"
      ]
    },
    {
      "cell_type": "code",
      "execution_count": null,
      "metadata": {
        "colab": {
          "base_uri": "https://localhost:8080/"
        },
        "id": "PqbNLO3_6bQP",
        "outputId": "ef2778ad-2caf-421c-ebe2-e87e528922e2"
      },
      "outputs": [
        {
          "data": {
            "text/plain": [
              "count   6425.00\n",
              "mean       0.21\n",
              "std        0.18\n",
              "min       -0.91\n",
              "25%        0.09\n",
              "50%        0.18\n",
              "75%        0.29\n",
              "max        1.00\n",
              "Name: disscount_avg, dtype: float64"
            ]
          },
          "execution_count": 79,
          "metadata": {},
          "output_type": "execute_result"
        }
      ],
      "source": [
        "maybe_diss = merged_pr_ol.groupby('sku')[['price', 'unit_price']].agg({ 'unit_price' : 'mean', 'price' : \"mean\"})\n",
        "maybe_diss['disscount_avg'] = 1 - (maybe_diss['unit_price'] / maybe_diss['price'])\n",
        "maybe_diss['disscount_avg'].describe()"
      ]
    },
    {
      "cell_type": "code",
      "execution_count": null,
      "metadata": {
        "colab": {
          "base_uri": "https://localhost:8080/",
          "height": 439
        },
        "id": "UrbppueHcoXO",
        "outputId": "da00fffc-5b81-46b6-c459-f2c160869a8d"
      },
      "outputs": [
        {
          "data": {
            "image/png": "[encoded data removed]",
            "text/plain": [
              "<Figure size 1500x500 with 1 Axes>"
            ]
          },
          "metadata": {},
          "output_type": "display_data"
        }
      ],
      "source": [
        "import seaborn as sns\n",
        "\n",
        "sns.relplot(\n",
        "    data = merged_pr_ol,\n",
        "            x=\"price\",\n",
        "            y=\"unit_price\",\n",
        "            aspect = 3\n",
        ");"
      ]
    },
    {
      "cell_type": "markdown",
      "metadata": {
        "id": "8YLuGP3vXBET"
      },
      "source": [
        "# Categories"
      ]
    },
    {
      "cell_type": "markdown",
      "metadata": {
        "id": "gyfTHQ_GQiDH"
      },
      "source": [
        "- Computers\n",
        "  - Laptop: *MacBook and Apple, Radeon (and PACK )*, Air, iMac, Radeon\n",
        "    - Type: '1298', '1282', '1,02E+12', '2158'\n",
        "  - Desktop : *Xeon, Server*\n",
        "- Phones\n",
        "  - IPhone\n",
        "  - Samsung\n",
        "- Tablets\n",
        "  - Apple: *Ipad*\n",
        "  - Other :*Tablet*\n",
        "- Accessories\n",
        "  - Phone Cases: *Survivor, Silicone,  Protector, OtterBox; LifeProof; Leather;  Folio; Hard Shell; Cover; Case*\n",
        "  - Tablet Cases\n",
        "  - Cables/Charging: *Cable*\n",
        "  - Watch: *Strap*\n",
        "- Components\n",
        "  - Storage: *Western; Hard Drive; External; Aura*, SSD, HD, HDD\n",
        "  - Other Components\n",
        "- Imput and Output Devisec\n",
        "  - Keyboard/Mouse: Keyboard, *Touch*\n",
        "  - Audio: *Speaker; Headphones*\n",
        "  - Monitor: *Monitor*\n",
        "- Othres\n",
        "  - Watch: *Watch*\n",
        "  - *Adapter*\n"
      ]
    },
    {
      "cell_type": "code",
      "execution_count": null,
      "metadata": {
        "id": "6wSJTb3AXkzu"
      },
      "outputs": [],
      "source": [
        "brands_for_merge = brands.copy()\n",
        "brands_for_merge"
      ]
    },
    {
      "cell_type": "code",
      "execution_count": null,
      "metadata": {
        "id": "3E_Abt_NY0xU"
      },
      "outputs": [],
      "source": [
        "products_for_merge = products_cl.copy()"
      ]
    },
    {
      "cell_type": "code",
      "execution_count": null,
      "metadata": {
        "colab": {
          "base_uri": "https://localhost:8080/"
        },
        "id": "7UEC9K7FZjX4",
        "outputId": "5412bee1-e55a-4c50-a71f-cba1ae8b149c"
      },
      "outputs": [
        {
          "name": "stdout",
          "output_type": "stream",
          "text": [
            "<class 'pandas.core.frame.DataFrame'>\n",
            "Int64Index: 9986 entries, 0 to 19325\n",
            "Data columns (total 7 columns):\n",
            " #   Column     Non-Null Count  Dtype  \n",
            "---  ------     --------------  -----  \n",
            " 0   sku        9986 non-null   object \n",
            " 1   name       9986 non-null   object \n",
            " 2   desc       9986 non-null   object \n",
            " 3   price      9986 non-null   float64\n",
            " 4   in_stock   9986 non-null   int64  \n",
            " 5   type       9940 non-null   object \n",
            " 6   short sku  9986 non-null   object \n",
            "dtypes: float64(1), int64(1), object(5)\n",
            "memory usage: 624.1+ KB\n"
          ]
        }
      ],
      "source": [
        "products_for_merge['short sku'] = products_for_merge['sku'].str[:3]\n",
        "products_for_merge.info()"
      ]
    },
    {
      "cell_type": "code",
      "execution_count": null,
      "metadata": {
        "id": "78kNvKBjXDJC"
      },
      "outputs": [],
      "source": [
        "#merging brands and products (copies), to filter with long names as well\n",
        "top_30_types = brands_for_merge.merge(\n",
        "    products_for_merge,\n",
        "    how = \"inner\",\n",
        "    left_on = \"short\",\n",
        "    right_on = \"short sku\"\n",
        ").copy()\n"
      ]
    },
    {
      "cell_type": "code",
      "execution_count": null,
      "metadata": {
        "colab": {
          "base_uri": "https://localhost:8080/"
        },
        "id": "2pmHV8pMWlf-",
        "outputId": "b32dd2ce-cd8d-4968-a47a-1e8da4145991"
      },
      "outputs": [
        {
          "name": "stdout",
          "output_type": "stream",
          "text": [
            "<class 'pandas.core.frame.DataFrame'>\n",
            "Int64Index: 9800 entries, 0 to 9799\n",
            "Data columns (total 9 columns):\n",
            " #   Column     Non-Null Count  Dtype  \n",
            "---  ------     --------------  -----  \n",
            " 0   short      9800 non-null   object \n",
            " 1   long       9800 non-null   object \n",
            " 2   sku        9800 non-null   object \n",
            " 3   name       9800 non-null   object \n",
            " 4   desc       9800 non-null   object \n",
            " 5   price      9800 non-null   float64\n",
            " 6   in_stock   9800 non-null   int64  \n",
            " 7   type       9754 non-null   object \n",
            " 8   short sku  9800 non-null   object \n",
            "dtypes: float64(1), int64(1), object(7)\n",
            "memory usage: 765.6+ KB\n"
          ]
        }
      ],
      "source": [
        "top_30_types.info(2)"
      ]
    },
    {
      "cell_type": "code",
      "execution_count": null,
      "metadata": {
        "id": "HjeAvzLTXBjy"
      },
      "outputs": [],
      "source": [
        "# create the column \"category\" in the Dataframe\n",
        "top_30_types['category'] = \"\""
      ]
    },
    {
      "cell_type": "code",
      "execution_count": null,
      "metadata": {
        "id": "QWJe-JU-XWpf"
      },
      "outputs": [],
      "source": [
        "# filter and assign the categories\n",
        "top_30_types.loc[top_30_types[\"desc\"].str.contains(r\"Adapter\", case=False), \"category\"] = \"Adapter\"\n",
        "top_30_types.loc[top_30_types[\"desc\"].str.contains(r\"Strap | Watch strap\", case=False), \"category\"] = \"Strap\"\n",
        "top_30_types.loc[top_30_types[\"desc\"].str.contains(r\"Watch\", case=False), \"category\"] = \"Watch\"\n",
        "top_30_types.loc[top_30_types[\"desc\"].str.contains(r\"Keyboard | Mouse | digital pen | pointer | smart button | controller\", case=False), \"category\"] = \"Input device\"\n",
        "top_30_types.loc[top_30_types[\"desc\"].str.contains(r\"Speaker | Headphones | Headset | Amplifier\", case=False), \"category\"] = \"Output device\"\n",
        "top_30_types.loc[top_30_types[\"desc\"].str.contains(r\"Survivor | Silicone | Protector | Cover | Case\", case=False), \"category\"] = \"Case\"\n",
        "top_30_types.loc[top_30_types[\"desc\"].str.contains(r\"Cable | Charging\", case=False), \"category\"] = \"Cables\"\n",
        "top_30_types.loc[top_30_types[\"desc\"].str.contains(r\"imac|imac mini|imac pro | support | installation\", case=False), \"category\"] = \"Service\"\n",
        "top_30_types.loc[top_30_types[\"desc\"].str.contains(r\"Apple ipad\", case=False), \"category\"] = \"iPad\"\n",
        "top_30_types.loc[top_30_types[\"desc\"].str.contains(r\"Apple iphone\", case=False), \"category\"] = \"iPad\"\n",
        "top_30_types.loc[top_30_types[\"name\"].str.contains(r\"Memory\", case=False), \"category\"] = \"Ram\"\n",
        "top_30_types.loc[\n",
        "    (top_30_types['long'].str.contains(\"Apple\", case=False)) &\n",
        "    (\n",
        "        (top_30_types['desc'].str.contains(\"iphone\", case=False)) |\n",
        "        (top_30_types['name'].str.contains(\"iphone\", case=False))\n",
        "    ) &\n",
        "    (top_30_types.price > 400),\n",
        "    'category'\n",
        "] = \"IPhone\"\n",
        "\n",
        "top_30_types.loc[\n",
        "    ((top_30_types.long.str.contains('Sonnet|QNAP|Synology|Apple', case=False))  &~\n",
        "             (((top_30_types.desc.str.contains('MacBook | Air', case=False)))|\n",
        "              ((top_30_types.name.str.contains('MacBook | Air', case=False)))))&\n",
        "               (top_30_types.price > 400),\n",
        "    'category'\n",
        "] = \"Desktop\"\n",
        "\n",
        "top_30_types.loc[\n",
        "    ((top_30_types.long.str.contains('Sonnet|QNAP|Synology|Apple', case=False))  &\n",
        "             (((top_30_types.desc.str.contains('MacBook | Air', case=False)))|\n",
        "              ((top_30_types.name.str.contains('MacBook | Air', case=False)))))&\n",
        "               (top_30_types.price > 460),\n",
        "    'category'\n",
        "] = \"Apple Laptop\"\n",
        "\n",
        "top_30_types.loc[((top_30_types.desc.str.contains('Cable | Charging | charger' , case=False)) |\n",
        "                top_30_types.name.str.contains('Cable | Charging | charger' , case=False)) &\n",
        "                (top_30_types.price < 148), 'category'] = \"Cable/Charging\"\n",
        "\n",
        "top_30_types.loc[\n",
        "    ((top_30_types.desc.str.contains('Survivor | Silicone | Protector | Cover | Case' , case=False)) |\n",
        "                top_30_types.name.str.contains('Survivor | Silicone | Protector | Cover | Case' , case=False)) &\n",
        "                (top_30_types.price < 200),\n",
        "    'category'\n",
        "] = \"Case\"\n",
        "\n",
        "top_30_types.loc[(top_30_types.desc.str.contains('External | hard drive | SSD | HDD' , case=False) &\n",
        "              (top_30_types.price < 1000) &~\n",
        "               (top_30_types.long.str.contains('pack', case=False))), 'category'] = \"Hard Drive\"\n",
        "\n",
        "\n",
        "top_30_types.loc[((top_30_types.desc.str.contains('Monitor', case=False)) &\n",
        "              (top_30_types.desc.str.contains('\"'))) |\n",
        "               ((top_30_types.name.str.contains('Monitor', case=False)) |\n",
        "               (top_30_types.name.str.contains('inch'))), 'category'] = \"Monitor\"\n",
        "\n",
        "\n",
        "top_30_types.loc[(top_30_types.long.str.contains(r'Pack', case=False)), \"category\"] = \"PACK\"\n",
        "\n",
        "top_30_types.loc[top_30_types[\"long\"].str.contains(r\"Rep\", case=False), \"category\"] = \"Rep\"\n",
        "\n",
        "top_30_types.loc[(top_30_types[\"name\"].str.contains(r\"Tablet\", case=False)), \"category\"] = \"Tablet\"\n",
        "\n",
        "top_30_types.loc[top_30_types[\"name\"].str.contains(r\"server\", case=False), \"category\"] = \"Server\"\n",
        "\n",
        "top_30_types.loc[top_30_types[\"desc\"].str.contains(r\"Drone | Raid system | Base Station Dock | USB | HomeKit | Portable Printer | thermostat\", case=False), \"category\"] = \"Other devices\"\n"
      ]
    },
    {
      "cell_type": "code",
      "execution_count": null,
      "metadata": {
        "id": "5TD0JNuH3wZL"
      },
      "outputs": [],
      "source": [
        "pd.set_option('display.max_colwidth', None)"
      ]
    },
    {
      "cell_type": "code",
      "execution_count": null,
      "metadata": {
        "id": "guPcSsziW-U9"
      },
      "outputs": [],
      "source": [
        "top_30_types.loc[(top_30_types['category'] != \"PACK\") & (top_30_types['long'] == \"Pack\"), :].sample(10)"
      ]
    },
    {
      "cell_type": "code",
      "execution_count": null,
      "metadata": {
        "colab": {
          "base_uri": "https://localhost:8080/",
          "height": 49
        },
        "id": "7N02mGjcL9UR",
        "outputId": "dc5b8e16-f04a-472b-8dd0-7a37f98d657a"
      },
      "outputs": [
        {
          "data": {
            "text/html": [
              "\n",
              "  <div id=\"df-107de274-1e5d-4a16-900f-1b8735db5f5b\">\n",
              "    <div class=\"colab-df-container\">\n",
              "      <div>\n",
              "<style scoped>\n",
              "    .dataframe tbody tr th:only-of-type {\n",
              "        vertical-align: middle;\n",
              "    }\n",
              "\n",
              "    .dataframe tbody tr th {\n",
              "        vertical-align: top;\n",
              "    }\n",
              "\n",
              "    .dataframe thead th {\n",
              "        text-align: right;\n",
              "    }\n",
              "</style>\n",
              "<table border=\"1\" class=\"dataframe\">\n",
              "  <thead>\n",
              "    <tr style=\"text-align: right;\">\n",
              "      <th></th>\n",
              "      <th>short</th>\n",
              "      <th>long</th>\n",
              "      <th>sku</th>\n",
              "      <th>name</th>\n",
              "      <th>desc</th>\n",
              "      <th>price</th>\n",
              "      <th>in_stock</th>\n",
              "      <th>type</th>\n",
              "      <th>short sku</th>\n",
              "      <th>category</th>\n",
              "    </tr>\n",
              "  </thead>\n",
              "  <tbody>\n",
              "  </tbody>\n",
              "</table>\n",
              "</div>\n",
              "      <button class=\"colab-df-convert\" onclick=\"convertToInteractive('df-107de274-1e5d-4a16-900f-1b8735db5f5b')\"\n",
              "              title=\"Convert this dataframe to an interactive table.\"\n",
              "              style=\"display:none;\">\n",
              "        \n",
              "  <svg xmlns=\"http://www.w3.org/2000/svg\" height=\"24px\"viewBox=\"0 0 24 24\"\n",
              "       width=\"24px\">\n",
              "    <path d=\"M0 0h24v24H0V0z\" fill=\"none\"/>\n",
              "    <path d=\"M18.56 5.44l.94 2.06.94-2.06 2.06-.94-2.06-.94-.94-2.06-.94 2.06-2.06.94zm-11 1L8.5 8.5l.94-2.06 2.06-.94-2.06-.94L8.5 2.5l-.94 2.06-2.06.94zm10 10l.94 2.06.94-2.06 2.06-.94-2.06-.94-.94-2.06-.94 2.06-2.06.94z\"/><path d=\"M17.41 7.96l-1.37-1.37c-.4-.4-.92-.59-1.43-.59-.52 0-1.04.2-1.43.59L10.3 9.45l-7.72 7.72c-.78.78-.78 2.05 0 2.83L4 21.41c.39.39.9.59 1.41.59.51 0 1.02-.2 1.41-.59l7.78-7.78 2.81-2.81c.8-.78.8-2.07 0-2.86zM5.41 20L4 18.59l7.72-7.72 1.47 1.35L5.41 20z\"/>\n",
              "  </svg>\n",
              "      </button>\n",
              "      \n",
              "  <style>\n",
              "    .colab-df-container {\n",
              "      display:flex;\n",
              "      flex-wrap:wrap;\n",
              "      gap: 12px;\n",
              "    }\n",
              "\n",
              "    .colab-df-convert {\n",
              "      background-color: #E8F0FE;\n",
              "      border: none;\n",
              "      border-radius: 50%;\n",
              "      cursor: pointer;\n",
              "      display: none;\n",
              "      fill: #1967D2;\n",
              "      height: 32px;\n",
              "      padding: 0 0 0 0;\n",
              "      width: 32px;\n",
              "    }\n",
              "\n",
              "    .colab-df-convert:hover {\n",
              "      background-color: #E2EBFA;\n",
              "      box-shadow: 0px 1px 2px rgba(60, 64, 67, 0.3), 0px 1px 3px 1px rgba(60, 64, 67, 0.15);\n",
              "      fill: #174EA6;\n",
              "    }\n",
              "\n",
              "    [theme=dark] .colab-df-convert {\n",
              "      background-color: #3B4455;\n",
              "      fill: #D2E3FC;\n",
              "    }\n",
              "\n",
              "    [theme=dark] .colab-df-convert:hover {\n",
              "      background-color: #434B5C;\n",
              "      box-shadow: 0px 1px 3px 1px rgba(0, 0, 0, 0.15);\n",
              "      filter: drop-shadow(0px 1px 2px rgba(0, 0, 0, 0.3));\n",
              "      fill: #FFFFFF;\n",
              "    }\n",
              "  </style>\n",
              "\n",
              "      <script>\n",
              "        const buttonEl =\n",
              "          document.querySelector('#df-107de274-1e5d-4a16-900f-1b8735db5f5b button.colab-df-convert');\n",
              "        buttonEl.style.display =\n",
              "          google.colab.kernel.accessAllowed ? 'block' : 'none';\n",
              "\n",
              "        async function convertToInteractive(key) {\n",
              "          const element = document.querySelector('#df-107de274-1e5d-4a16-900f-1b8735db5f5b');\n",
              "          const dataTable =\n",
              "            await google.colab.kernel.invokeFunction('convertToInteractive',\n",
              "                                                     [key], {});\n",
              "          if (!dataTable) return;\n",
              "\n",
              "          const docLinkHtml = 'Like what you see? Visit the ' +\n",
              "            '<a target=\"_blank\" href=https://colab.research.google.com/notebooks/data_table.ipynb>data table notebook</a>'\n",
              "            + ' to learn more about interactive tables.';\n",
              "          element.innerHTML = '';\n",
              "          dataTable['output_type'] = 'display_data';\n",
              "          await google.colab.output.renderOutput(dataTable, element);\n",
              "          const docLink = document.createElement('div');\n",
              "          docLink.innerHTML = docLinkHtml;\n",
              "          element.appendChild(docLink);\n",
              "        }\n",
              "      </script>\n",
              "    </div>\n",
              "  </div>\n",
              "  "
            ],
            "text/plain": [
              "Empty DataFrame\n",
              "Columns: [short, long, sku, name, desc, price, in_stock, type, short sku, category]\n",
              "Index: []"
            ]
          },
          "execution_count": 90,
          "metadata": {},
          "output_type": "execute_result"
        }
      ],
      "source": [
        "top_30_types.loc[(top_30_types['category'] == \"iMac\"), :]"
      ]
    },
    {
      "cell_type": "markdown",
      "metadata": {
        "id": "YIiJc4MWaa8J"
      },
      "source": [
        "# Business Questions"
      ]
    },
    {
      "cell_type": "code",
      "execution_count": null,
      "metadata": {
        "colab": {
          "base_uri": "https://localhost:8080/",
          "height": 345
        },
        "id": "gHGicAaJav1T",
        "outputId": "20ff430d-4de4-4899-9b30-a4952b689684"
      },
      "outputs": [
        {
          "data": {
            "image/png": "[encoded data removed]",
            "text/plain": [
              "<Figure size 1000x400 with 1 Axes>"
            ]
          },
          "metadata": {},
          "output_type": "display_data"
        }
      ],
      "source": [
        "import pandas as pd\n",
        "from wordcloud import WordCloud\n",
        "import matplotlib.pyplot as plt\n",
        "\n",
        "# Concatenating all text data into a single string\n",
        "text = ' '.join(top_30_types['desc']) + ' '.join(top_30_types['name']) + ' '.join(top_30_types['long'])\n",
        "\n",
        "# Creating a WordCloud object and generate the word cloud\n",
        "wordcloud = WordCloud(\n",
        "    width=800,\n",
        "    height=400,\n",
        "    colormap='viridis',\n",
        "    contour_color='steelblue'\n",
        "  ).generate(text)\n",
        "\n",
        "# Displaying the word cloud using matplotlib\n",
        "plt.figure(figsize=(10, 4))\n",
        "plt.imshow(wordcloud, interpolation='bilinear')\n",
        "plt.axis('off')\n",
        "plt.show()"
      ]
    },
    {
      "cell_type": "code",
      "execution_count": null,
      "metadata": {
        "id": "eo1QCOhOB8KD"
      },
      "outputs": [],
      "source": [
        "top_30_types.loc[top_30_types[\"price\"] > 10000, :]['price']#.count()"
      ]
    },
    {
      "cell_type": "code",
      "execution_count": null,
      "metadata": {
        "colab": {
          "base_uri": "https://localhost:8080/",
          "height": 440
        },
        "id": "7W4kwHu-83gv",
        "outputId": "8c5241b9-556f-45e0-a066-f2e3240f5e60"
      },
      "outputs": [
        {
          "data": {
            "image/png": "[encoded data removed]",
            "text/plain": [
              "<Figure size 1800x600 with 1 Axes>"
            ]
          },
          "metadata": {},
          "output_type": "display_data"
        }
      ],
      "source": [
        "sns.relplot(\n",
        "    data = top_30_types,\n",
        "    x = \"price\",\n",
        "    y = 'category',\n",
        "    height = 6,\n",
        "    aspect = 3\n",
        ");"
      ]
    },
    {
      "cell_type": "code",
      "execution_count": null,
      "metadata": {
        "id": "FSxshEDfVwo0"
      },
      "outputs": [],
      "source": [
        "merged_top30_ol = top_30_types.merge(\n",
        "    orderlines,\n",
        "    how=\"inner\",\n",
        "    on=\"sku\"\n",
        ")\n",
        "merged_top30_ol.info()"
      ]
    },
    {
      "cell_type": "code",
      "execution_count": null,
      "metadata": {
        "colab": {
          "base_uri": "https://localhost:8080/"
        },
        "id": "0KHyQn9XV5dJ",
        "outputId": "0916d006-e3d2-4342-bf40-2d018b1af88f"
      },
      "outputs": [
        {
          "data": {
            "text/plain": [
              "count   21.00\n",
              "mean     0.17\n",
              "std      0.09\n",
              "min     -0.07\n",
              "25%      0.14\n",
              "50%      0.19\n",
              "75%      0.20\n",
              "max      0.37\n",
              "Name: disscount_avg, dtype: float64"
            ]
          },
          "execution_count": 96,
          "metadata": {},
          "output_type": "execute_result"
        }
      ],
      "source": [
        "maybe_diss = merged_top30_ol.groupby('category')[['price', 'unit_price']].agg({ 'unit_price' : 'mean', 'price' : \"mean\"})\n",
        "maybe_diss['disscount_avg'] = 1 - (maybe_diss['unit_price'] / maybe_diss['price'])\n",
        "maybe_diss['disscount_avg'].describe()"
      ]
    },
    {
      "cell_type": "code",
      "execution_count": 177,
      "metadata": {
        "colab": {
          "base_uri": "https://localhost:8080/",
          "height": 423
        },
        "id": "9TimIZy3XMJl",
        "outputId": "41fb1eb4-1d2e-42b2-c82c-e9da03a30887"
      },
      "outputs": [
        {
          "output_type": "display_data",
          "data": {
            "text/plain": [
              "<Figure size 1600x400 with 1 Axes>"
            ],
            "image/png": "[encoded data removed]"
          },
          "metadata": {}
        }
      ],
      "source": [
        "(\n",
        "sns.catplot(kind=\"bar\",\n",
        "            data=top_30_types,\n",
        "            x=\"category\",\n",
        "            y=\"price\",\n",
        "            height=4,\n",
        "            aspect=4,\n",
        "            palette=\"husl\")\n",
        ".set_axis_labels(\"Top products categories\",\n",
        "                     \"Prices\")\n",
        "    .figure.suptitle(\"Prices per Category\")\n",
        "    .figure.subplots_adjust(top=.90)\n",
        "\n",
        ")\n",
        "\n",
        "plt.xticks(rotation=45)\n",
        "plt.show()"
      ]
    },
    {
      "cell_type": "code",
      "source": [
        "aggregated_data = merged_top30_ol.groupby(\"date\")[\"product_quantity\"].mean()\n",
        "sns.lineplot(data=aggregated_data)\n",
        "sns.set_style(\"darkgrid\")\n",
        "plt.xlabel(\"Date\")\n",
        "plt.ylabel(\"Product Quantity\")\n",
        "plt.title(\"Product Quantity over Time\")\n",
        "plt.xticks(rotation=45)\n",
        "plt.show()"
      ],
      "metadata": {
        "colab": {
          "base_uri": "https://localhost:8080/",
          "height": 521
        },
        "id": "ccrNkU_Uxhqa",
        "outputId": "4b30b716-858f-46b5-bbcb-a5f66f902963"
      },
      "execution_count": 148,
      "outputs": [
        {
          "output_type": "display_data",
          "data": {
            "text/plain": [
              "<Figure size 640x480 with 1 Axes>"
            ],
            "image/png": "[encoded data removed]"
          },
          "metadata": {}
        }
      ]
    },
    {
      "cell_type": "code",
      "execution_count": 151,
      "metadata": {
        "colab": {
          "base_uri": "https://localhost:8080/"
        },
        "id": "2BRLhKhnguGp",
        "outputId": "8e7d93b8-664d-47ed-da32-839796a684e6"
      },
      "outputs": [
        {
          "output_type": "stream",
          "name": "stdout",
          "text": [
            "<class 'pandas.core.frame.DataFrame'>\n",
            "Int64Index: 9800 entries, 0 to 9799\n",
            "Data columns (total 10 columns):\n",
            " #   Column     Non-Null Count  Dtype  \n",
            "---  ------     --------------  -----  \n",
            " 0   short      9800 non-null   object \n",
            " 1   long       9800 non-null   object \n",
            " 2   sku        9800 non-null   object \n",
            " 3   name       9800 non-null   object \n",
            " 4   desc       9800 non-null   object \n",
            " 5   price      9800 non-null   float64\n",
            " 6   in_stock   9800 non-null   int64  \n",
            " 7   type       9754 non-null   object \n",
            " 8   short sku  9800 non-null   object \n",
            " 9   category   9800 non-null   object \n",
            "dtypes: float64(1), int64(1), object(8)\n",
            "memory usage: 1.1+ MB\n"
          ]
        }
      ],
      "source": [
        "top_30_types.info()"
      ]
    },
    {
      "cell_type": "code",
      "execution_count": 174,
      "metadata": {
        "id": "dV8PEyyCedz7",
        "colab": {
          "base_uri": "https://localhost:8080/",
          "height": 601
        },
        "outputId": "93b348dd-0f28-4a43-cb9c-258e63a071fe"
      },
      "outputs": [
        {
          "output_type": "display_data",
          "data": {
            "text/plain": [
              "<Figure size 1000x600 with 1 Axes>"
            ],
            "image/png": "[encoded data removed]"
          },
          "metadata": {}
        }
      ],
      "source": [
        "agg_data = top_30_types.groupby(\"category\")[\"price\"].mean()\n",
        "\n",
        "fig, ax = plt.subplots(figsize=(10, 6))\n",
        "\n",
        "sns.barplot(x=agg_data.index,\n",
        "            y=agg_data, ax=ax, palette = \"crest\")\n",
        "sns.set_style(\"darkgrid\")\n",
        "plt.xlabel(\"Category\")\n",
        "plt.ylabel(\"Mean Price\")\n",
        "plt.title(\"Mean Price by Category\")\n",
        "plt.xticks(rotation=60)\n",
        "plt.tight_layout()\n",
        "plt.show()"
      ]
    }
  ],
  "metadata": {
    "colab": {
      "toc_visible": true,
      "provenance": [],
      "authorship_tag": "ABX9TyMhaXPG5eqwsfaoOj7LYC+M",
      "include_colab_link": true
    },
    "kernelspec": {
      "display_name": "Python 3",
      "name": "python3"
    },
    "language_info": {
      "name": "python"
    }
  },
  "nbformat": 4,
  "nbformat_minor": 0
}